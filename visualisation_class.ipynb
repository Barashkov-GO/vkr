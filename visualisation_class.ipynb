{
 "cells": [
  {
   "cell_type": "code",
   "execution_count": 1,
   "outputs": [],
   "source": [
    "FIGURES_PATH = 'out/figures/'\n",
    "DATASETS_PATH = 'out/datasets/'\n",
    "DICTS_PATH = 'out/dicts/'\n",
    "CLUSTERS_PATH = 'out/clusters/'"
   ],
   "metadata": {
    "collapsed": false,
    "ExecuteTime": {
     "end_time": "2023-06-01T14:08:43.298725046Z",
     "start_time": "2023-06-01T14:08:43.292800405Z"
    }
   }
  },
  {
   "cell_type": "code",
   "execution_count": 2,
   "outputs": [],
   "source": [
    "import pandas as pd\n",
    "from datetime import datetime, timedelta\n",
    "import os\n",
    "import multiprocessing\n",
    "import numpy as np\n",
    "import matplotlib.pyplot as plt\n",
    "import matplotlib.colors as mcolors\n",
    "import random\n",
    "from tqdm.notebook import tqdm\n",
    "from multiprocesspandas import applyparallel\n",
    "from pandarallel import pandarallel\n",
    "import psutil\n",
    "from sys import getsizeof\n",
    "import networkx as nx\n",
    "from scipy.cluster.hierarchy import linkage, fcluster\n",
    "\n",
    "\n",
    "from netgraph import Graph, InteractiveGraph, EditableGraph\n",
    "\n",
    "import pickle\n",
    "import gc\n",
    "\n",
    "\n",
    "tqdm.pandas()\n",
    "from helper import *"
   ],
   "metadata": {
    "collapsed": false,
    "ExecuteTime": {
     "end_time": "2023-06-01T14:08:45.130638280Z",
     "start_time": "2023-06-01T14:08:43.293012685Z"
    }
   }
  },
  {
   "cell_type": "code",
   "execution_count": 3,
   "metadata": {
    "collapsed": true,
    "ExecuteTime": {
     "end_time": "2023-06-01T14:08:45.827656204Z",
     "start_time": "2023-06-01T14:08:45.137500894Z"
    }
   },
   "outputs": [
    {
     "ename": "EOFError",
     "evalue": "Ran out of input",
     "output_type": "error",
     "traceback": [
      "\u001B[0;31m---------------------------------------------------------------------------\u001B[0m",
      "\u001B[0;31mEOFError\u001B[0m                                  Traceback (most recent call last)",
      "Cell \u001B[0;32mIn[3], line 110\u001B[0m\n\u001B[1;32m     91\u001B[0m             \u001B[38;5;28;01melse\u001B[39;00m:\n\u001B[1;32m     92\u001B[0m                 g \u001B[38;5;241m=\u001B[39m Graph(edges,\n\u001B[1;32m     93\u001B[0m                           node_color\u001B[38;5;241m=\u001B[39m\u001B[38;5;124m'\u001B[39m\u001B[38;5;124mwhite\u001B[39m\u001B[38;5;124m'\u001B[39m,\n\u001B[1;32m     94\u001B[0m                           node_layout\u001B[38;5;241m=\u001B[39m\u001B[38;5;124m'\u001B[39m\u001B[38;5;124mgeometric\u001B[39m\u001B[38;5;124m'\u001B[39m,\n\u001B[0;32m   (...)\u001B[0m\n\u001B[1;32m     98\u001B[0m                           edge_labels\u001B[38;5;241m=\u001B[39medge_labels,\n\u001B[1;32m     99\u001B[0m                          )\n\u001B[0;32m--> 110\u001B[0m v \u001B[38;5;241m=\u001B[39m \u001B[43mVisualisation\u001B[49m\u001B[43m(\u001B[49m\u001B[43m)\u001B[49m\n\u001B[1;32m    111\u001B[0m v\u001B[38;5;241m.\u001B[39mset_product_names()\n\u001B[1;32m    112\u001B[0m v\u001B[38;5;241m.\u001B[39mset_clusters(clusters_path\u001B[38;5;241m=\u001B[39m\u001B[38;5;124m'\u001B[39m\u001B[38;5;124mk_means_euclidean\u001B[39m\u001B[38;5;124m'\u001B[39m)\n",
      "Cell \u001B[0;32mIn[3], line 6\u001B[0m, in \u001B[0;36mVisualisation.__init__\u001B[0;34m(self, dists_path)\u001B[0m\n\u001B[1;32m      3\u001B[0m \u001B[38;5;28mself\u001B[39m\u001B[38;5;241m.\u001B[39mnames \u001B[38;5;241m=\u001B[39m {}\n\u001B[1;32m      5\u001B[0m \u001B[38;5;28;01mwith\u001B[39;00m \u001B[38;5;28mopen\u001B[39m(CLUSTERS_PATH \u001B[38;5;241m+\u001B[39m dists_path \u001B[38;5;241m+\u001B[39m \u001B[38;5;124m'\u001B[39m\u001B[38;5;124m.pkl\u001B[39m\u001B[38;5;124m'\u001B[39m, \u001B[38;5;124m'\u001B[39m\u001B[38;5;124mrb\u001B[39m\u001B[38;5;124m'\u001B[39m) \u001B[38;5;28;01mas\u001B[39;00m f:\n\u001B[0;32m----> 6\u001B[0m     \u001B[38;5;28mself\u001B[39m\u001B[38;5;241m.\u001B[39mdists \u001B[38;5;241m=\u001B[39m \u001B[43mpickle\u001B[49m\u001B[38;5;241;43m.\u001B[39;49m\u001B[43mload\u001B[49m\u001B[43m(\u001B[49m\u001B[43mf\u001B[49m\u001B[43m)\u001B[49m\n",
      "\u001B[0;31mEOFError\u001B[0m: Ran out of input"
     ]
    }
   ],
   "source": [
    "class Visualisation:\n",
    "    def __init__(self, dists_path='dists'):\n",
    "        self.names = {}\n",
    "        self.clusters = None\n",
    "\n",
    "        with open(CLUSTERS_PATH + dists_path + '.pkl', 'rb') as f:\n",
    "            self.dists = pickle.load(f)\n",
    "\n",
    "\n",
    "    @staticmethod\n",
    "    def concat_dicts(dict1, dict2):\n",
    "        ans = dict()\n",
    "        for k1 in dict1.keys():\n",
    "            if int(k1) in dict2:\n",
    "                ans[dict1[k1]] = dict2[int(k1)]\n",
    "            else:\n",
    "                ans[dict1[k1]] = 'Unnamed'\n",
    "\n",
    "        return ans\n",
    "\n",
    "\n",
    "    def set_product_names(self, data_path='datasets/чеки.csv'):\n",
    "        data = pd.read_csv(data_path, nrows=None)\n",
    "        data = data.rename(columns={'line_item_id': 'product_id'})\n",
    "        data = data[['line_article_id', 'line_article_description']].drop_duplicates()\n",
    "        product_names = data.set_index('line_article_id').to_dict()['line_article_description']\n",
    "\n",
    "        with open(DICTS_PATH + 'products.json') as json_file:\n",
    "            products_dict = json.load(json_file)\n",
    "\n",
    "        self.names = self.concat_dicts(products_dict, product_names)\n",
    "\n",
    "    def set_clusters(self, clusters_path):\n",
    "        with open(CLUSTERS_PATH + clusters_path + '.pkl', 'rb') as f:\n",
    "            self.clusters = pickle.load(f)\n",
    "\n",
    "\n",
    "    def clear_clusters(self):\n",
    "        self.clusters = None\n",
    "\n",
    "\n",
    "    def dist(self, product1, product2):\n",
    "        if product1 == product2:\n",
    "            return 0\n",
    "\n",
    "        if (product1, product2) in self.dists:\n",
    "            return self.dists[(product1, product2)]\n",
    "\n",
    "        if (product2, product1) in self.dists:\n",
    "            return self.dists[(product2, product1)]\n",
    "\n",
    "        return np.inf\n",
    "\n",
    "\n",
    "    def dist_product_cluster(self, product, cluster):\n",
    "        s = 0.0\n",
    "        for p in cluster:\n",
    "            s += self.dist(product, p) ** 2\n",
    "        return np.sqrt(s)\n",
    "\n",
    "\n",
    "    def show(self, top_in_cluster=10, top_clusters=10):\n",
    "        for cluster in self.clusters[:top_clusters]:\n",
    "            edges = []\n",
    "            edge_labels = dict()\n",
    "            cluster = sorted(cluster, key=lambda x: (self.dist_product_cluster(x, cluster)))\n",
    "            cluster = cluster[:top_in_cluster]\n",
    "\n",
    "            for p1 in cluster:\n",
    "                for p2 in cluster:\n",
    "                    if p1 != p2:\n",
    "                        d = self.dist(p1, p2)\n",
    "                        if d < np.inf:\n",
    "                            edges.append((p1, p2, d))\n",
    "\n",
    "            if self.names is not None:\n",
    "                g = Graph(edges,\n",
    "                          node_color='white',\n",
    "                          node_layout='geometric',\n",
    "                          # node_layout_kwargs=dict(edge_length=edge_length, tol=1e-3),\n",
    "                          node_size=5,\n",
    "                          node_label_fontdict={'family': 'serif',\n",
    "                                               'weight': 'normal',\n",
    "                                               'size': 16,\n",
    "                                              },\n",
    "        #                   node_label_offset=0.05,\n",
    "                          node_alpha=0.4,\n",
    "                          edge_labels=edge_labels,\n",
    "                          node_labels=True,\n",
    "        #                   node_labels=node_labels,\n",
    "                         )\n",
    "            else:\n",
    "                g = Graph(edges,\n",
    "                          node_color='white',\n",
    "                          node_layout='geometric',\n",
    "                          # node_layout_kwargs=dict(edge_length=edge_length, tol=1e-3),\n",
    "                          node_size=5,\n",
    "                          node_labels=True,\n",
    "                          edge_labels=edge_labels,\n",
    "                         )\n",
    "\n",
    "v = Visualisation()\n",
    "v.set_product_names()\n",
    "v.set_clusters(clusters_path='k_means_euclidean')\n",
    "v.show(10, 10)\n"
   ]
  }
 ],
 "metadata": {
  "kernelspec": {
   "display_name": "Python 3",
   "language": "python",
   "name": "python3"
  },
  "language_info": {
   "codemirror_mode": {
    "name": "ipython",
    "version": 2
   },
   "file_extension": ".py",
   "mimetype": "text/x-python",
   "name": "python",
   "nbconvert_exporter": "python",
   "pygments_lexer": "ipython2",
   "version": "2.7.6"
  }
 },
 "nbformat": 4,
 "nbformat_minor": 0
}
