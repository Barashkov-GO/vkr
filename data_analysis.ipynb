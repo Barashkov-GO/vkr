{
 "cells": [
  {
   "cell_type": "code",
   "execution_count": 1,
   "metadata": {
    "ExecuteTime": {
     "end_time": "2023-04-23T01:04:32.825150Z",
     "start_time": "2023-04-23T01:04:32.824633Z"
    },
    "collapsed": true
   },
   "outputs": [],
   "source": [
    "FIGURES_PATH = 'out/figures/'\n",
    "DATASETS_PATH = 'out/datasets/'"
   ]
  },
  {
   "cell_type": "code",
   "execution_count": 2,
   "metadata": {
    "ExecuteTime": {
     "end_time": "2023-04-23T01:04:34.014845Z",
     "start_time": "2023-04-23T01:04:32.824839Z"
    }
   },
   "outputs": [],
   "source": [
    "import pandas as pd\n",
    "import os\n",
    "import numpy as np\n",
    "import matplotlib.pyplot as plt\n",
    "import matplotlib.colors as mcolors\n",
    "import random"
   ]
  },
  {
   "cell_type": "code",
   "execution_count": null,
   "metadata": {},
   "outputs": [],
   "source": [
    "data = pd.read_csv(DATASETS_PATH + 'data_processed.csv')\n",
    "data"
   ]
  },
  {
   "cell_type": "markdown",
   "metadata": {},
   "source": [
    "### Функции вывода графиков"
   ]
  },
  {
   "cell_type": "code",
   "execution_count": null,
   "metadata": {},
   "outputs": [],
   "source": [
    "\n",
    "def scatter_prices(data, line_article_id):\n",
    "    data_group_by_id = data.groupby(by=['product_id'])\n",
    "    these_prices = data_group_by_id.get_group(line_article_id)\n",
    "    grouped_prices = these_prices.groupby(['line_item_price'])\n",
    "    ans = grouped_prices['line_quantity'].apply(lambda x: x.sum())\n",
    "    ans_cnt = grouped_prices['line_quantity'].apply(lambda x: len(x))\n",
    "    df = ans_cnt.array\n",
    "    cnt = (ans_cnt.array - ans_cnt.array.min()) / (ans_cnt.array.max() - ans_cnt.array.min())\n",
    "    cnt *= 50\n",
    "\n",
    "    prices, counts = ans.axes, ans.array\n",
    "\n",
    "    fig1, ax1 = plt.subplots(figsize=(20, 10))\n",
    "    fig2, ax2 = plt.subplots(figsize=(20, 10))\n",
    "\n",
    "    fig1.suptitle('Items')\n",
    "    fig2.suptitle('Buyers')\n",
    "\n",
    "    ax1.set_xlabel(\"Price, RUR\")\n",
    "    ax1.set_ylabel(\"Count of items\")\n",
    "    ax1.grid(axis='x', which='major')\n",
    "\n",
    "    ax1.set_title(\n",
    "        str(line_article_id) + ' - ' + str(data_group_by_id.get_group(line_article_id)['line_quantity'].sum()))\n",
    "    ax1.scatter(prices[0], counts, s=cnt, c=counts, cmap='cool')\n",
    "\n",
    "    ax2.set_xlabel(\"Price, RUR\")\n",
    "    ax2.set_ylabel(\"Count of buyers\")\n",
    "    ax2.grid(axis='x', which='major')\n",
    "\n",
    "    ax2.set_title(\n",
    "        str(line_article_id) + ' - ' + str(data_group_by_id.get_group(line_article_id)['line_quantity'].sum()))\n",
    "    ax2.scatter(prices[0], cnt, s=cnt, c=counts, cmap='cool')\n",
    "\n",
    "\n",
    "#     plot = ax2.pcolor(counts)\n",
    "#     fig2.colorbar(plot)\n",
    "\n",
    "scatter_prices(data, 15058563)\n"
   ]
  },
  {
   "cell_type": "markdown",
   "metadata": {},
   "source": [
    "### Временные ряды"
   ]
  },
  {
   "cell_type": "code",
   "execution_count": null,
   "metadata": {},
   "outputs": [],
   "source": [
    "weekday_dict = {\n",
    "    0: 'Воскресенье',\n",
    "    1: 'Понедельник',\n",
    "    2: 'Вторник',\n",
    "    3: 'Среда',\n",
    "    4: 'Четверг',\n",
    "    5: 'Пятница',\n",
    "    6: 'Суббота',\n",
    "               }\n",
    "\n",
    "weekday_dict"
   ]
  },
  {
   "cell_type": "code",
   "execution_count": null,
   "metadata": {},
   "outputs": [],
   "source": [
    "def get_from_to(data, date_from, date_to, date_type='%d/%m/%y'):\n",
    "    return data.loc[datetime.strptime(date_to, date_type) >= data.datetime].loc[\n",
    "        data.datetime >= datetime.strptime(date_from, date_type)]\n",
    "\n",
    "\n",
    "def get_by_weekday(data, weekday):\n",
    "    i = 0\n",
    "    for ind in weekday_dict:\n",
    "        if weekday == weekday_dict[ind]:\n",
    "            i = ind\n",
    "    return data.loc[data.weekday == i]\n",
    "\n",
    "\n",
    "def sort_by_date(data):\n",
    "    return data.sort_values(by=['datetime'])\n",
    "\n",
    "\n",
    "sort_by_date(get_from_to(data, '01.12.22', '20.12.22', '%d.%m.%y'))\n",
    "get_by_weekday(data, 'Четверг')"
   ]
  }
 ],
 "metadata": {
  "kernelspec": {
   "display_name": "Python 3 (ipykernel)",
   "language": "python",
   "name": "python3"
  },
  "language_info": {
   "codemirror_mode": {
    "name": "ipython",
    "version": 3
   },
   "file_extension": ".py",
   "mimetype": "text/x-python",
   "name": "python",
   "nbconvert_exporter": "python",
   "pygments_lexer": "ipython3",
   "version": "3.8.10"
  }
 },
 "nbformat": 4,
 "nbformat_minor": 1
}
