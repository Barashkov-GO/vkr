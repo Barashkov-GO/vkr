{
 "cells": [
  {
   "cell_type": "code",
   "execution_count": 1,
   "metadata": {
    "ExecuteTime": {
     "end_time": "2023-05-28T17:47:33.937458179Z",
     "start_time": "2023-05-28T17:47:33.886964275Z"
    }
   },
   "outputs": [],
   "source": [
    "FIGURES_PATH = 'out/figures/'\n",
    "DATASETS_PATH = 'out/datasets/'"
   ]
  },
  {
   "cell_type": "code",
   "execution_count": 2,
   "metadata": {
    "ExecuteTime": {
     "end_time": "2023-05-28T17:47:34.928302676Z",
     "start_time": "2023-05-28T17:47:33.888929198Z"
    }
   },
   "outputs": [],
   "source": [
    "import pandas as pd\n",
    "from datetime import datetime\n",
    "import os\n",
    "import multiprocessing\n",
    "import numpy as np\n",
    "import matplotlib.pyplot as plt\n",
    "import matplotlib.colors as mcolors\n",
    "import random\n",
    "from tqdm import tqdm\n",
    "\n",
    "from helper import *"
   ]
  },
  {
   "cell_type": "code",
   "execution_count": 3,
   "metadata": {
    "ExecuteTime": {
     "end_time": "2023-05-28T17:47:34.934798080Z",
     "start_time": "2023-05-28T17:47:34.930622603Z"
    }
   },
   "outputs": [],
   "source": [
    "NROWS = None"
   ]
  },
  {
   "cell_type": "code",
   "execution_count": 4,
   "metadata": {
    "ExecuteTime": {
     "end_time": "2023-05-28T17:47:59.563045310Z",
     "start_time": "2023-05-28T17:47:34.938521123Z"
    }
   },
   "outputs": [
    {
     "data": {
      "text/plain": "             gid  transaction_key  store_id  product_id  line_item_price   \n0              0                0         2           0           2990.0  \\\n1              1                1         3           1           1413.0   \n2              1                1         3           2            338.0   \n3              1                1         3           3           1634.0   \n4              1                1         3           4             78.0   \n...          ...              ...       ...         ...              ...   \n20662670  861563          3945281         2       70820           1925.0   \n20662671  861563          3945281         2        3161             43.0   \n20662672  861563          3945281         2        2612            950.0   \n20662673  861563          3945281         2          51              4.0   \n20662674  861563          3945281         2        1166            348.0   \n\n          line_item_cost  line_type            datetime  category_id  weekday   \n0                2516.10          0 2022-04-18 12:22:18      49788.0        0  \\\n1                1206.73          1 2022-08-26 18:00:29     140669.0        4   \n2                 179.51          1 2022-08-26 18:00:29     157827.0        4   \n3                1402.83          1 2022-08-26 18:00:29          NaN        4   \n4                  61.70          1 2022-08-26 18:00:29     484922.0        4   \n...                  ...        ...                 ...          ...      ...   \n20662670         1469.14          0 2022-09-08 11:14:12     381032.0        3   \n20662671           44.66          0 2022-09-08 11:14:12      33888.0        3   \n20662672          969.86          0 2022-09-08 11:14:12      13517.0        3   \n20662673             NaN          0 2022-09-08 11:14:12          NaN        3   \n20662674          209.88          0 2022-09-08 11:14:12      47396.0        3   \n\n          line_quantity  \n0                   1.0  \n1                   2.0  \n2                   4.0  \n3                   1.0  \n4                  40.0  \n...                 ...  \n20662670            1.0  \n20662671           22.0  \n20662672            1.0  \n20662673            1.0  \n20662674            7.0  \n\n[20662675 rows x 11 columns]",
      "text/html": "<div>\n<style scoped>\n    .dataframe tbody tr th:only-of-type {\n        vertical-align: middle;\n    }\n\n    .dataframe tbody tr th {\n        vertical-align: top;\n    }\n\n    .dataframe thead th {\n        text-align: right;\n    }\n</style>\n<table border=\"1\" class=\"dataframe\">\n  <thead>\n    <tr style=\"text-align: right;\">\n      <th></th>\n      <th>gid</th>\n      <th>transaction_key</th>\n      <th>store_id</th>\n      <th>product_id</th>\n      <th>line_item_price</th>\n      <th>line_item_cost</th>\n      <th>line_type</th>\n      <th>datetime</th>\n      <th>category_id</th>\n      <th>weekday</th>\n      <th>line_quantity</th>\n    </tr>\n  </thead>\n  <tbody>\n    <tr>\n      <th>0</th>\n      <td>0</td>\n      <td>0</td>\n      <td>2</td>\n      <td>0</td>\n      <td>2990.0</td>\n      <td>2516.10</td>\n      <td>0</td>\n      <td>2022-04-18 12:22:18</td>\n      <td>49788.0</td>\n      <td>0</td>\n      <td>1.0</td>\n    </tr>\n    <tr>\n      <th>1</th>\n      <td>1</td>\n      <td>1</td>\n      <td>3</td>\n      <td>1</td>\n      <td>1413.0</td>\n      <td>1206.73</td>\n      <td>1</td>\n      <td>2022-08-26 18:00:29</td>\n      <td>140669.0</td>\n      <td>4</td>\n      <td>2.0</td>\n    </tr>\n    <tr>\n      <th>2</th>\n      <td>1</td>\n      <td>1</td>\n      <td>3</td>\n      <td>2</td>\n      <td>338.0</td>\n      <td>179.51</td>\n      <td>1</td>\n      <td>2022-08-26 18:00:29</td>\n      <td>157827.0</td>\n      <td>4</td>\n      <td>4.0</td>\n    </tr>\n    <tr>\n      <th>3</th>\n      <td>1</td>\n      <td>1</td>\n      <td>3</td>\n      <td>3</td>\n      <td>1634.0</td>\n      <td>1402.83</td>\n      <td>1</td>\n      <td>2022-08-26 18:00:29</td>\n      <td>NaN</td>\n      <td>4</td>\n      <td>1.0</td>\n    </tr>\n    <tr>\n      <th>4</th>\n      <td>1</td>\n      <td>1</td>\n      <td>3</td>\n      <td>4</td>\n      <td>78.0</td>\n      <td>61.70</td>\n      <td>1</td>\n      <td>2022-08-26 18:00:29</td>\n      <td>484922.0</td>\n      <td>4</td>\n      <td>40.0</td>\n    </tr>\n    <tr>\n      <th>...</th>\n      <td>...</td>\n      <td>...</td>\n      <td>...</td>\n      <td>...</td>\n      <td>...</td>\n      <td>...</td>\n      <td>...</td>\n      <td>...</td>\n      <td>...</td>\n      <td>...</td>\n      <td>...</td>\n    </tr>\n    <tr>\n      <th>20662670</th>\n      <td>861563</td>\n      <td>3945281</td>\n      <td>2</td>\n      <td>70820</td>\n      <td>1925.0</td>\n      <td>1469.14</td>\n      <td>0</td>\n      <td>2022-09-08 11:14:12</td>\n      <td>381032.0</td>\n      <td>3</td>\n      <td>1.0</td>\n    </tr>\n    <tr>\n      <th>20662671</th>\n      <td>861563</td>\n      <td>3945281</td>\n      <td>2</td>\n      <td>3161</td>\n      <td>43.0</td>\n      <td>44.66</td>\n      <td>0</td>\n      <td>2022-09-08 11:14:12</td>\n      <td>33888.0</td>\n      <td>3</td>\n      <td>22.0</td>\n    </tr>\n    <tr>\n      <th>20662672</th>\n      <td>861563</td>\n      <td>3945281</td>\n      <td>2</td>\n      <td>2612</td>\n      <td>950.0</td>\n      <td>969.86</td>\n      <td>0</td>\n      <td>2022-09-08 11:14:12</td>\n      <td>13517.0</td>\n      <td>3</td>\n      <td>1.0</td>\n    </tr>\n    <tr>\n      <th>20662673</th>\n      <td>861563</td>\n      <td>3945281</td>\n      <td>2</td>\n      <td>51</td>\n      <td>4.0</td>\n      <td>NaN</td>\n      <td>0</td>\n      <td>2022-09-08 11:14:12</td>\n      <td>NaN</td>\n      <td>3</td>\n      <td>1.0</td>\n    </tr>\n    <tr>\n      <th>20662674</th>\n      <td>861563</td>\n      <td>3945281</td>\n      <td>2</td>\n      <td>1166</td>\n      <td>348.0</td>\n      <td>209.88</td>\n      <td>0</td>\n      <td>2022-09-08 11:14:12</td>\n      <td>47396.0</td>\n      <td>3</td>\n      <td>7.0</td>\n    </tr>\n  </tbody>\n</table>\n<p>20662675 rows × 11 columns</p>\n</div>"
     },
     "execution_count": 4,
     "metadata": {},
     "output_type": "execute_result"
    }
   ],
   "source": [
    "data = pd.read_csv(DATASETS_PATH + 'data_processed.csv', nrows=NROWS).drop(columns=['Unnamed: 0'])\n",
    "data['datetime'] = pd.to_datetime(data['datetime'])\n",
    "data"
   ]
  },
  {
   "cell_type": "markdown",
   "metadata": {},
   "source": [
    "### Функции вывода графиков"
   ]
  },
  {
   "cell_type": "code",
   "execution_count": 5,
   "metadata": {
    "ExecuteTime": {
     "end_time": "2023-05-28T17:47:59.569010826Z",
     "start_time": "2023-05-28T17:47:59.560687739Z"
    }
   },
   "outputs": [],
   "source": [
    "def scatter_prices(data, line_article_id):\n",
    "    these_prices = data.loc[data['product_id'] == line_article_id][['line_item_price', 'datetime', 'line_quantity']]\n",
    "    grouped_prices = these_prices.groupby(['line_item_price'])\n",
    "    ans = grouped_prices['line_quantity'].apply(lambda x: x.sum())\n",
    "\n",
    "    ans_cnt = grouped_prices['line_quantity'].apply(lambda x: len(x))\n",
    "    cnt = (ans_cnt.array - ans_cnt.array.min()) / (ans_cnt.array.max() - ans_cnt.array.min())\n",
    "    cnt *= 50\n",
    "\n",
    "    prices, counts = ans.axes, ans.array\n",
    "\n",
    "    fig1, ax1 = plt.subplots(figsize=(20, 10))\n",
    "    fig2, ax2 = plt.subplots(figsize=(20, 10))\n",
    "\n",
    "    fig1.suptitle('Items')\n",
    "    fig2.suptitle('Buyers')\n",
    "\n",
    "    ax1.set_xlabel(\"Price, RUR\")\n",
    "    ax1.set_ylabel(\"Count of items\")\n",
    "    ax1.grid(axis='x', which='major')\n",
    "\n",
    "    ax1.set_title(\n",
    "        str(line_article_id) + ' - ' + str(these_prices['line_quantity'].sum()))\n",
    "    ax1.scatter(prices[0], counts, s=cnt, c=counts, cmap='cool')\n",
    "\n",
    "    ax2.set_xlabel(\"Price, RUR\")\n",
    "    ax2.set_ylabel(\"Count of buyers\")\n",
    "    ax2.grid(axis='x', which='major')\n",
    "\n",
    "    ax2.set_title(\n",
    "        str(line_article_id) + ' - ' + str(these_prices['line_quantity'].sum()))\n",
    "    ax2.scatter(prices[0], cnt, s=cnt, c=counts, cmap='cool')\n",
    "\n",
    "\n",
    "    # plot = ax2.pcolor(counts)\n",
    "    # fig2.colorbar(plot)\n",
    "\n",
    "# scatter_prices(data, 15058563)\n"
   ]
  },
  {
   "cell_type": "code",
   "execution_count": 6,
   "metadata": {
    "ExecuteTime": {
     "end_time": "2023-05-28T17:47:59.661436549Z",
     "start_time": "2023-05-28T17:47:59.570495937Z"
    }
   },
   "outputs": [],
   "source": [
    "def scatter_mean_prices(data, ylim=None):\n",
    "    fig, ax = plt.subplots(figsize=(20, 10))\n",
    "\n",
    "    ax.scatter(data.index, data['average_price'], s=0.2)\n",
    "\n",
    "    x = data['average_price']\n",
    "    m, s = x.mean(), x.std()\n",
    "\n",
    "    ax.axhline(m - s, alpha=0.5, linestyle='--', color='r', label='σ')\n",
    "    ax.axhline(m + s, alpha=0.5, linestyle='--', color='r')\n",
    "    ax.axhline(m, alpha=0.5, linestyle='--', color='g', label='mean')\n",
    "\n",
    "    ax.set_ylim(bottom=0, top=ylim)\n",
    "    ax.set_xlim(left=0)\n",
    "    ax.set_xlabel('Users')\n",
    "    ax.set_ylabel('Mean price')\n",
    "    ax.set_title('Mean prices')\n",
    "\n",
    "    ax.legend()\n",
    "    plt.savefig(FIGURES_PATH + 'users_mean_prices')"
   ]
  },
  {
   "cell_type": "code",
   "execution_count": 7,
   "metadata": {
    "ExecuteTime": {
     "end_time": "2023-05-28T17:47:59.662040189Z",
     "start_time": "2023-05-28T17:47:59.614603320Z"
    }
   },
   "outputs": [],
   "source": [
    "def scatter_hist_of_prices(data, nbins=10, price_limit=None):\n",
    "    fig, ax = plt.subplots(figsize=(20, 10))\n",
    "    x = data['average_price'].values\n",
    "    m, s = x.mean(), x.std()\n",
    "\n",
    "\n",
    "    ax.hist(x, bins=nbins, range=price_limit, histtype='bar', edgecolor='black', linewidth=1.1)\n",
    "    ax.axvline(m - s, alpha=0.5, linestyle='--', color='r', label='σ')\n",
    "    ax.axvline(m + s, alpha=0.5, linestyle='--', color='r')\n",
    "\n",
    "    ax.axvline(m, alpha=0.5, linestyle='--', color='g', label='mean')\n",
    "\n",
    "    ax.set_xlabel('Mean price of purchases')\n",
    "    ax.set_ylabel('Count of buyers')\n",
    "    ax.set_title('Histogram of frequency')\n",
    "    ax.legend()\n",
    "    plt.savefig(FIGURES_PATH + 'users_hist')"
   ]
  },
  {
   "cell_type": "code",
   "execution_count": 8,
   "metadata": {
    "ExecuteTime": {
     "end_time": "2023-05-28T17:47:59.662335410Z",
     "start_time": "2023-05-28T17:47:59.614879823Z"
    }
   },
   "outputs": [],
   "source": [
    "def scatter_hist_of_products(data, nbins=10, price_limit=None):\n",
    "    fig, ax = plt.subplots(figsize=(20, 10))\n",
    "    x = data['line_item_price'].values\n",
    "\n",
    "    m, s = x.mean(), x.std()\n",
    "    ax.hist(x, bins=nbins, range=price_limit, histtype='bar', edgecolor='black', linewidth=1.1)\n",
    "\n",
    "    ax.axvline(m - s, alpha=0.5, linestyle='--', color='r', label='σ')\n",
    "    ax.axvline(m + s, alpha=0.5, linestyle='--', color='r')\n",
    "    ax.axvline(m, alpha=0.5, linestyle='--', color='g', label='mean')\n",
    "\n",
    "    ax.set_xlabel('Price of product')\n",
    "    ax.set_ylabel('Count of products')\n",
    "    ax.set_title('Histogram of frequency')\n",
    "\n",
    "    ax.legend()\n",
    "    plt.savefig(FIGURES_PATH + 'products_hist')"
   ]
  },
  {
   "cell_type": "code",
   "execution_count": 9,
   "metadata": {
    "ExecuteTime": {
     "end_time": "2023-05-28T17:47:59.662611842Z",
     "start_time": "2023-05-28T17:47:59.615069093Z"
    }
   },
   "outputs": [],
   "source": [
    "def scatter_hist_of_weekdays(data):\n",
    "    fig, ax = plt.subplots(figsize=(20, 10))\n",
    "    x = data['weekday'].values\n",
    "\n",
    "    ax.hist(x, bins=7, histtype='bar', edgecolor='black', linewidth=1.1)\n",
    "\n",
    "    ax.set_xlabel('Weekday')\n",
    "    ax.set_ylabel('Count of purchases')\n",
    "    ax.set_title('Histogram of weekdays')\n",
    "    ax.set_xticks([i for i in range(0, 7)], ['Sunday', 'Monday', 'Tuesday', 'Wednesday', 'Thursday', 'Friday', 'Saturday'], rotation='vertical')\n",
    "\n",
    "    ax.legend()\n",
    "    plt.savefig(FIGURES_PATH + 'weekdays_hist')"
   ]
  },
  {
   "cell_type": "code",
   "execution_count": 10,
   "metadata": {
    "ExecuteTime": {
     "end_time": "2023-05-28T17:47:59.662870116Z",
     "start_time": "2023-05-28T17:47:59.615276523Z"
    }
   },
   "outputs": [],
   "source": [
    "def scatter_pie_of_prices(data, nbins=5, top_limit=10_000):\n",
    "    fig, ax = plt.subplots(figsize=(20, 10))\n",
    "    x, bin_edges = np.histogram(data['line_item_price'].values, bins=nbins, range=(0, top_limit))\n",
    "    colors = plt.get_cmap('Blues')(np.linspace(0.2, 0.7, len(x)))\n",
    "    ax.pie(x, colors=colors, radius=2, center=(4, 4), labels=['<' + str(i) for i in bin_edges[1:]],\n",
    "       wedgeprops={\"linewidth\": 1, \"edgecolor\": \"white\"}, autopct='%1.1f%%')\n",
    "\n",
    "\n",
    "    plt.savefig(FIGURES_PATH + 'pie_of_prices')"
   ]
  },
  {
   "cell_type": "code",
   "execution_count": 11,
   "metadata": {
    "ExecuteTime": {
     "end_time": "2023-05-28T17:47:59.772931599Z",
     "start_time": "2023-05-28T17:47:59.615467819Z"
    }
   },
   "outputs": [],
   "source": [
    "def plot_over_time(data):\n",
    "    plt.figure(figsize=(20, 10))\n",
    "    plt.xlabel('Date')\n",
    "    plt.ylabel('Count of products')\n",
    "    plt.title('Product sales')\n",
    "\n",
    "    dates = data['datetime'].dt.date.value_counts()\n",
    "    dates_ma = dates.rolling(5).mean()\n",
    "    dates_ma.plot(alpha=0.3, color='r')\n",
    "\n",
    "    dates.plot()\n",
    "    plt.savefig(FIGURES_PATH + 'plot_over_time')"
   ]
  },
  {
   "cell_type": "code",
   "execution_count": 12,
   "metadata": {
    "ExecuteTime": {
     "end_time": "2023-05-28T17:47:59.773754332Z",
     "start_time": "2023-05-28T17:47:59.661881090Z"
    }
   },
   "outputs": [],
   "source": [
    "def scatter_hist_over_time(data, nbins=None, plot_ma=False):\n",
    "    plt.figure(figsize=(20, 10))\n",
    "    plt.xlabel('Date')\n",
    "    plt.ylabel('Count of products')\n",
    "    plt.title('Product sales')\n",
    "\n",
    "    dates = data['datetime'].dt.date\n",
    "\n",
    "    mi, ma = dates.min(), dates.max()\n",
    "\n",
    "    opti_bins = (ma - mi).days\n",
    "    if nbins is None:\n",
    "        nbins = opti_bins\n",
    "    dates.hist(bins=nbins, histtype='bar', edgecolor='black', linewidth=1.1)\n",
    "\n",
    "    if plot_ma:\n",
    "        ma = dates.value_counts().rolling(20).mean()\n",
    "        ma.plot(color='r', alpha=0.4)\n",
    "\n",
    "\n",
    "    plt.savefig(FIGURES_PATH + 'hist_over_time')\n",
    "\n"
   ]
  },
  {
   "cell_type": "markdown",
   "metadata": {},
   "source": [
    "### Анализ"
   ]
  },
  {
   "cell_type": "code",
   "execution_count": 13,
   "metadata": {
    "ExecuteTime": {
     "end_time": "2023-05-28T17:47:59.774090689Z",
     "start_time": "2023-05-28T17:47:59.662225898Z"
    }
   },
   "outputs": [],
   "source": [
    "def get_date_info(data):\n",
    "    data = data[['product_id', 'gid', 'datetime', 'weekday', 'line_item_price']]\n",
    "    grouped_by_date = data.groupby(by='datetime')\n",
    "\n",
    "    ans = grouped_by_date[['product_id']].apply(lambda x: x.nunique()).rename(columns={'product_id': 'unique_products'})\n",
    "\n",
    "    ans['unique_users'] = grouped_by_date['gid'].apply(lambda x: x.nunique())\n",
    "\n",
    "    ans['average_price'] = grouped_by_date['line_item_price'].apply(lambda x: np.mean(x.values))\n",
    "    ans['median_price'] = grouped_by_date['line_item_price'].apply(lambda x: get_median(x))\n",
    "    ans['average_quantity'] = grouped_by_date['line_quantity'].apply(lambda x: np.mean(x.values))\n",
    "    ans['average_date_delta'] = grouped_by_date['datetime'].apply(lambda x: get_mean(get_time_delta(x)))\n",
    "\n",
    "    return ans"
   ]
  },
  {
   "cell_type": "code",
   "execution_count": 14,
   "metadata": {
    "ExecuteTime": {
     "end_time": "2023-05-28T17:47:59.774341630Z",
     "start_time": "2023-05-28T17:47:59.662511201Z"
    }
   },
   "outputs": [],
   "source": [
    "# date_info = get_date_info(data)\n",
    "# date_info"
   ]
  },
  {
   "cell_type": "code",
   "execution_count": 15,
   "metadata": {
    "ExecuteTime": {
     "end_time": "2023-05-28T17:47:59.774610590Z",
     "start_time": "2023-05-28T17:47:59.662762770Z"
    }
   },
   "outputs": [],
   "source": [
    "def get_weekday_info(data):\n",
    "    grouped_by_weekday = data.groupby(by='weekday')\n",
    "    ans = grouped_by_weekday[['transaction_key']].apply(lambda x: x.nunique()).rename(columns={'transaction_key': 'unique_receipts'})\n",
    "\n",
    "    ans['average_receipt_sum'] = grouped_by_weekday['line_item_price'].apply(lambda x: x.values.sum() / x.values.shape[0])\n",
    "    ans['quartile_range'] = grouped_by_weekday['line_item_price'].quantile(0.75) - grouped_by_weekday['line_item_price'].quantile(0.25)\n",
    "    ans['std'] = grouped_by_weekday['line_item_price'].std()\n",
    "    ans['unique_users'] = grouped_by_weekday['gid'].apply(lambda x: x.nunique())\n",
    "    return ans\n",
    "    #\n",
    "    # return ans"
   ]
  },
  {
   "cell_type": "code",
   "execution_count": null,
   "metadata": {
    "is_executing": true,
    "ExecuteTime": {
     "start_time": "2023-05-28T17:47:59.662987520Z"
    }
   },
   "outputs": [],
   "source": [
    "weekday_info = get_weekday_info(data)\n",
    "weekday_info"
   ]
  },
  {
   "cell_type": "code",
   "execution_count": null,
   "metadata": {
    "is_executing": true
   },
   "outputs": [],
   "source": [
    "# from helper import get_median\n",
    "\n",
    "def get_product_info(data):\n",
    "    data = data[['product_id', 'line_item_price', 'store_id', 'line_item_cost', 'datetime', 'line_quantity', 'gid']]\n",
    "    grouped_by_product = data.groupby(by='product_id')\n",
    "\n",
    "    ans = grouped_by_product[['gid']].apply(lambda x: x.nunique()).rename(columns={'gid': 'unique_users'})\n",
    "\n",
    "    ans['average_price'] = grouped_by_product['line_item_price'].apply(lambda x: np.mean(x.values))\n",
    "    ans['median_price'] = grouped_by_product['line_item_price'].apply(lambda x: get_median(x))\n",
    "    ans['average_quantity'] = grouped_by_product['line_quantity'].apply(lambda x: np.mean(x.values))\n",
    "    ans['average_date_delta'] = grouped_by_product['datetime'].apply(lambda x: get_mean(get_time_delta(x)))\n",
    "    ans['quartile_range'] = grouped_by_product['line_item_price'].quantile(0.75) - grouped_by_product['line_item_price'].quantile(0.25)\n",
    "    ans['std'] = grouped_by_user['line_item_price'].std()\n",
    "    return ans\n"
   ]
  },
  {
   "cell_type": "code",
   "execution_count": null,
   "metadata": {
    "is_executing": true
   },
   "outputs": [],
   "source": [
    "product_info = get_product_info(data)\n",
    "product_info"
   ]
  },
  {
   "cell_type": "code",
   "execution_count": null,
   "metadata": {
    "is_executing": true
   },
   "outputs": [],
   "source": [
    "def get_user_info(data):\n",
    "    \"\"\"\n",
    "    :param data: receipts - pandas.DataFrame\n",
    "    :return: ans: info for every user - pandas.DataFrame\n",
    "    \"\"\"\n",
    "\n",
    "    grouped_by_user = data[['gid', 'line_item_price', 'product_id']].groupby(by='gid')\n",
    "    ans = grouped_by_user[['product_id']].apply(lambda x: x.nunique()).rename(columns={'product_id': 'unique_products'})\n",
    "    ans['average_price'] = grouped_by_user['line_item_price'].apply(lambda x: np.mean(x.values))\n",
    "    ans['quantile_0.25'] = grouped_by_user['line_item_price'].quantile(0.25)\n",
    "    ans['median_price'] = grouped_by_user['line_item_price'].apply(lambda x: get_median(x))\n",
    "    ans['quantile_0.75'] = grouped_by_user['line_item_price'].quantile(0.75)\n",
    "    ans['quartile_range'] = ans['quantile_0.75'] - ans['quantile_0.25']\n",
    "    ans['std'] = grouped_by_user['line_item_price'].std()\n",
    "    # ans['average_date_delta'] = grouped_by_user['datetime'].apply(lambda x: get_mean(get_time_delta(x)))\n",
    "    # ans['date_quartile_range'] = grouped_by_user['datetime'].apply(lambda x: get_quartile_range(get_time_delta(x)))\n",
    "    return ans\n",
    "\n"
   ]
  },
  {
   "cell_type": "code",
   "execution_count": null,
   "metadata": {
    "is_executing": true
   },
   "outputs": [],
   "source": [
    "user_info = get_user_info(data)\n",
    "user_info"
   ]
  },
  {
   "cell_type": "code",
   "execution_count": null,
   "metadata": {
    "is_executing": true
   },
   "outputs": [],
   "source": [
    "def three_sigmas(ser):\n",
    "    mean = ser.mean()\n",
    "    std = ser.std()\n",
    "\n",
    "    one_sigma = ser.loc[ser > mean - std].loc[ser < mean + std].shape[0] / ser.shape[0]\n",
    "    two_sigma = ser.loc[ser > mean - 2 * std].loc[ser < mean + 2 * std].shape[0] / ser.shape[0]\n",
    "    three_sigma = ser.loc[ser > mean - 3 * std].loc[ser < mean + 3 * std].shape[0] / ser.shape[0]\n",
    "    return one_sigma, two_sigma, three_sigma"
   ]
  },
  {
   "cell_type": "code",
   "execution_count": null,
   "metadata": {
    "is_executing": true
   },
   "outputs": [],
   "source": [
    "user_info.apply(three_sigmas)"
   ]
  },
  {
   "cell_type": "code",
   "execution_count": null,
   "metadata": {
    "is_executing": true
   },
   "outputs": [],
   "source": [
    "product_info.apply(three_sigmas)"
   ]
  },
  {
   "cell_type": "code",
   "execution_count": null,
   "metadata": {
    "is_executing": true
   },
   "outputs": [],
   "source": [
    "scatter_mean_prices(user_info, ylim=50_000)"
   ]
  },
  {
   "cell_type": "code",
   "execution_count": null,
   "metadata": {
    "is_executing": true
   },
   "outputs": [],
   "source": [
    "scatter_hist_of_prices(user_info, nbins=100, price_limit=(0, 10_000))"
   ]
  },
  {
   "cell_type": "code",
   "execution_count": null,
   "metadata": {
    "is_executing": true
   },
   "outputs": [],
   "source": [
    "scatter_hist_of_products(data, nbins=100, price_limit=(0, 10_000))"
   ]
  },
  {
   "cell_type": "code",
   "execution_count": null,
   "metadata": {
    "is_executing": true
   },
   "outputs": [],
   "source": [
    "scatter_hist_of_weekdays(data)"
   ]
  },
  {
   "cell_type": "code",
   "execution_count": null,
   "metadata": {
    "is_executing": true
   },
   "outputs": [],
   "source": [
    "scatter_pie_of_prices(data, nbins=8, top_limit=5_000)"
   ]
  },
  {
   "cell_type": "code",
   "execution_count": null,
   "metadata": {
    "is_executing": true
   },
   "outputs": [],
   "source": [
    "plot_over_time(data)"
   ]
  },
  {
   "cell_type": "code",
   "execution_count": null,
   "metadata": {
    "is_executing": true
   },
   "outputs": [],
   "source": [
    "scatter_hist_over_time(data, nbins=50, plot_ma=False)"
   ]
  },
  {
   "cell_type": "markdown",
   "metadata": {},
   "source": [
    "### Прогнозирование"
   ]
  },
  {
   "cell_type": "code",
   "execution_count": null,
   "metadata": {
    "is_executing": true
   },
   "outputs": [],
   "source": [
    "# purchases = get_user_purchases(data, batch_size=100_000)\n",
    "# purchases"
   ]
  },
  {
   "cell_type": "code",
   "execution_count": null,
   "metadata": {
    "is_executing": true
   },
   "outputs": [],
   "source": [
    "# three_sigmas(purchases)"
   ]
  },
  {
   "cell_type": "markdown",
   "metadata": {},
   "source": [
    "### Временные ряды"
   ]
  },
  {
   "cell_type": "code",
   "execution_count": null,
   "metadata": {
    "is_executing": true
   },
   "outputs": [],
   "source": [
    "class Period:\n",
    "    def __init__(self, date_from, date_to, date_type='%d.%m.%y'):\n",
    "        self.start = datetime.strptime(date_from, date_type)\n",
    "        self.end = datetime.strptime(date_to, date_type)\n",
    "\n",
    "    def is_in(self, date):\n",
    "        return self.start <= date <= self.end\n",
    "\n",
    "    def includes(self, data):\n",
    "        return data.loc[data.datetime >= self.start].loc[data.datetime <= self.end]"
   ]
  },
  {
   "cell_type": "code",
   "execution_count": null,
   "metadata": {
    "is_executing": true
   },
   "outputs": [],
   "source": [
    "# def get_from_to(data, date_from, date_to, date_type='%d/%m/%y'):\n",
    "#     return data.loc[data.datetime >= datetime.strptime(date_from, date_type)].loc[data.datetime <= datetime.strptime(date_to, date_type)]\n",
    "\n",
    "def get_from_to(data, date_period):\n",
    "    return date_period.includes(data)\n",
    "\n",
    "def get_by_weekday(data, weekday):\n",
    "    i = 0\n",
    "    for ind in weekday_dict:\n",
    "        if weekday == weekday_dict[ind]:\n",
    "            i = ind\n",
    "    return data.loc[data.weekday == i]\n",
    "\n",
    "def sort_by_date(data):\n",
    "    return data.sort_values(by=['datetime'])\n",
    "\n",
    "\n",
    "# sort_by_date(get_from_to(data, '01.04.22', '20.12.22', '%d.%m.%y'))\n",
    "# get_by_weekday(data, 'Четверг')"
   ]
  },
  {
   "cell_type": "code",
   "execution_count": null,
   "metadata": {
    "is_executing": true
   },
   "outputs": [],
   "source": [
    "\n",
    "# sort_by_date(get_from_to(data, Period('01.04.22', '20.12.22', '%d.%m.%y')))"
   ]
  },
  {
   "cell_type": "markdown",
   "metadata": {},
   "source": [
    "### Эластичность спроса по цене"
   ]
  },
  {
   "cell_type": "code",
   "execution_count": null,
   "metadata": {
    "is_executing": true
   },
   "outputs": [],
   "source": [
    "def get_elasticity_over_periods(data, product_id, date_period_1, date_period_2):\n",
    "    data = data[['product_id', 'line_item_price', 'datetime']].loc[data.product_id == product_id]\n",
    "\n",
    "    data_1 = date_period_1.includes(data)\n",
    "    data_2 = date_period_2.includes(data)\n",
    "\n",
    "    count_1 = data_1.shape[0]\n",
    "    count_2 = data_2.shape[0]\n",
    "\n",
    "    price_1 = data_1['line_item_price'].mean()\n",
    "    price_2 = data_2['line_item_price'].mean()\n",
    "\n",
    "    e = ((count_2 - count_1) / count_1) / ((price_2 - price_1) / price_1)\n",
    "    return e"
   ]
  },
  {
   "cell_type": "code",
   "execution_count": null,
   "metadata": {
    "is_executing": true
   },
   "outputs": [],
   "source": [
    "def get_dates_when_price_changed(data, product_id):\n",
    "    data = data[['product_id', 'line_item_price', 'datetime']].loc[data.product_id == product_id]\n",
    "    when_changed = data['line_item_price'].shift() != data['line_item_price']#['datetime']\n",
    "    return when_changed"
   ]
  },
  {
   "cell_type": "code",
   "execution_count": null,
   "metadata": {
    "is_executing": true
   },
   "outputs": [],
   "source": [
    "# get_elasticity_over_periods(data, 18785635, Period('19.10.21', '20.12.22'), Period('20.12.22', '22.12.23'))"
   ]
  },
  {
   "cell_type": "code",
   "execution_count": null,
   "metadata": {
    "is_executing": true
   },
   "outputs": [],
   "source": [
    "# get_dates_when_price_changed(data, 18785635)"
   ]
  },
  {
   "cell_type": "code",
   "execution_count": null,
   "metadata": {
    "is_executing": true
   },
   "outputs": [],
   "source": [
    "import pandas_profiling\n",
    "# prof = data.profile_report(progress_bar=True, explorative=True)"
   ]
  },
  {
   "cell_type": "code",
   "execution_count": null,
   "metadata": {
    "is_executing": true
   },
   "outputs": [],
   "source": [
    "# prof = pandas_profiling.ProfileReport(data)\n",
    "# prof.to_file(output_file='out/output.html')"
   ]
  }
 ],
 "metadata": {
  "kernelspec": {
   "name": "python3",
   "language": "python",
   "display_name": "Python 3 (ipykernel)"
  },
  "language_info": {
   "codemirror_mode": {
    "name": "ipython",
    "version": 3
   },
   "file_extension": ".py",
   "mimetype": "text/x-python",
   "name": "python",
   "nbconvert_exporter": "python",
   "pygments_lexer": "ipython3",
   "version": "3.8.10"
  }
 },
 "nbformat": 4,
 "nbformat_minor": 1
}
