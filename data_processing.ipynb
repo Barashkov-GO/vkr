{
 "cells": [
  {
   "cell_type": "code",
   "execution_count": 3,
   "metadata": {
    "collapsed": true,
    "ExecuteTime": {
     "start_time": "2023-04-23T02:17:05.537519Z",
     "end_time": "2023-04-23T02:17:06.260392Z"
    }
   },
   "outputs": [],
   "source": [
    "import pandas as pd\n",
    "import os\n",
    "import numpy as np\n",
    "import matplotlib.pyplot as plt\n",
    "import matplotlib.colors as mcolors\n",
    "import random"
   ]
  },
  {
   "cell_type": "code",
   "execution_count": 4,
   "outputs": [],
   "source": [
    "FIGURES_PATH = 'out/figures'\n",
    "DATASETS_PATH = 'out/datasets'"
   ],
   "metadata": {
    "collapsed": false,
    "ExecuteTime": {
     "start_time": "2023-04-23T02:17:06.300489Z",
     "end_time": "2023-04-23T02:17:06.307475Z"
    }
   }
  },
  {
   "cell_type": "code",
   "execution_count": 5,
   "outputs": [
    {
     "data": {
      "text/plain": "                             gid                      transaction_key   \n0         BipqVCA9TxmTukbRjRKJXg  009_002_74_2022-04-18 12:22:18_9058  \\\n1         b0R_ll-dSsSbcMvCgNhqyA  009_003_35_2022-08-26 18:00:29_7374   \n2         b0R_ll-dSsSbcMvCgNhqyA  009_003_35_2022-08-26 18:00:29_7374   \n3         b0R_ll-dSsSbcMvCgNhqyA  009_003_35_2022-08-26 18:00:29_7374   \n4         b0R_ll-dSsSbcMvCgNhqyA  009_003_35_2022-08-26 18:00:29_7374   \n...                          ...                                  ...   \n27601037  DJf64XaDQSWhZgwwXld0nw  009_002_75_2022-09-08 11:14:12_4196   \n27601038  DJf64XaDQSWhZgwwXld0nw  009_002_75_2022-09-08 11:14:12_4196   \n27601039  DJf64XaDQSWhZgwwXld0nw  009_002_75_2022-09-08 11:14:12_4196   \n27601040  DJf64XaDQSWhZgwwXld0nw  009_002_75_2022-09-08 11:14:12_4196   \n27601041  DJf64XaDQSWhZgwwXld0nw  009_002_75_2022-09-08 11:14:12_4196   \n\n          store_id opened_date  product_id  line_quantity  line_item_price   \n0                2  2022-04-18    83591944            1.0           2990.0  \\\n1                3  2022-08-26    15058563            2.0           1413.0   \n2                3  2022-08-26    82148968            1.0            338.0   \n3                3  2022-08-26    82148968            3.0            338.0   \n4                3  2022-08-26    16042299            1.0           1634.0   \n...            ...         ...         ...            ...              ...   \n27601037         2  2022-09-08    12240853           21.0             43.0   \n27601038         2  2022-09-08    12240853            1.0             43.0   \n27601039         2  2022-09-08    82258971            1.0            950.0   \n27601040         2  2022-09-08    49000003            1.0              4.0   \n27601041         2  2022-09-08    12657210            7.0            348.0   \n\n          line_item_cost  line_margin  line_type  \n0                2516.10       -24.43      Sales  \n1                1206.73       412.54  Undefined  \n2                 179.51       158.49  Undefined  \n3                 179.51       475.47  Undefined  \n4                1402.83       231.17  Undefined  \n...                  ...          ...        ...  \n27601037           44.66      -185.36      Sales  \n27601038           44.66        -8.83      Sales  \n27601039          969.86      -178.19      Sales  \n27601040             NaN          NaN      Sales  \n27601041          209.88       560.84      Sales  \n\n[27601042 rows x 10 columns]",
      "text/html": "<div>\n<style scoped>\n    .dataframe tbody tr th:only-of-type {\n        vertical-align: middle;\n    }\n\n    .dataframe tbody tr th {\n        vertical-align: top;\n    }\n\n    .dataframe thead th {\n        text-align: right;\n    }\n</style>\n<table border=\"1\" class=\"dataframe\">\n  <thead>\n    <tr style=\"text-align: right;\">\n      <th></th>\n      <th>gid</th>\n      <th>transaction_key</th>\n      <th>store_id</th>\n      <th>opened_date</th>\n      <th>product_id</th>\n      <th>line_quantity</th>\n      <th>line_item_price</th>\n      <th>line_item_cost</th>\n      <th>line_margin</th>\n      <th>line_type</th>\n    </tr>\n  </thead>\n  <tbody>\n    <tr>\n      <th>0</th>\n      <td>BipqVCA9TxmTukbRjRKJXg</td>\n      <td>009_002_74_2022-04-18 12:22:18_9058</td>\n      <td>2</td>\n      <td>2022-04-18</td>\n      <td>83591944</td>\n      <td>1.0</td>\n      <td>2990.0</td>\n      <td>2516.10</td>\n      <td>-24.43</td>\n      <td>Sales</td>\n    </tr>\n    <tr>\n      <th>1</th>\n      <td>b0R_ll-dSsSbcMvCgNhqyA</td>\n      <td>009_003_35_2022-08-26 18:00:29_7374</td>\n      <td>3</td>\n      <td>2022-08-26</td>\n      <td>15058563</td>\n      <td>2.0</td>\n      <td>1413.0</td>\n      <td>1206.73</td>\n      <td>412.54</td>\n      <td>Undefined</td>\n    </tr>\n    <tr>\n      <th>2</th>\n      <td>b0R_ll-dSsSbcMvCgNhqyA</td>\n      <td>009_003_35_2022-08-26 18:00:29_7374</td>\n      <td>3</td>\n      <td>2022-08-26</td>\n      <td>82148968</td>\n      <td>1.0</td>\n      <td>338.0</td>\n      <td>179.51</td>\n      <td>158.49</td>\n      <td>Undefined</td>\n    </tr>\n    <tr>\n      <th>3</th>\n      <td>b0R_ll-dSsSbcMvCgNhqyA</td>\n      <td>009_003_35_2022-08-26 18:00:29_7374</td>\n      <td>3</td>\n      <td>2022-08-26</td>\n      <td>82148968</td>\n      <td>3.0</td>\n      <td>338.0</td>\n      <td>179.51</td>\n      <td>475.47</td>\n      <td>Undefined</td>\n    </tr>\n    <tr>\n      <th>4</th>\n      <td>b0R_ll-dSsSbcMvCgNhqyA</td>\n      <td>009_003_35_2022-08-26 18:00:29_7374</td>\n      <td>3</td>\n      <td>2022-08-26</td>\n      <td>16042299</td>\n      <td>1.0</td>\n      <td>1634.0</td>\n      <td>1402.83</td>\n      <td>231.17</td>\n      <td>Undefined</td>\n    </tr>\n    <tr>\n      <th>...</th>\n      <td>...</td>\n      <td>...</td>\n      <td>...</td>\n      <td>...</td>\n      <td>...</td>\n      <td>...</td>\n      <td>...</td>\n      <td>...</td>\n      <td>...</td>\n      <td>...</td>\n    </tr>\n    <tr>\n      <th>27601037</th>\n      <td>DJf64XaDQSWhZgwwXld0nw</td>\n      <td>009_002_75_2022-09-08 11:14:12_4196</td>\n      <td>2</td>\n      <td>2022-09-08</td>\n      <td>12240853</td>\n      <td>21.0</td>\n      <td>43.0</td>\n      <td>44.66</td>\n      <td>-185.36</td>\n      <td>Sales</td>\n    </tr>\n    <tr>\n      <th>27601038</th>\n      <td>DJf64XaDQSWhZgwwXld0nw</td>\n      <td>009_002_75_2022-09-08 11:14:12_4196</td>\n      <td>2</td>\n      <td>2022-09-08</td>\n      <td>12240853</td>\n      <td>1.0</td>\n      <td>43.0</td>\n      <td>44.66</td>\n      <td>-8.83</td>\n      <td>Sales</td>\n    </tr>\n    <tr>\n      <th>27601039</th>\n      <td>DJf64XaDQSWhZgwwXld0nw</td>\n      <td>009_002_75_2022-09-08 11:14:12_4196</td>\n      <td>2</td>\n      <td>2022-09-08</td>\n      <td>82258971</td>\n      <td>1.0</td>\n      <td>950.0</td>\n      <td>969.86</td>\n      <td>-178.19</td>\n      <td>Sales</td>\n    </tr>\n    <tr>\n      <th>27601040</th>\n      <td>DJf64XaDQSWhZgwwXld0nw</td>\n      <td>009_002_75_2022-09-08 11:14:12_4196</td>\n      <td>2</td>\n      <td>2022-09-08</td>\n      <td>49000003</td>\n      <td>1.0</td>\n      <td>4.0</td>\n      <td>NaN</td>\n      <td>NaN</td>\n      <td>Sales</td>\n    </tr>\n    <tr>\n      <th>27601041</th>\n      <td>DJf64XaDQSWhZgwwXld0nw</td>\n      <td>009_002_75_2022-09-08 11:14:12_4196</td>\n      <td>2</td>\n      <td>2022-09-08</td>\n      <td>12657210</td>\n      <td>7.0</td>\n      <td>348.0</td>\n      <td>209.88</td>\n      <td>560.84</td>\n      <td>Sales</td>\n    </tr>\n  </tbody>\n</table>\n<p>27601042 rows × 10 columns</p>\n</div>"
     },
     "execution_count": 5,
     "metadata": {},
     "output_type": "execute_result"
    }
   ],
   "source": [
    "data = pd.read_csv('datasets/receipts_new.csv')\n",
    "data = data.rename(columns = {'line_item_id': 'product_id'})\n",
    "data"
   ],
   "metadata": {
    "collapsed": false,
    "ExecuteTime": {
     "start_time": "2023-04-23T02:17:06.300592Z",
     "end_time": "2023-04-23T02:17:32.029419Z"
    }
   }
  },
  {
   "cell_type": "markdown",
   "source": [
    "Можно заметить, что совпадают некоторые строки по ключевому признаку - transaction_key, необходимо произвести схлопывание данных по одинаковым ключам с суммированием признаков line_quantity."
   ],
   "metadata": {
    "collapsed": false
   }
  },
  {
   "cell_type": "markdown",
   "source": [
    "### Подключение категорий товаров"
   ],
   "metadata": {
    "collapsed": false
   }
  },
  {
   "cell_type": "code",
   "execution_count": 6,
   "outputs": [
    {
     "data": {
      "text/plain": "        product_id  category_id   \n0         18843508       201658  \\\n1         82406527       201271   \n2         82597131       201274   \n3         84738086       200990   \n4         18816091       200340   \n...            ...          ...   \n540648    82192555       202275   \n540649    82192571       202275   \n540650    82088853       202276   \n540651    81966519       202346   \n540652    82172550       202346   \n\n                                            category_name  \n0       Ручной инструмент для обработки почвы: культив...  \n1                                      Комнатные растения  \n2                 Саженцы плодовых деревьев и кустарников  \n3                               Шторка для ванной комнаты  \n4                                           Кабели для ТВ  \n...                                                   ...  \n540648                             Наконечник для карниза  \n540649                             Наконечник для карниза  \n540650                 Кронштейн для штанги со сверлением  \n540651                              Ткани и тюли на отрез  \n540652                              Ткани и тюли на отрез  \n\n[540653 rows x 3 columns]",
      "text/html": "<div>\n<style scoped>\n    .dataframe tbody tr th:only-of-type {\n        vertical-align: middle;\n    }\n\n    .dataframe tbody tr th {\n        vertical-align: top;\n    }\n\n    .dataframe thead th {\n        text-align: right;\n    }\n</style>\n<table border=\"1\" class=\"dataframe\">\n  <thead>\n    <tr style=\"text-align: right;\">\n      <th></th>\n      <th>product_id</th>\n      <th>category_id</th>\n      <th>category_name</th>\n    </tr>\n  </thead>\n  <tbody>\n    <tr>\n      <th>0</th>\n      <td>18843508</td>\n      <td>201658</td>\n      <td>Ручной инструмент для обработки почвы: культив...</td>\n    </tr>\n    <tr>\n      <th>1</th>\n      <td>82406527</td>\n      <td>201271</td>\n      <td>Комнатные растения</td>\n    </tr>\n    <tr>\n      <th>2</th>\n      <td>82597131</td>\n      <td>201274</td>\n      <td>Саженцы плодовых деревьев и кустарников</td>\n    </tr>\n    <tr>\n      <th>3</th>\n      <td>84738086</td>\n      <td>200990</td>\n      <td>Шторка для ванной комнаты</td>\n    </tr>\n    <tr>\n      <th>4</th>\n      <td>18816091</td>\n      <td>200340</td>\n      <td>Кабели для ТВ</td>\n    </tr>\n    <tr>\n      <th>...</th>\n      <td>...</td>\n      <td>...</td>\n      <td>...</td>\n    </tr>\n    <tr>\n      <th>540648</th>\n      <td>82192555</td>\n      <td>202275</td>\n      <td>Наконечник для карниза</td>\n    </tr>\n    <tr>\n      <th>540649</th>\n      <td>82192571</td>\n      <td>202275</td>\n      <td>Наконечник для карниза</td>\n    </tr>\n    <tr>\n      <th>540650</th>\n      <td>82088853</td>\n      <td>202276</td>\n      <td>Кронштейн для штанги со сверлением</td>\n    </tr>\n    <tr>\n      <th>540651</th>\n      <td>81966519</td>\n      <td>202346</td>\n      <td>Ткани и тюли на отрез</td>\n    </tr>\n    <tr>\n      <th>540652</th>\n      <td>82172550</td>\n      <td>202346</td>\n      <td>Ткани и тюли на отрез</td>\n    </tr>\n  </tbody>\n</table>\n<p>540653 rows × 3 columns</p>\n</div>"
     },
     "execution_count": 6,
     "metadata": {},
     "output_type": "execute_result"
    }
   ],
   "source": [
    "cats = pd.read_csv('datasets/ProductsModels.csv')\n",
    "cats = cats.rename(columns = {'model_id': 'category_id', 'name': 'category_name'})\n",
    "cats"
   ],
   "metadata": {
    "collapsed": false,
    "ExecuteTime": {
     "start_time": "2023-04-23T02:17:31.996494Z",
     "end_time": "2023-04-23T02:17:32.214644Z"
    }
   }
  },
  {
   "cell_type": "code",
   "execution_count": 7,
   "outputs": [
    {
     "name": "stdout",
     "output_type": "stream",
     "text": [
      "<class 'pandas.core.frame.DataFrame'>\n",
      "RangeIndex: 540653 entries, 0 to 540652\n",
      "Data columns (total 3 columns):\n",
      " #   Column         Non-Null Count   Dtype \n",
      "---  ------         --------------   ----- \n",
      " 0   product_id     540653 non-null  int64 \n",
      " 1   category_id    540653 non-null  int64 \n",
      " 2   category_name  540627 non-null  object\n",
      "dtypes: int64(2), object(1)\n",
      "memory usage: 12.4+ MB\n"
     ]
    }
   ],
   "source": [
    "cats.info()"
   ],
   "metadata": {
    "collapsed": false,
    "ExecuteTime": {
     "start_time": "2023-04-23T02:17:32.217118Z",
     "end_time": "2023-04-23T02:17:32.260370Z"
    }
   }
  },
  {
   "cell_type": "code",
   "execution_count": 8,
   "outputs": [
    {
     "data": {
      "text/plain": "                             gid                      transaction_key   \n0         BipqVCA9TxmTukbRjRKJXg  009_002_74_2022-04-18 12:22:18_9058  \\\n1         b0R_ll-dSsSbcMvCgNhqyA  009_003_35_2022-08-26 18:00:29_7374   \n2         b0R_ll-dSsSbcMvCgNhqyA  009_003_35_2022-08-26 18:00:29_7374   \n3         b0R_ll-dSsSbcMvCgNhqyA  009_003_35_2022-08-26 18:00:29_7374   \n4         b0R_ll-dSsSbcMvCgNhqyA  009_003_35_2022-08-26 18:00:29_7374   \n...                          ...                                  ...   \n27601037  DJf64XaDQSWhZgwwXld0nw  009_002_75_2022-09-08 11:14:12_4196   \n27601038  DJf64XaDQSWhZgwwXld0nw  009_002_75_2022-09-08 11:14:12_4196   \n27601039  DJf64XaDQSWhZgwwXld0nw  009_002_75_2022-09-08 11:14:12_4196   \n27601040  DJf64XaDQSWhZgwwXld0nw  009_002_75_2022-09-08 11:14:12_4196   \n27601041  DJf64XaDQSWhZgwwXld0nw  009_002_75_2022-09-08 11:14:12_4196   \n\n          store_id opened_date  product_id  line_quantity  line_item_price   \n0                2  2022-04-18    83591944            1.0           2990.0  \\\n1                3  2022-08-26    15058563            2.0           1413.0   \n2                3  2022-08-26    82148968            1.0            338.0   \n3                3  2022-08-26    82148968            3.0            338.0   \n4                3  2022-08-26    16042299            1.0           1634.0   \n...            ...         ...         ...            ...              ...   \n27601037         2  2022-09-08    12240853           21.0             43.0   \n27601038         2  2022-09-08    12240853            1.0             43.0   \n27601039         2  2022-09-08    82258971            1.0            950.0   \n27601040         2  2022-09-08    49000003            1.0              4.0   \n27601041         2  2022-09-08    12657210            7.0            348.0   \n\n          line_item_cost  line_margin  line_type  category_id   \n0                2516.10       -24.43      Sales     201981.0  \\\n1                1206.73       412.54  Undefined     202253.0   \n2                 179.51       158.49  Undefined     201089.0   \n3                 179.51       475.47  Undefined     201089.0   \n4                1402.83       231.17  Undefined          NaN   \n...                  ...          ...        ...          ...   \n27601037           44.66      -185.36      Sales     200308.0   \n27601038           44.66        -8.83      Sales     200308.0   \n27601039          969.86      -178.19      Sales     200337.0   \n27601040             NaN          NaN      Sales          NaN   \n27601041          209.88       560.84      Sales     202484.0   \n\n                                     category_name  \n0                                        Стремянки  \n1                                        Шпаклевка  \n2         Фитинги латунные для полиэтиленовых труб  \n3         Фитинги латунные для полиэтиленовых труб  \n4                                              NaN  \n...                                            ...  \n27601037                   Силовые розетки и вилки  \n27601038                   Силовые розетки и вилки  \n27601039                            Силовые кабели  \n27601040                                       NaN  \n27601041               Упаковочная пленка в рулоне  \n\n[27601042 rows x 12 columns]",
      "text/html": "<div>\n<style scoped>\n    .dataframe tbody tr th:only-of-type {\n        vertical-align: middle;\n    }\n\n    .dataframe tbody tr th {\n        vertical-align: top;\n    }\n\n    .dataframe thead th {\n        text-align: right;\n    }\n</style>\n<table border=\"1\" class=\"dataframe\">\n  <thead>\n    <tr style=\"text-align: right;\">\n      <th></th>\n      <th>gid</th>\n      <th>transaction_key</th>\n      <th>store_id</th>\n      <th>opened_date</th>\n      <th>product_id</th>\n      <th>line_quantity</th>\n      <th>line_item_price</th>\n      <th>line_item_cost</th>\n      <th>line_margin</th>\n      <th>line_type</th>\n      <th>category_id</th>\n      <th>category_name</th>\n    </tr>\n  </thead>\n  <tbody>\n    <tr>\n      <th>0</th>\n      <td>BipqVCA9TxmTukbRjRKJXg</td>\n      <td>009_002_74_2022-04-18 12:22:18_9058</td>\n      <td>2</td>\n      <td>2022-04-18</td>\n      <td>83591944</td>\n      <td>1.0</td>\n      <td>2990.0</td>\n      <td>2516.10</td>\n      <td>-24.43</td>\n      <td>Sales</td>\n      <td>201981.0</td>\n      <td>Стремянки</td>\n    </tr>\n    <tr>\n      <th>1</th>\n      <td>b0R_ll-dSsSbcMvCgNhqyA</td>\n      <td>009_003_35_2022-08-26 18:00:29_7374</td>\n      <td>3</td>\n      <td>2022-08-26</td>\n      <td>15058563</td>\n      <td>2.0</td>\n      <td>1413.0</td>\n      <td>1206.73</td>\n      <td>412.54</td>\n      <td>Undefined</td>\n      <td>202253.0</td>\n      <td>Шпаклевка</td>\n    </tr>\n    <tr>\n      <th>2</th>\n      <td>b0R_ll-dSsSbcMvCgNhqyA</td>\n      <td>009_003_35_2022-08-26 18:00:29_7374</td>\n      <td>3</td>\n      <td>2022-08-26</td>\n      <td>82148968</td>\n      <td>1.0</td>\n      <td>338.0</td>\n      <td>179.51</td>\n      <td>158.49</td>\n      <td>Undefined</td>\n      <td>201089.0</td>\n      <td>Фитинги латунные для полиэтиленовых труб</td>\n    </tr>\n    <tr>\n      <th>3</th>\n      <td>b0R_ll-dSsSbcMvCgNhqyA</td>\n      <td>009_003_35_2022-08-26 18:00:29_7374</td>\n      <td>3</td>\n      <td>2022-08-26</td>\n      <td>82148968</td>\n      <td>3.0</td>\n      <td>338.0</td>\n      <td>179.51</td>\n      <td>475.47</td>\n      <td>Undefined</td>\n      <td>201089.0</td>\n      <td>Фитинги латунные для полиэтиленовых труб</td>\n    </tr>\n    <tr>\n      <th>4</th>\n      <td>b0R_ll-dSsSbcMvCgNhqyA</td>\n      <td>009_003_35_2022-08-26 18:00:29_7374</td>\n      <td>3</td>\n      <td>2022-08-26</td>\n      <td>16042299</td>\n      <td>1.0</td>\n      <td>1634.0</td>\n      <td>1402.83</td>\n      <td>231.17</td>\n      <td>Undefined</td>\n      <td>NaN</td>\n      <td>NaN</td>\n    </tr>\n    <tr>\n      <th>...</th>\n      <td>...</td>\n      <td>...</td>\n      <td>...</td>\n      <td>...</td>\n      <td>...</td>\n      <td>...</td>\n      <td>...</td>\n      <td>...</td>\n      <td>...</td>\n      <td>...</td>\n      <td>...</td>\n      <td>...</td>\n    </tr>\n    <tr>\n      <th>27601037</th>\n      <td>DJf64XaDQSWhZgwwXld0nw</td>\n      <td>009_002_75_2022-09-08 11:14:12_4196</td>\n      <td>2</td>\n      <td>2022-09-08</td>\n      <td>12240853</td>\n      <td>21.0</td>\n      <td>43.0</td>\n      <td>44.66</td>\n      <td>-185.36</td>\n      <td>Sales</td>\n      <td>200308.0</td>\n      <td>Силовые розетки и вилки</td>\n    </tr>\n    <tr>\n      <th>27601038</th>\n      <td>DJf64XaDQSWhZgwwXld0nw</td>\n      <td>009_002_75_2022-09-08 11:14:12_4196</td>\n      <td>2</td>\n      <td>2022-09-08</td>\n      <td>12240853</td>\n      <td>1.0</td>\n      <td>43.0</td>\n      <td>44.66</td>\n      <td>-8.83</td>\n      <td>Sales</td>\n      <td>200308.0</td>\n      <td>Силовые розетки и вилки</td>\n    </tr>\n    <tr>\n      <th>27601039</th>\n      <td>DJf64XaDQSWhZgwwXld0nw</td>\n      <td>009_002_75_2022-09-08 11:14:12_4196</td>\n      <td>2</td>\n      <td>2022-09-08</td>\n      <td>82258971</td>\n      <td>1.0</td>\n      <td>950.0</td>\n      <td>969.86</td>\n      <td>-178.19</td>\n      <td>Sales</td>\n      <td>200337.0</td>\n      <td>Силовые кабели</td>\n    </tr>\n    <tr>\n      <th>27601040</th>\n      <td>DJf64XaDQSWhZgwwXld0nw</td>\n      <td>009_002_75_2022-09-08 11:14:12_4196</td>\n      <td>2</td>\n      <td>2022-09-08</td>\n      <td>49000003</td>\n      <td>1.0</td>\n      <td>4.0</td>\n      <td>NaN</td>\n      <td>NaN</td>\n      <td>Sales</td>\n      <td>NaN</td>\n      <td>NaN</td>\n    </tr>\n    <tr>\n      <th>27601041</th>\n      <td>DJf64XaDQSWhZgwwXld0nw</td>\n      <td>009_002_75_2022-09-08 11:14:12_4196</td>\n      <td>2</td>\n      <td>2022-09-08</td>\n      <td>12657210</td>\n      <td>7.0</td>\n      <td>348.0</td>\n      <td>209.88</td>\n      <td>560.84</td>\n      <td>Sales</td>\n      <td>202484.0</td>\n      <td>Упаковочная пленка в рулоне</td>\n    </tr>\n  </tbody>\n</table>\n<p>27601042 rows × 12 columns</p>\n</div>"
     },
     "execution_count": 8,
     "metadata": {},
     "output_type": "execute_result"
    }
   ],
   "source": [
    "data = data.join(cats.set_index('product_id'), on='product_id', how='left')\n",
    "data"
   ],
   "metadata": {
    "collapsed": false,
    "ExecuteTime": {
     "start_time": "2023-04-23T02:17:32.240465Z",
     "end_time": "2023-04-23T02:17:35.887149Z"
    }
   }
  },
  {
   "cell_type": "markdown",
   "source": [
    "### Добавление дней недели"
   ],
   "metadata": {
    "collapsed": false
   }
  },
  {
   "cell_type": "code",
   "execution_count": 9,
   "outputs": [
    {
     "data": {
      "text/plain": "                             gid                      transaction_key   \n0         BipqVCA9TxmTukbRjRKJXg  009_002_74_2022-04-18 12:22:18_9058  \\\n1         b0R_ll-dSsSbcMvCgNhqyA  009_003_35_2022-08-26 18:00:29_7374   \n2         b0R_ll-dSsSbcMvCgNhqyA  009_003_35_2022-08-26 18:00:29_7374   \n3         b0R_ll-dSsSbcMvCgNhqyA  009_003_35_2022-08-26 18:00:29_7374   \n4         b0R_ll-dSsSbcMvCgNhqyA  009_003_35_2022-08-26 18:00:29_7374   \n...                          ...                                  ...   \n27601037  DJf64XaDQSWhZgwwXld0nw  009_002_75_2022-09-08 11:14:12_4196   \n27601038  DJf64XaDQSWhZgwwXld0nw  009_002_75_2022-09-08 11:14:12_4196   \n27601039  DJf64XaDQSWhZgwwXld0nw  009_002_75_2022-09-08 11:14:12_4196   \n27601040  DJf64XaDQSWhZgwwXld0nw  009_002_75_2022-09-08 11:14:12_4196   \n27601041  DJf64XaDQSWhZgwwXld0nw  009_002_75_2022-09-08 11:14:12_4196   \n\n          store_id opened_date  product_id  line_quantity  line_item_price   \n0                2  2022-04-18    83591944            1.0           2990.0  \\\n1                3  2022-08-26    15058563            2.0           1413.0   \n2                3  2022-08-26    82148968            1.0            338.0   \n3                3  2022-08-26    82148968            3.0            338.0   \n4                3  2022-08-26    16042299            1.0           1634.0   \n...            ...         ...         ...            ...              ...   \n27601037         2  2022-09-08    12240853           21.0             43.0   \n27601038         2  2022-09-08    12240853            1.0             43.0   \n27601039         2  2022-09-08    82258971            1.0            950.0   \n27601040         2  2022-09-08    49000003            1.0              4.0   \n27601041         2  2022-09-08    12657210            7.0            348.0   \n\n          line_item_cost  line_margin  line_type  category_id   \n0                2516.10       -24.43      Sales     201981.0  \\\n1                1206.73       412.54  Undefined     202253.0   \n2                 179.51       158.49  Undefined     201089.0   \n3                 179.51       475.47  Undefined     201089.0   \n4                1402.83       231.17  Undefined          NaN   \n...                  ...          ...        ...          ...   \n27601037           44.66      -185.36      Sales     200308.0   \n27601038           44.66        -8.83      Sales     200308.0   \n27601039          969.86      -178.19      Sales     200337.0   \n27601040             NaN          NaN      Sales          NaN   \n27601041          209.88       560.84      Sales     202484.0   \n\n                                     category_name            datetime  \n0                                        Стремянки 2022-04-18 12:22:18  \n1                                        Шпаклевка 2022-08-26 18:00:29  \n2         Фитинги латунные для полиэтиленовых труб 2022-08-26 18:00:29  \n3         Фитинги латунные для полиэтиленовых труб 2022-08-26 18:00:29  \n4                                              NaN 2022-08-26 18:00:29  \n...                                            ...                 ...  \n27601037                   Силовые розетки и вилки 2022-09-08 11:14:12  \n27601038                   Силовые розетки и вилки 2022-09-08 11:14:12  \n27601039                            Силовые кабели 2022-09-08 11:14:12  \n27601040                                       NaN 2022-09-08 11:14:12  \n27601041               Упаковочная пленка в рулоне 2022-09-08 11:14:12  \n\n[27601042 rows x 13 columns]",
      "text/html": "<div>\n<style scoped>\n    .dataframe tbody tr th:only-of-type {\n        vertical-align: middle;\n    }\n\n    .dataframe tbody tr th {\n        vertical-align: top;\n    }\n\n    .dataframe thead th {\n        text-align: right;\n    }\n</style>\n<table border=\"1\" class=\"dataframe\">\n  <thead>\n    <tr style=\"text-align: right;\">\n      <th></th>\n      <th>gid</th>\n      <th>transaction_key</th>\n      <th>store_id</th>\n      <th>opened_date</th>\n      <th>product_id</th>\n      <th>line_quantity</th>\n      <th>line_item_price</th>\n      <th>line_item_cost</th>\n      <th>line_margin</th>\n      <th>line_type</th>\n      <th>category_id</th>\n      <th>category_name</th>\n      <th>datetime</th>\n    </tr>\n  </thead>\n  <tbody>\n    <tr>\n      <th>0</th>\n      <td>BipqVCA9TxmTukbRjRKJXg</td>\n      <td>009_002_74_2022-04-18 12:22:18_9058</td>\n      <td>2</td>\n      <td>2022-04-18</td>\n      <td>83591944</td>\n      <td>1.0</td>\n      <td>2990.0</td>\n      <td>2516.10</td>\n      <td>-24.43</td>\n      <td>Sales</td>\n      <td>201981.0</td>\n      <td>Стремянки</td>\n      <td>2022-04-18 12:22:18</td>\n    </tr>\n    <tr>\n      <th>1</th>\n      <td>b0R_ll-dSsSbcMvCgNhqyA</td>\n      <td>009_003_35_2022-08-26 18:00:29_7374</td>\n      <td>3</td>\n      <td>2022-08-26</td>\n      <td>15058563</td>\n      <td>2.0</td>\n      <td>1413.0</td>\n      <td>1206.73</td>\n      <td>412.54</td>\n      <td>Undefined</td>\n      <td>202253.0</td>\n      <td>Шпаклевка</td>\n      <td>2022-08-26 18:00:29</td>\n    </tr>\n    <tr>\n      <th>2</th>\n      <td>b0R_ll-dSsSbcMvCgNhqyA</td>\n      <td>009_003_35_2022-08-26 18:00:29_7374</td>\n      <td>3</td>\n      <td>2022-08-26</td>\n      <td>82148968</td>\n      <td>1.0</td>\n      <td>338.0</td>\n      <td>179.51</td>\n      <td>158.49</td>\n      <td>Undefined</td>\n      <td>201089.0</td>\n      <td>Фитинги латунные для полиэтиленовых труб</td>\n      <td>2022-08-26 18:00:29</td>\n    </tr>\n    <tr>\n      <th>3</th>\n      <td>b0R_ll-dSsSbcMvCgNhqyA</td>\n      <td>009_003_35_2022-08-26 18:00:29_7374</td>\n      <td>3</td>\n      <td>2022-08-26</td>\n      <td>82148968</td>\n      <td>3.0</td>\n      <td>338.0</td>\n      <td>179.51</td>\n      <td>475.47</td>\n      <td>Undefined</td>\n      <td>201089.0</td>\n      <td>Фитинги латунные для полиэтиленовых труб</td>\n      <td>2022-08-26 18:00:29</td>\n    </tr>\n    <tr>\n      <th>4</th>\n      <td>b0R_ll-dSsSbcMvCgNhqyA</td>\n      <td>009_003_35_2022-08-26 18:00:29_7374</td>\n      <td>3</td>\n      <td>2022-08-26</td>\n      <td>16042299</td>\n      <td>1.0</td>\n      <td>1634.0</td>\n      <td>1402.83</td>\n      <td>231.17</td>\n      <td>Undefined</td>\n      <td>NaN</td>\n      <td>NaN</td>\n      <td>2022-08-26 18:00:29</td>\n    </tr>\n    <tr>\n      <th>...</th>\n      <td>...</td>\n      <td>...</td>\n      <td>...</td>\n      <td>...</td>\n      <td>...</td>\n      <td>...</td>\n      <td>...</td>\n      <td>...</td>\n      <td>...</td>\n      <td>...</td>\n      <td>...</td>\n      <td>...</td>\n      <td>...</td>\n    </tr>\n    <tr>\n      <th>27601037</th>\n      <td>DJf64XaDQSWhZgwwXld0nw</td>\n      <td>009_002_75_2022-09-08 11:14:12_4196</td>\n      <td>2</td>\n      <td>2022-09-08</td>\n      <td>12240853</td>\n      <td>21.0</td>\n      <td>43.0</td>\n      <td>44.66</td>\n      <td>-185.36</td>\n      <td>Sales</td>\n      <td>200308.0</td>\n      <td>Силовые розетки и вилки</td>\n      <td>2022-09-08 11:14:12</td>\n    </tr>\n    <tr>\n      <th>27601038</th>\n      <td>DJf64XaDQSWhZgwwXld0nw</td>\n      <td>009_002_75_2022-09-08 11:14:12_4196</td>\n      <td>2</td>\n      <td>2022-09-08</td>\n      <td>12240853</td>\n      <td>1.0</td>\n      <td>43.0</td>\n      <td>44.66</td>\n      <td>-8.83</td>\n      <td>Sales</td>\n      <td>200308.0</td>\n      <td>Силовые розетки и вилки</td>\n      <td>2022-09-08 11:14:12</td>\n    </tr>\n    <tr>\n      <th>27601039</th>\n      <td>DJf64XaDQSWhZgwwXld0nw</td>\n      <td>009_002_75_2022-09-08 11:14:12_4196</td>\n      <td>2</td>\n      <td>2022-09-08</td>\n      <td>82258971</td>\n      <td>1.0</td>\n      <td>950.0</td>\n      <td>969.86</td>\n      <td>-178.19</td>\n      <td>Sales</td>\n      <td>200337.0</td>\n      <td>Силовые кабели</td>\n      <td>2022-09-08 11:14:12</td>\n    </tr>\n    <tr>\n      <th>27601040</th>\n      <td>DJf64XaDQSWhZgwwXld0nw</td>\n      <td>009_002_75_2022-09-08 11:14:12_4196</td>\n      <td>2</td>\n      <td>2022-09-08</td>\n      <td>49000003</td>\n      <td>1.0</td>\n      <td>4.0</td>\n      <td>NaN</td>\n      <td>NaN</td>\n      <td>Sales</td>\n      <td>NaN</td>\n      <td>NaN</td>\n      <td>2022-09-08 11:14:12</td>\n    </tr>\n    <tr>\n      <th>27601041</th>\n      <td>DJf64XaDQSWhZgwwXld0nw</td>\n      <td>009_002_75_2022-09-08 11:14:12_4196</td>\n      <td>2</td>\n      <td>2022-09-08</td>\n      <td>12657210</td>\n      <td>7.0</td>\n      <td>348.0</td>\n      <td>209.88</td>\n      <td>560.84</td>\n      <td>Sales</td>\n      <td>202484.0</td>\n      <td>Упаковочная пленка в рулоне</td>\n      <td>2022-09-08 11:14:12</td>\n    </tr>\n  </tbody>\n</table>\n<p>27601042 rows × 13 columns</p>\n</div>"
     },
     "execution_count": 9,
     "metadata": {},
     "output_type": "execute_result"
    }
   ],
   "source": [
    "def get_data(str):\n",
    "    return str.split('_')[3:4][0]\n",
    "\n",
    "dates = data['transaction_key'].apply(get_data)\n",
    "dates = pd.to_datetime(dates)\n",
    "data['datetime'] = dates\n",
    "data"
   ],
   "metadata": {
    "collapsed": false,
    "ExecuteTime": {
     "start_time": "2023-04-23T02:17:36.047924Z",
     "end_time": "2023-04-23T02:17:59.818559Z"
    }
   }
  },
  {
   "cell_type": "code",
   "execution_count": null,
   "outputs": [],
   "source": [
    "# from datetime import datetime\n",
    "\n",
    "def get_weekday(datetime):\n",
    "    return datetime.weekday()\n",
    "\n",
    "weekdays = data['datetime'].apply(get_weekday)\n",
    "data['weekday'] = weekdays\n",
    "data"
   ],
   "metadata": {
    "collapsed": false,
    "ExecuteTime": {
     "start_time": "2023-04-23T01:36:56.692526Z",
     "end_time": "2023-04-23T01:36:56.734550Z"
    },
    "pycharm": {
     "is_executing": true
    }
   }
  },
  {
   "cell_type": "markdown",
   "source": [
    "### Схлопывание одинаковых позиций в чеках"
   ],
   "metadata": {
    "collapsed": false
   }
  },
  {
   "cell_type": "code",
   "execution_count": null,
   "outputs": [],
   "source": [
    "# data_grouped = data.groupby(by = ['transaction_key'])\n",
    "# data_grouped.head(5)"
   ],
   "metadata": {
    "collapsed": false,
    "ExecuteTime": {
     "start_time": "2023-04-23T02:11:46.532046Z",
     "end_time": "2023-04-23T02:11:46.577192Z"
    },
    "pycharm": {
     "is_executing": true
    }
   }
  },
  {
   "cell_type": "markdown",
   "source": [
    "### Сохранение обработанных данных"
   ],
   "metadata": {
    "collapsed": false
   }
  },
  {
   "cell_type": "code",
   "execution_count": null,
   "outputs": [],
   "source": [
    "data.to_csv(DATASETS_PATH + 'data_processed.csv')"
   ],
   "metadata": {
    "collapsed": false,
    "ExecuteTime": {
     "start_time": "2023-04-23T01:36:56.692649Z",
     "end_time": "2023-04-23T01:40:14.759941Z"
    },
    "pycharm": {
     "is_executing": true
    }
   }
  }
 ],
 "metadata": {
  "kernelspec": {
   "display_name": "Python 3",
   "language": "python",
   "name": "python3"
  },
  "language_info": {
   "codemirror_mode": {
    "name": "ipython",
    "version": 2
   },
   "file_extension": ".py",
   "mimetype": "text/x-python",
   "name": "python",
   "nbconvert_exporter": "python",
   "pygments_lexer": "ipython2",
   "version": "2.7.6"
  }
 },
 "nbformat": 4,
 "nbformat_minor": 0
}
