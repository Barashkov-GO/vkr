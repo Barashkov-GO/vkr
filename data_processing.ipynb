{
 "cells": [
  {
   "cell_type": "code",
   "execution_count": 36,
   "metadata": {
    "ExecuteTime": {
     "start_time": "2023-04-26T22:28:45.484744Z",
     "end_time": "2023-04-26T22:28:45.533286Z"
    }
   },
   "outputs": [],
   "source": [
    "import pandas as pd\n",
    "import os\n",
    "import numpy as np\n",
    "import matplotlib.pyplot as plt\n",
    "import matplotlib.colors as mcolors\n",
    "import random"
   ]
  },
  {
   "cell_type": "code",
   "execution_count": 37,
   "metadata": {
    "ExecuteTime": {
     "start_time": "2023-04-26T22:28:45.494048Z",
     "end_time": "2023-04-26T22:28:45.533453Z"
    }
   },
   "outputs": [],
   "source": [
    "FIGURES_PATH = 'out/figures/'\n",
    "DATASETS_PATH = 'out/datasets/'"
   ]
  },
  {
   "cell_type": "code",
   "execution_count": 38,
   "metadata": {
    "ExecuteTime": {
     "start_time": "2023-04-26T22:28:45.494122Z",
     "end_time": "2023-04-26T22:28:50.138120Z"
    }
   },
   "outputs": [
    {
     "data": {
      "text/plain": "                            gid                      transaction_key   \n0        BipqVCA9TxmTukbRjRKJXg  009_002_74_2022-04-18 12:22:18_9058  \\\n1        b0R_ll-dSsSbcMvCgNhqyA  009_003_35_2022-08-26 18:00:29_7374   \n2        b0R_ll-dSsSbcMvCgNhqyA  009_003_35_2022-08-26 18:00:29_7374   \n3        b0R_ll-dSsSbcMvCgNhqyA  009_003_35_2022-08-26 18:00:29_7374   \n4        b0R_ll-dSsSbcMvCgNhqyA  009_003_35_2022-08-26 18:00:29_7374   \n...                         ...                                  ...   \n4999995  tbW0qVpPSrWJPBa2uF-MNw  009_004_10_2022-10-02 15:20:04_7015   \n4999996  tbW0qVpPSrWJPBa2uF-MNw  009_004_10_2022-10-02 15:20:04_7015   \n4999997  tbW0qVpPSrWJPBa2uF-MNw  009_004_10_2022-10-02 15:20:04_7015   \n4999998  tbW0qVpPSrWJPBa2uF-MNw  009_004_10_2022-10-02 15:20:04_7015   \n4999999  tbW0qVpPSrWJPBa2uF-MNw  009_004_10_2022-10-02 15:20:04_7015   \n\n         store_id opened_date  product_id  line_quantity  line_item_price   \n0               2  2022-04-18    83591944            1.0           2990.0  \\\n1               3  2022-08-26    15058563            2.0           1413.0   \n2               3  2022-08-26    82148968            1.0            338.0   \n3               3  2022-08-26    82148968            3.0            338.0   \n4               3  2022-08-26    16042299            1.0           1634.0   \n...           ...         ...         ...            ...              ...   \n4999995         4  2022-10-02    13426158            1.0             75.0   \n4999996         4  2022-10-02    13426158            1.0             75.0   \n4999997         4  2022-10-02    82138914            1.0            140.0   \n4999998         4  2022-10-02    82138914            1.0            140.0   \n4999999         4  2022-10-02    85174210            1.0            200.0   \n\n         line_item_cost  line_margin  line_type  \n0               2516.10       -24.43      Sales  \n1               1206.73       412.54  Undefined  \n2                179.51       158.49  Undefined  \n3                179.51       475.47  Undefined  \n4               1402.83       231.17  Undefined  \n...                 ...          ...        ...  \n4999995           43.43        19.07      Sales  \n4999996           43.43        19.07      Sales  \n4999997           68.59        48.08      Sales  \n4999998           68.59        48.08      Sales  \n4999999           87.72        78.95      Sales  \n\n[5000000 rows x 10 columns]",
      "text/html": "<div>\n<style scoped>\n    .dataframe tbody tr th:only-of-type {\n        vertical-align: middle;\n    }\n\n    .dataframe tbody tr th {\n        vertical-align: top;\n    }\n\n    .dataframe thead th {\n        text-align: right;\n    }\n</style>\n<table border=\"1\" class=\"dataframe\">\n  <thead>\n    <tr style=\"text-align: right;\">\n      <th></th>\n      <th>gid</th>\n      <th>transaction_key</th>\n      <th>store_id</th>\n      <th>opened_date</th>\n      <th>product_id</th>\n      <th>line_quantity</th>\n      <th>line_item_price</th>\n      <th>line_item_cost</th>\n      <th>line_margin</th>\n      <th>line_type</th>\n    </tr>\n  </thead>\n  <tbody>\n    <tr>\n      <th>0</th>\n      <td>BipqVCA9TxmTukbRjRKJXg</td>\n      <td>009_002_74_2022-04-18 12:22:18_9058</td>\n      <td>2</td>\n      <td>2022-04-18</td>\n      <td>83591944</td>\n      <td>1.0</td>\n      <td>2990.0</td>\n      <td>2516.10</td>\n      <td>-24.43</td>\n      <td>Sales</td>\n    </tr>\n    <tr>\n      <th>1</th>\n      <td>b0R_ll-dSsSbcMvCgNhqyA</td>\n      <td>009_003_35_2022-08-26 18:00:29_7374</td>\n      <td>3</td>\n      <td>2022-08-26</td>\n      <td>15058563</td>\n      <td>2.0</td>\n      <td>1413.0</td>\n      <td>1206.73</td>\n      <td>412.54</td>\n      <td>Undefined</td>\n    </tr>\n    <tr>\n      <th>2</th>\n      <td>b0R_ll-dSsSbcMvCgNhqyA</td>\n      <td>009_003_35_2022-08-26 18:00:29_7374</td>\n      <td>3</td>\n      <td>2022-08-26</td>\n      <td>82148968</td>\n      <td>1.0</td>\n      <td>338.0</td>\n      <td>179.51</td>\n      <td>158.49</td>\n      <td>Undefined</td>\n    </tr>\n    <tr>\n      <th>3</th>\n      <td>b0R_ll-dSsSbcMvCgNhqyA</td>\n      <td>009_003_35_2022-08-26 18:00:29_7374</td>\n      <td>3</td>\n      <td>2022-08-26</td>\n      <td>82148968</td>\n      <td>3.0</td>\n      <td>338.0</td>\n      <td>179.51</td>\n      <td>475.47</td>\n      <td>Undefined</td>\n    </tr>\n    <tr>\n      <th>4</th>\n      <td>b0R_ll-dSsSbcMvCgNhqyA</td>\n      <td>009_003_35_2022-08-26 18:00:29_7374</td>\n      <td>3</td>\n      <td>2022-08-26</td>\n      <td>16042299</td>\n      <td>1.0</td>\n      <td>1634.0</td>\n      <td>1402.83</td>\n      <td>231.17</td>\n      <td>Undefined</td>\n    </tr>\n    <tr>\n      <th>...</th>\n      <td>...</td>\n      <td>...</td>\n      <td>...</td>\n      <td>...</td>\n      <td>...</td>\n      <td>...</td>\n      <td>...</td>\n      <td>...</td>\n      <td>...</td>\n      <td>...</td>\n    </tr>\n    <tr>\n      <th>4999995</th>\n      <td>tbW0qVpPSrWJPBa2uF-MNw</td>\n      <td>009_004_10_2022-10-02 15:20:04_7015</td>\n      <td>4</td>\n      <td>2022-10-02</td>\n      <td>13426158</td>\n      <td>1.0</td>\n      <td>75.0</td>\n      <td>43.43</td>\n      <td>19.07</td>\n      <td>Sales</td>\n    </tr>\n    <tr>\n      <th>4999996</th>\n      <td>tbW0qVpPSrWJPBa2uF-MNw</td>\n      <td>009_004_10_2022-10-02 15:20:04_7015</td>\n      <td>4</td>\n      <td>2022-10-02</td>\n      <td>13426158</td>\n      <td>1.0</td>\n      <td>75.0</td>\n      <td>43.43</td>\n      <td>19.07</td>\n      <td>Sales</td>\n    </tr>\n    <tr>\n      <th>4999997</th>\n      <td>tbW0qVpPSrWJPBa2uF-MNw</td>\n      <td>009_004_10_2022-10-02 15:20:04_7015</td>\n      <td>4</td>\n      <td>2022-10-02</td>\n      <td>82138914</td>\n      <td>1.0</td>\n      <td>140.0</td>\n      <td>68.59</td>\n      <td>48.08</td>\n      <td>Sales</td>\n    </tr>\n    <tr>\n      <th>4999998</th>\n      <td>tbW0qVpPSrWJPBa2uF-MNw</td>\n      <td>009_004_10_2022-10-02 15:20:04_7015</td>\n      <td>4</td>\n      <td>2022-10-02</td>\n      <td>82138914</td>\n      <td>1.0</td>\n      <td>140.0</td>\n      <td>68.59</td>\n      <td>48.08</td>\n      <td>Sales</td>\n    </tr>\n    <tr>\n      <th>4999999</th>\n      <td>tbW0qVpPSrWJPBa2uF-MNw</td>\n      <td>009_004_10_2022-10-02 15:20:04_7015</td>\n      <td>4</td>\n      <td>2022-10-02</td>\n      <td>85174210</td>\n      <td>1.0</td>\n      <td>200.0</td>\n      <td>87.72</td>\n      <td>78.95</td>\n      <td>Sales</td>\n    </tr>\n  </tbody>\n</table>\n<p>5000000 rows × 10 columns</p>\n</div>"
     },
     "execution_count": 38,
     "metadata": {},
     "output_type": "execute_result"
    }
   ],
   "source": [
    "data = pd.read_csv('datasets/receipts_new.csv', nrows=5_000_000)\n",
    "data = data.rename(columns = {'line_item_id': 'product_id'})\n",
    "data\n",
    "# data.head(1000).to_csv('datasets/receipts_sample.csv')"
   ]
  },
  {
   "cell_type": "code",
   "execution_count": 39,
   "outputs": [
    {
     "name": "stdout",
     "output_type": "stream",
     "text": [
      "<class 'pandas.core.frame.DataFrame'>\n",
      "RangeIndex: 5000000 entries, 0 to 4999999\n",
      "Data columns (total 10 columns):\n",
      " #   Column           Dtype  \n",
      "---  ------           -----  \n",
      " 0   gid              object \n",
      " 1   transaction_key  object \n",
      " 2   store_id         int64  \n",
      " 3   opened_date      object \n",
      " 4   product_id       int64  \n",
      " 5   line_quantity    float64\n",
      " 6   line_item_price  float64\n",
      " 7   line_item_cost   float64\n",
      " 8   line_margin      float64\n",
      " 9   line_type        object \n",
      "dtypes: float64(4), int64(2), object(4)\n",
      "memory usage: 1.6 GB\n"
     ]
    }
   ],
   "source": [
    "data.info(memory_usage='deep')"
   ],
   "metadata": {
    "collapsed": false,
    "ExecuteTime": {
     "start_time": "2023-04-26T22:28:51.909281Z",
     "end_time": "2023-04-26T22:28:52.540092Z"
    }
   }
  },
  {
   "cell_type": "markdown",
   "metadata": {},
   "source": [
    "Можно заметить, что совпадают некоторые строки по ключевому признаку - transaction_key, необходимо произвести схлопывание данных по одинаковым ключам с суммированием признаков line_quantity."
   ]
  },
  {
   "cell_type": "markdown",
   "source": [
    "### Сохранение обработанных данных"
   ],
   "metadata": {
    "collapsed": false
   }
  },
  {
   "cell_type": "code",
   "execution_count": 71,
   "outputs": [],
   "source": [
    "def save(data, name):\n",
    "    print('Dataset: {}\\n'.format(name.upper()))\n",
    "    data.info(memory_usage='deep')\n",
    "    data.to_csv(DATASETS_PATH + name)"
   ],
   "metadata": {
    "collapsed": false,
    "ExecuteTime": {
     "start_time": "2023-04-26T22:53:24.220672Z",
     "end_time": "2023-04-26T22:53:24.265324Z"
    }
   }
  },
  {
   "cell_type": "markdown",
   "source": [
    "### Схлопывание одинаковых позиций в чеках"
   ],
   "metadata": {
    "collapsed": false
   }
  },
  {
   "cell_type": "code",
   "execution_count": 40,
   "outputs": [],
   "source": [
    "def collapse(data):\n",
    "    data_grouped = data[['transaction_key', 'product_id', 'line_quantity']].groupby(by = ['transaction_key', 'product_id'])\n",
    "    grouped_series = data_grouped['line_quantity'].agg(lambda x: sum(x))\n",
    "    data = data.join(grouped_series, how='left', on=['transaction_key', 'product_id'], rsuffix='LA')\n",
    "    data = data.drop(columns=['line_quantity', 'line_margin'])\n",
    "    data = data.rename(columns={'line_quantityLA': 'line_quantity'})\n",
    "    return data.drop_duplicates()"
   ],
   "metadata": {
    "collapsed": false,
    "ExecuteTime": {
     "start_time": "2023-04-26T22:28:52.542170Z",
     "end_time": "2023-04-26T22:28:52.609446Z"
    }
   }
  },
  {
   "cell_type": "code",
   "execution_count": 42,
   "outputs": [
    {
     "data": {
      "text/plain": "                            gid                      transaction_key   \n0        BipqVCA9TxmTukbRjRKJXg  009_002_74_2022-04-18 12:22:18_9058  \\\n1        b0R_ll-dSsSbcMvCgNhqyA  009_003_35_2022-08-26 18:00:29_7374   \n2        b0R_ll-dSsSbcMvCgNhqyA  009_003_35_2022-08-26 18:00:29_7374   \n4        b0R_ll-dSsSbcMvCgNhqyA  009_003_35_2022-08-26 18:00:29_7374   \n5        b0R_ll-dSsSbcMvCgNhqyA  009_003_35_2022-08-26 18:00:29_7374   \n...                         ...                                  ...   \n4999993  CVDg3s84SQ6UkMm2QOLu1A   009_003_6_2022-09-10 10:31:18_7691   \n4999994  tbW0qVpPSrWJPBa2uF-MNw  009_004_10_2022-10-02 15:20:04_7015   \n4999995  tbW0qVpPSrWJPBa2uF-MNw  009_004_10_2022-10-02 15:20:04_7015   \n4999997  tbW0qVpPSrWJPBa2uF-MNw  009_004_10_2022-10-02 15:20:04_7015   \n4999999  tbW0qVpPSrWJPBa2uF-MNw  009_004_10_2022-10-02 15:20:04_7015   \n\n         store_id opened_date  product_id  line_item_price  line_item_cost   \n0               2  2022-04-18    83591944           2990.0         2516.10  \\\n1               3  2022-08-26    15058563           1413.0         1206.73   \n2               3  2022-08-26    82148968            338.0          179.51   \n4               3  2022-08-26    16042299           1634.0         1402.83   \n5               3  2022-08-26    82107700             78.0           61.70   \n...           ...         ...         ...              ...             ...   \n4999993         3  2022-09-10    82800679            103.0           47.79   \n4999994         4  2022-10-02    84817570            138.0           86.00   \n4999995         4  2022-10-02    13426158             75.0           43.43   \n4999997         4  2022-10-02    82138914            140.0           68.59   \n4999999         4  2022-10-02    85174210            200.0           87.72   \n\n         line_type  line_quantity  \n0            Sales            1.0  \n1        Undefined            2.0  \n2        Undefined            4.0  \n4        Undefined            1.0  \n5        Undefined           40.0  \n...            ...            ...  \n4999993      Sales            1.0  \n4999994      Sales            1.0  \n4999995      Sales            2.0  \n4999997      Sales            2.0  \n4999999      Sales            1.0  \n\n[3744907 rows x 9 columns]",
      "text/html": "<div>\n<style scoped>\n    .dataframe tbody tr th:only-of-type {\n        vertical-align: middle;\n    }\n\n    .dataframe tbody tr th {\n        vertical-align: top;\n    }\n\n    .dataframe thead th {\n        text-align: right;\n    }\n</style>\n<table border=\"1\" class=\"dataframe\">\n  <thead>\n    <tr style=\"text-align: right;\">\n      <th></th>\n      <th>gid</th>\n      <th>transaction_key</th>\n      <th>store_id</th>\n      <th>opened_date</th>\n      <th>product_id</th>\n      <th>line_item_price</th>\n      <th>line_item_cost</th>\n      <th>line_type</th>\n      <th>line_quantity</th>\n    </tr>\n  </thead>\n  <tbody>\n    <tr>\n      <th>0</th>\n      <td>BipqVCA9TxmTukbRjRKJXg</td>\n      <td>009_002_74_2022-04-18 12:22:18_9058</td>\n      <td>2</td>\n      <td>2022-04-18</td>\n      <td>83591944</td>\n      <td>2990.0</td>\n      <td>2516.10</td>\n      <td>Sales</td>\n      <td>1.0</td>\n    </tr>\n    <tr>\n      <th>1</th>\n      <td>b0R_ll-dSsSbcMvCgNhqyA</td>\n      <td>009_003_35_2022-08-26 18:00:29_7374</td>\n      <td>3</td>\n      <td>2022-08-26</td>\n      <td>15058563</td>\n      <td>1413.0</td>\n      <td>1206.73</td>\n      <td>Undefined</td>\n      <td>2.0</td>\n    </tr>\n    <tr>\n      <th>2</th>\n      <td>b0R_ll-dSsSbcMvCgNhqyA</td>\n      <td>009_003_35_2022-08-26 18:00:29_7374</td>\n      <td>3</td>\n      <td>2022-08-26</td>\n      <td>82148968</td>\n      <td>338.0</td>\n      <td>179.51</td>\n      <td>Undefined</td>\n      <td>4.0</td>\n    </tr>\n    <tr>\n      <th>4</th>\n      <td>b0R_ll-dSsSbcMvCgNhqyA</td>\n      <td>009_003_35_2022-08-26 18:00:29_7374</td>\n      <td>3</td>\n      <td>2022-08-26</td>\n      <td>16042299</td>\n      <td>1634.0</td>\n      <td>1402.83</td>\n      <td>Undefined</td>\n      <td>1.0</td>\n    </tr>\n    <tr>\n      <th>5</th>\n      <td>b0R_ll-dSsSbcMvCgNhqyA</td>\n      <td>009_003_35_2022-08-26 18:00:29_7374</td>\n      <td>3</td>\n      <td>2022-08-26</td>\n      <td>82107700</td>\n      <td>78.0</td>\n      <td>61.70</td>\n      <td>Undefined</td>\n      <td>40.0</td>\n    </tr>\n    <tr>\n      <th>...</th>\n      <td>...</td>\n      <td>...</td>\n      <td>...</td>\n      <td>...</td>\n      <td>...</td>\n      <td>...</td>\n      <td>...</td>\n      <td>...</td>\n      <td>...</td>\n    </tr>\n    <tr>\n      <th>4999993</th>\n      <td>CVDg3s84SQ6UkMm2QOLu1A</td>\n      <td>009_003_6_2022-09-10 10:31:18_7691</td>\n      <td>3</td>\n      <td>2022-09-10</td>\n      <td>82800679</td>\n      <td>103.0</td>\n      <td>47.79</td>\n      <td>Sales</td>\n      <td>1.0</td>\n    </tr>\n    <tr>\n      <th>4999994</th>\n      <td>tbW0qVpPSrWJPBa2uF-MNw</td>\n      <td>009_004_10_2022-10-02 15:20:04_7015</td>\n      <td>4</td>\n      <td>2022-10-02</td>\n      <td>84817570</td>\n      <td>138.0</td>\n      <td>86.00</td>\n      <td>Sales</td>\n      <td>1.0</td>\n    </tr>\n    <tr>\n      <th>4999995</th>\n      <td>tbW0qVpPSrWJPBa2uF-MNw</td>\n      <td>009_004_10_2022-10-02 15:20:04_7015</td>\n      <td>4</td>\n      <td>2022-10-02</td>\n      <td>13426158</td>\n      <td>75.0</td>\n      <td>43.43</td>\n      <td>Sales</td>\n      <td>2.0</td>\n    </tr>\n    <tr>\n      <th>4999997</th>\n      <td>tbW0qVpPSrWJPBa2uF-MNw</td>\n      <td>009_004_10_2022-10-02 15:20:04_7015</td>\n      <td>4</td>\n      <td>2022-10-02</td>\n      <td>82138914</td>\n      <td>140.0</td>\n      <td>68.59</td>\n      <td>Sales</td>\n      <td>2.0</td>\n    </tr>\n    <tr>\n      <th>4999999</th>\n      <td>tbW0qVpPSrWJPBa2uF-MNw</td>\n      <td>009_004_10_2022-10-02 15:20:04_7015</td>\n      <td>4</td>\n      <td>2022-10-02</td>\n      <td>85174210</td>\n      <td>200.0</td>\n      <td>87.72</td>\n      <td>Sales</td>\n      <td>1.0</td>\n    </tr>\n  </tbody>\n</table>\n<p>3744907 rows × 9 columns</p>\n</div>"
     },
     "execution_count": 42,
     "metadata": {},
     "output_type": "execute_result"
    }
   ],
   "source": [
    "data = collapse(data)\n",
    "data"
   ],
   "metadata": {
    "collapsed": false,
    "ExecuteTime": {
     "start_time": "2023-04-26T22:30:14.620869Z",
     "end_time": "2023-04-26T22:30:19.945550Z"
    }
   }
  },
  {
   "cell_type": "markdown",
   "source": [
    "### Преобразование transaction_key"
   ],
   "metadata": {
    "collapsed": false
   }
  },
  {
   "cell_type": "code",
   "execution_count": 44,
   "outputs": [
    {
     "data": {
      "text/plain": "                            gid                      transaction_key   \n0        BipqVCA9TxmTukbRjRKJXg  009_002_74_2022-04-18 12:22:18_9058  \\\n1        b0R_ll-dSsSbcMvCgNhqyA  009_003_35_2022-08-26 18:00:29_7374   \n2        b0R_ll-dSsSbcMvCgNhqyA  009_003_35_2022-08-26 18:00:29_7374   \n4        b0R_ll-dSsSbcMvCgNhqyA  009_003_35_2022-08-26 18:00:29_7374   \n5        b0R_ll-dSsSbcMvCgNhqyA  009_003_35_2022-08-26 18:00:29_7374   \n...                         ...                                  ...   \n4999993  CVDg3s84SQ6UkMm2QOLu1A   009_003_6_2022-09-10 10:31:18_7691   \n4999994  tbW0qVpPSrWJPBa2uF-MNw  009_004_10_2022-10-02 15:20:04_7015   \n4999995  tbW0qVpPSrWJPBa2uF-MNw  009_004_10_2022-10-02 15:20:04_7015   \n4999997  tbW0qVpPSrWJPBa2uF-MNw  009_004_10_2022-10-02 15:20:04_7015   \n4999999  tbW0qVpPSrWJPBa2uF-MNw  009_004_10_2022-10-02 15:20:04_7015   \n\n         store_id opened_date  product_id  line_item_price  line_item_cost   \n0               2  2022-04-18    83591944           2990.0         2516.10  \\\n1               3  2022-08-26    15058563           1413.0         1206.73   \n2               3  2022-08-26    82148968            338.0          179.51   \n4               3  2022-08-26    16042299           1634.0         1402.83   \n5               3  2022-08-26    82107700             78.0           61.70   \n...           ...         ...         ...              ...             ...   \n4999993         3  2022-09-10    82800679            103.0           47.79   \n4999994         4  2022-10-02    84817570            138.0           86.00   \n4999995         4  2022-10-02    13426158             75.0           43.43   \n4999997         4  2022-10-02    82138914            140.0           68.59   \n4999999         4  2022-10-02    85174210            200.0           87.72   \n\n         line_type  line_quantity            datetime  \n0            Sales            1.0 2022-04-18 12:22:18  \n1        Undefined            2.0 2022-08-26 18:00:29  \n2        Undefined            4.0 2022-08-26 18:00:29  \n4        Undefined            1.0 2022-08-26 18:00:29  \n5        Undefined           40.0 2022-08-26 18:00:29  \n...            ...            ...                 ...  \n4999993      Sales            1.0 2022-09-10 10:31:18  \n4999994      Sales            1.0 2022-10-02 15:20:04  \n4999995      Sales            2.0 2022-10-02 15:20:04  \n4999997      Sales            2.0 2022-10-02 15:20:04  \n4999999      Sales            1.0 2022-10-02 15:20:04  \n\n[3744907 rows x 10 columns]",
      "text/html": "<div>\n<style scoped>\n    .dataframe tbody tr th:only-of-type {\n        vertical-align: middle;\n    }\n\n    .dataframe tbody tr th {\n        vertical-align: top;\n    }\n\n    .dataframe thead th {\n        text-align: right;\n    }\n</style>\n<table border=\"1\" class=\"dataframe\">\n  <thead>\n    <tr style=\"text-align: right;\">\n      <th></th>\n      <th>gid</th>\n      <th>transaction_key</th>\n      <th>store_id</th>\n      <th>opened_date</th>\n      <th>product_id</th>\n      <th>line_item_price</th>\n      <th>line_item_cost</th>\n      <th>line_type</th>\n      <th>line_quantity</th>\n      <th>datetime</th>\n    </tr>\n  </thead>\n  <tbody>\n    <tr>\n      <th>0</th>\n      <td>BipqVCA9TxmTukbRjRKJXg</td>\n      <td>009_002_74_2022-04-18 12:22:18_9058</td>\n      <td>2</td>\n      <td>2022-04-18</td>\n      <td>83591944</td>\n      <td>2990.0</td>\n      <td>2516.10</td>\n      <td>Sales</td>\n      <td>1.0</td>\n      <td>2022-04-18 12:22:18</td>\n    </tr>\n    <tr>\n      <th>1</th>\n      <td>b0R_ll-dSsSbcMvCgNhqyA</td>\n      <td>009_003_35_2022-08-26 18:00:29_7374</td>\n      <td>3</td>\n      <td>2022-08-26</td>\n      <td>15058563</td>\n      <td>1413.0</td>\n      <td>1206.73</td>\n      <td>Undefined</td>\n      <td>2.0</td>\n      <td>2022-08-26 18:00:29</td>\n    </tr>\n    <tr>\n      <th>2</th>\n      <td>b0R_ll-dSsSbcMvCgNhqyA</td>\n      <td>009_003_35_2022-08-26 18:00:29_7374</td>\n      <td>3</td>\n      <td>2022-08-26</td>\n      <td>82148968</td>\n      <td>338.0</td>\n      <td>179.51</td>\n      <td>Undefined</td>\n      <td>4.0</td>\n      <td>2022-08-26 18:00:29</td>\n    </tr>\n    <tr>\n      <th>4</th>\n      <td>b0R_ll-dSsSbcMvCgNhqyA</td>\n      <td>009_003_35_2022-08-26 18:00:29_7374</td>\n      <td>3</td>\n      <td>2022-08-26</td>\n      <td>16042299</td>\n      <td>1634.0</td>\n      <td>1402.83</td>\n      <td>Undefined</td>\n      <td>1.0</td>\n      <td>2022-08-26 18:00:29</td>\n    </tr>\n    <tr>\n      <th>5</th>\n      <td>b0R_ll-dSsSbcMvCgNhqyA</td>\n      <td>009_003_35_2022-08-26 18:00:29_7374</td>\n      <td>3</td>\n      <td>2022-08-26</td>\n      <td>82107700</td>\n      <td>78.0</td>\n      <td>61.70</td>\n      <td>Undefined</td>\n      <td>40.0</td>\n      <td>2022-08-26 18:00:29</td>\n    </tr>\n    <tr>\n      <th>...</th>\n      <td>...</td>\n      <td>...</td>\n      <td>...</td>\n      <td>...</td>\n      <td>...</td>\n      <td>...</td>\n      <td>...</td>\n      <td>...</td>\n      <td>...</td>\n      <td>...</td>\n    </tr>\n    <tr>\n      <th>4999993</th>\n      <td>CVDg3s84SQ6UkMm2QOLu1A</td>\n      <td>009_003_6_2022-09-10 10:31:18_7691</td>\n      <td>3</td>\n      <td>2022-09-10</td>\n      <td>82800679</td>\n      <td>103.0</td>\n      <td>47.79</td>\n      <td>Sales</td>\n      <td>1.0</td>\n      <td>2022-09-10 10:31:18</td>\n    </tr>\n    <tr>\n      <th>4999994</th>\n      <td>tbW0qVpPSrWJPBa2uF-MNw</td>\n      <td>009_004_10_2022-10-02 15:20:04_7015</td>\n      <td>4</td>\n      <td>2022-10-02</td>\n      <td>84817570</td>\n      <td>138.0</td>\n      <td>86.00</td>\n      <td>Sales</td>\n      <td>1.0</td>\n      <td>2022-10-02 15:20:04</td>\n    </tr>\n    <tr>\n      <th>4999995</th>\n      <td>tbW0qVpPSrWJPBa2uF-MNw</td>\n      <td>009_004_10_2022-10-02 15:20:04_7015</td>\n      <td>4</td>\n      <td>2022-10-02</td>\n      <td>13426158</td>\n      <td>75.0</td>\n      <td>43.43</td>\n      <td>Sales</td>\n      <td>2.0</td>\n      <td>2022-10-02 15:20:04</td>\n    </tr>\n    <tr>\n      <th>4999997</th>\n      <td>tbW0qVpPSrWJPBa2uF-MNw</td>\n      <td>009_004_10_2022-10-02 15:20:04_7015</td>\n      <td>4</td>\n      <td>2022-10-02</td>\n      <td>82138914</td>\n      <td>140.0</td>\n      <td>68.59</td>\n      <td>Sales</td>\n      <td>2.0</td>\n      <td>2022-10-02 15:20:04</td>\n    </tr>\n    <tr>\n      <th>4999999</th>\n      <td>tbW0qVpPSrWJPBa2uF-MNw</td>\n      <td>009_004_10_2022-10-02 15:20:04_7015</td>\n      <td>4</td>\n      <td>2022-10-02</td>\n      <td>85174210</td>\n      <td>200.0</td>\n      <td>87.72</td>\n      <td>Sales</td>\n      <td>1.0</td>\n      <td>2022-10-02 15:20:04</td>\n    </tr>\n  </tbody>\n</table>\n<p>3744907 rows × 10 columns</p>\n</div>"
     },
     "execution_count": 44,
     "metadata": {},
     "output_type": "execute_result"
    }
   ],
   "source": [
    "def get_data(str):\n",
    "    return str.split('_')[3:4][0]\n",
    "\n",
    "def get_key(str):\n",
    "    splitted = str.split('_')\n",
    "    ans = ''\n",
    "    for i in range(3):\n",
    "        ans += splitted[i]\n",
    "    ans += splitted[-1]\n",
    "    return int(ans)\n",
    "\n",
    "def transform_transaction_key(data):\n",
    "    dates = data['transaction_key'].apply(get_data)\n",
    "    dates = pd.to_datetime(dates)\n",
    "    data['datetime'] = dates\n",
    "\n",
    "    keys = data['transaction_key']\n",
    "    keys = keys.to_frame()\n",
    "    keys = keys.drop_duplicates()\n",
    "    keys['key_id'] = [i for i in range(keys.shape[0])]\n",
    "\n",
    "    keys = keys.rename(columns={'transaction_key': 'new_key', 'original': 'transaction_key'})\n",
    "    data = data.join(keys.drop(columns=['new_key']).set_index('transaction_key'), how='left', on='transaction_key')\n",
    "    data = data.drop(columns=['transaction_key'])\n",
    "    save(keys, 'transaction_key_keys.csv')\n",
    "    return data"
   ],
   "metadata": {
    "collapsed": false,
    "ExecuteTime": {
     "start_time": "2023-04-26T22:30:19.976394Z",
     "end_time": "2023-04-26T22:30:23.317590Z"
    }
   }
  },
  {
   "cell_type": "code",
   "execution_count": null,
   "outputs": [],
   "source": [
    "data = transform_transaction_key(data)\n",
    "data"
   ],
   "metadata": {
    "collapsed": false
   }
  },
  {
   "cell_type": "markdown",
   "source": [
    "### Преобразование gid"
   ],
   "metadata": {
    "collapsed": false
   }
  },
  {
   "cell_type": "code",
   "execution_count": 49,
   "outputs": [
    {
     "data": {
      "text/plain": "                            gid  gid_id\n0        BipqVCA9TxmTukbRjRKJXg       0\n1        b0R_ll-dSsSbcMvCgNhqyA       1\n58       kSUiFGs-ShWInP0RKU7URw       2\n59       8bhSbGSSQ-2ddsYDarsxxA       3\n61       HIrEdmVmTEGL9tVVWN-FGw       4\n...                         ...     ...\n4999835  8QK_Kxt_TlmdmqWreTV9IA  385917\n4999935  hTXYOTZTSKK78LtPPpJv4A  385918\n4999967  EP86noWCT8uxwhTMwdDyJw  385919\n4999985  CVDg3s84SQ6UkMm2QOLu1A  385920\n4999994  tbW0qVpPSrWJPBa2uF-MNw  385921\n\n[385922 rows x 2 columns]",
      "text/html": "<div>\n<style scoped>\n    .dataframe tbody tr th:only-of-type {\n        vertical-align: middle;\n    }\n\n    .dataframe tbody tr th {\n        vertical-align: top;\n    }\n\n    .dataframe thead th {\n        text-align: right;\n    }\n</style>\n<table border=\"1\" class=\"dataframe\">\n  <thead>\n    <tr style=\"text-align: right;\">\n      <th></th>\n      <th>gid</th>\n      <th>gid_id</th>\n    </tr>\n  </thead>\n  <tbody>\n    <tr>\n      <th>0</th>\n      <td>BipqVCA9TxmTukbRjRKJXg</td>\n      <td>0</td>\n    </tr>\n    <tr>\n      <th>1</th>\n      <td>b0R_ll-dSsSbcMvCgNhqyA</td>\n      <td>1</td>\n    </tr>\n    <tr>\n      <th>58</th>\n      <td>kSUiFGs-ShWInP0RKU7URw</td>\n      <td>2</td>\n    </tr>\n    <tr>\n      <th>59</th>\n      <td>8bhSbGSSQ-2ddsYDarsxxA</td>\n      <td>3</td>\n    </tr>\n    <tr>\n      <th>61</th>\n      <td>HIrEdmVmTEGL9tVVWN-FGw</td>\n      <td>4</td>\n    </tr>\n    <tr>\n      <th>...</th>\n      <td>...</td>\n      <td>...</td>\n    </tr>\n    <tr>\n      <th>4999835</th>\n      <td>8QK_Kxt_TlmdmqWreTV9IA</td>\n      <td>385917</td>\n    </tr>\n    <tr>\n      <th>4999935</th>\n      <td>hTXYOTZTSKK78LtPPpJv4A</td>\n      <td>385918</td>\n    </tr>\n    <tr>\n      <th>4999967</th>\n      <td>EP86noWCT8uxwhTMwdDyJw</td>\n      <td>385919</td>\n    </tr>\n    <tr>\n      <th>4999985</th>\n      <td>CVDg3s84SQ6UkMm2QOLu1A</td>\n      <td>385920</td>\n    </tr>\n    <tr>\n      <th>4999994</th>\n      <td>tbW0qVpPSrWJPBa2uF-MNw</td>\n      <td>385921</td>\n    </tr>\n  </tbody>\n</table>\n<p>385922 rows × 2 columns</p>\n</div>"
     },
     "execution_count": 49,
     "metadata": {},
     "output_type": "execute_result"
    }
   ],
   "source": [
    "def transform_gid(data):\n",
    "    gids = data['gid']\n",
    "    gids = gids.drop_duplicates()\n",
    "    gids = gids.to_frame()\n",
    "    gids['gid_id'] = [i for i in range(gids.shape[0])]\n",
    "    # gids\n",
    "    save(gids, 'gid_keys.csv')\n",
    "    data = data.join(gids.set_index('gid'), on='gid', how='left')\n",
    "    return data.drop(columns=['gid'])"
   ],
   "metadata": {
    "collapsed": false,
    "ExecuteTime": {
     "start_time": "2023-04-26T22:30:31.745312Z",
     "end_time": "2023-04-26T22:30:31.864203Z"
    }
   }
  },
  {
   "cell_type": "code",
   "execution_count": 50,
   "outputs": [
    {
     "data": {
      "text/plain": "         store_id opened_date  product_id  line_item_price  line_item_cost   \n0               2  2022-04-18    83591944           2990.0         2516.10  \\\n1               3  2022-08-26    15058563           1413.0         1206.73   \n2               3  2022-08-26    82148968            338.0          179.51   \n4               3  2022-08-26    16042299           1634.0         1402.83   \n5               3  2022-08-26    82107700             78.0           61.70   \n...           ...         ...         ...              ...             ...   \n4999993         3  2022-09-10    82800679            103.0           47.79   \n4999994         4  2022-10-02    84817570            138.0           86.00   \n4999995         4  2022-10-02    13426158             75.0           43.43   \n4999997         4  2022-10-02    82138914            140.0           68.59   \n4999999         4  2022-10-02    85174210            200.0           87.72   \n\n         line_type  line_quantity            datetime  key_id  gid_id  \n0            Sales            1.0 2022-04-18 12:22:18       0       0  \n1        Undefined            2.0 2022-08-26 18:00:29       1       1  \n2        Undefined            4.0 2022-08-26 18:00:29       1       1  \n4        Undefined            1.0 2022-08-26 18:00:29       1       1  \n5        Undefined           40.0 2022-08-26 18:00:29       1       1  \n...            ...            ...                 ...     ...     ...  \n4999993      Sales            1.0 2022-09-10 10:31:18  715767  385920  \n4999994      Sales            1.0 2022-10-02 15:20:04  715768  385921  \n4999995      Sales            2.0 2022-10-02 15:20:04  715768  385921  \n4999997      Sales            2.0 2022-10-02 15:20:04  715768  385921  \n4999999      Sales            1.0 2022-10-02 15:20:04  715768  385921  \n\n[3744907 rows x 10 columns]",
      "text/html": "<div>\n<style scoped>\n    .dataframe tbody tr th:only-of-type {\n        vertical-align: middle;\n    }\n\n    .dataframe tbody tr th {\n        vertical-align: top;\n    }\n\n    .dataframe thead th {\n        text-align: right;\n    }\n</style>\n<table border=\"1\" class=\"dataframe\">\n  <thead>\n    <tr style=\"text-align: right;\">\n      <th></th>\n      <th>store_id</th>\n      <th>opened_date</th>\n      <th>product_id</th>\n      <th>line_item_price</th>\n      <th>line_item_cost</th>\n      <th>line_type</th>\n      <th>line_quantity</th>\n      <th>datetime</th>\n      <th>key_id</th>\n      <th>gid_id</th>\n    </tr>\n  </thead>\n  <tbody>\n    <tr>\n      <th>0</th>\n      <td>2</td>\n      <td>2022-04-18</td>\n      <td>83591944</td>\n      <td>2990.0</td>\n      <td>2516.10</td>\n      <td>Sales</td>\n      <td>1.0</td>\n      <td>2022-04-18 12:22:18</td>\n      <td>0</td>\n      <td>0</td>\n    </tr>\n    <tr>\n      <th>1</th>\n      <td>3</td>\n      <td>2022-08-26</td>\n      <td>15058563</td>\n      <td>1413.0</td>\n      <td>1206.73</td>\n      <td>Undefined</td>\n      <td>2.0</td>\n      <td>2022-08-26 18:00:29</td>\n      <td>1</td>\n      <td>1</td>\n    </tr>\n    <tr>\n      <th>2</th>\n      <td>3</td>\n      <td>2022-08-26</td>\n      <td>82148968</td>\n      <td>338.0</td>\n      <td>179.51</td>\n      <td>Undefined</td>\n      <td>4.0</td>\n      <td>2022-08-26 18:00:29</td>\n      <td>1</td>\n      <td>1</td>\n    </tr>\n    <tr>\n      <th>4</th>\n      <td>3</td>\n      <td>2022-08-26</td>\n      <td>16042299</td>\n      <td>1634.0</td>\n      <td>1402.83</td>\n      <td>Undefined</td>\n      <td>1.0</td>\n      <td>2022-08-26 18:00:29</td>\n      <td>1</td>\n      <td>1</td>\n    </tr>\n    <tr>\n      <th>5</th>\n      <td>3</td>\n      <td>2022-08-26</td>\n      <td>82107700</td>\n      <td>78.0</td>\n      <td>61.70</td>\n      <td>Undefined</td>\n      <td>40.0</td>\n      <td>2022-08-26 18:00:29</td>\n      <td>1</td>\n      <td>1</td>\n    </tr>\n    <tr>\n      <th>...</th>\n      <td>...</td>\n      <td>...</td>\n      <td>...</td>\n      <td>...</td>\n      <td>...</td>\n      <td>...</td>\n      <td>...</td>\n      <td>...</td>\n      <td>...</td>\n      <td>...</td>\n    </tr>\n    <tr>\n      <th>4999993</th>\n      <td>3</td>\n      <td>2022-09-10</td>\n      <td>82800679</td>\n      <td>103.0</td>\n      <td>47.79</td>\n      <td>Sales</td>\n      <td>1.0</td>\n      <td>2022-09-10 10:31:18</td>\n      <td>715767</td>\n      <td>385920</td>\n    </tr>\n    <tr>\n      <th>4999994</th>\n      <td>4</td>\n      <td>2022-10-02</td>\n      <td>84817570</td>\n      <td>138.0</td>\n      <td>86.00</td>\n      <td>Sales</td>\n      <td>1.0</td>\n      <td>2022-10-02 15:20:04</td>\n      <td>715768</td>\n      <td>385921</td>\n    </tr>\n    <tr>\n      <th>4999995</th>\n      <td>4</td>\n      <td>2022-10-02</td>\n      <td>13426158</td>\n      <td>75.0</td>\n      <td>43.43</td>\n      <td>Sales</td>\n      <td>2.0</td>\n      <td>2022-10-02 15:20:04</td>\n      <td>715768</td>\n      <td>385921</td>\n    </tr>\n    <tr>\n      <th>4999997</th>\n      <td>4</td>\n      <td>2022-10-02</td>\n      <td>82138914</td>\n      <td>140.0</td>\n      <td>68.59</td>\n      <td>Sales</td>\n      <td>2.0</td>\n      <td>2022-10-02 15:20:04</td>\n      <td>715768</td>\n      <td>385921</td>\n    </tr>\n    <tr>\n      <th>4999999</th>\n      <td>4</td>\n      <td>2022-10-02</td>\n      <td>85174210</td>\n      <td>200.0</td>\n      <td>87.72</td>\n      <td>Sales</td>\n      <td>1.0</td>\n      <td>2022-10-02 15:20:04</td>\n      <td>715768</td>\n      <td>385921</td>\n    </tr>\n  </tbody>\n</table>\n<p>3744907 rows × 10 columns</p>\n</div>"
     },
     "execution_count": 50,
     "metadata": {},
     "output_type": "execute_result"
    }
   ],
   "source": [
    "data = transform_gid(data)\n",
    "data"
   ],
   "metadata": {
    "collapsed": false,
    "ExecuteTime": {
     "start_time": "2023-04-26T22:30:31.872246Z",
     "end_time": "2023-04-26T22:30:32.609129Z"
    }
   }
  },
  {
   "cell_type": "markdown",
   "source": [
    "### Преобразование line_type"
   ],
   "metadata": {
    "collapsed": false
   }
  },
  {
   "cell_type": "code",
   "execution_count": 52,
   "outputs": [
    {
     "data": {
      "text/plain": "                  line_type  line_type_id\n0                     Sales             0\n1                 Undefined             1\n58          pickedUp orders             2\n240     Orders (Prepayment)             3\n271557            gift card             4",
      "text/html": "<div>\n<style scoped>\n    .dataframe tbody tr th:only-of-type {\n        vertical-align: middle;\n    }\n\n    .dataframe tbody tr th {\n        vertical-align: top;\n    }\n\n    .dataframe thead th {\n        text-align: right;\n    }\n</style>\n<table border=\"1\" class=\"dataframe\">\n  <thead>\n    <tr style=\"text-align: right;\">\n      <th></th>\n      <th>line_type</th>\n      <th>line_type_id</th>\n    </tr>\n  </thead>\n  <tbody>\n    <tr>\n      <th>0</th>\n      <td>Sales</td>\n      <td>0</td>\n    </tr>\n    <tr>\n      <th>1</th>\n      <td>Undefined</td>\n      <td>1</td>\n    </tr>\n    <tr>\n      <th>58</th>\n      <td>pickedUp orders</td>\n      <td>2</td>\n    </tr>\n    <tr>\n      <th>240</th>\n      <td>Orders (Prepayment)</td>\n      <td>3</td>\n    </tr>\n    <tr>\n      <th>271557</th>\n      <td>gift card</td>\n      <td>4</td>\n    </tr>\n  </tbody>\n</table>\n</div>"
     },
     "execution_count": 52,
     "metadata": {},
     "output_type": "execute_result"
    }
   ],
   "source": [
    "def transform_line_type(data):\n",
    "    line_types = data['line_type']\n",
    "    line_types = line_types.drop_duplicates()\n",
    "    line_types = line_types.to_frame()\n",
    "    line_types['line_type_id'] = [i for i in range(line_types.shape[0])]\n",
    "    # line_types\n",
    "    save(line_types, 'line_type_keys.csv')\n",
    "    data = data.join(line_types.set_index('line_type'), on='line_type', how='left')\n",
    "    return data.drop(columns=['line_type'])"
   ],
   "metadata": {
    "collapsed": false,
    "ExecuteTime": {
     "start_time": "2023-04-26T22:30:33.438412Z",
     "end_time": "2023-04-26T22:30:33.446773Z"
    }
   }
  },
  {
   "cell_type": "code",
   "execution_count": 53,
   "outputs": [
    {
     "data": {
      "text/plain": "         store_id opened_date  product_id  line_item_price  line_item_cost   \n0               2  2022-04-18    83591944           2990.0         2516.10  \\\n1               3  2022-08-26    15058563           1413.0         1206.73   \n2               3  2022-08-26    82148968            338.0          179.51   \n4               3  2022-08-26    16042299           1634.0         1402.83   \n5               3  2022-08-26    82107700             78.0           61.70   \n...           ...         ...         ...              ...             ...   \n4999993         3  2022-09-10    82800679            103.0           47.79   \n4999994         4  2022-10-02    84817570            138.0           86.00   \n4999995         4  2022-10-02    13426158             75.0           43.43   \n4999997         4  2022-10-02    82138914            140.0           68.59   \n4999999         4  2022-10-02    85174210            200.0           87.72   \n\n         line_quantity            datetime  key_id  gid_id  line_type_id  \n0                  1.0 2022-04-18 12:22:18       0       0             0  \n1                  2.0 2022-08-26 18:00:29       1       1             1  \n2                  4.0 2022-08-26 18:00:29       1       1             1  \n4                  1.0 2022-08-26 18:00:29       1       1             1  \n5                 40.0 2022-08-26 18:00:29       1       1             1  \n...                ...                 ...     ...     ...           ...  \n4999993            1.0 2022-09-10 10:31:18  715767  385920             0  \n4999994            1.0 2022-10-02 15:20:04  715768  385921             0  \n4999995            2.0 2022-10-02 15:20:04  715768  385921             0  \n4999997            2.0 2022-10-02 15:20:04  715768  385921             0  \n4999999            1.0 2022-10-02 15:20:04  715768  385921             0  \n\n[3744907 rows x 10 columns]",
      "text/html": "<div>\n<style scoped>\n    .dataframe tbody tr th:only-of-type {\n        vertical-align: middle;\n    }\n\n    .dataframe tbody tr th {\n        vertical-align: top;\n    }\n\n    .dataframe thead th {\n        text-align: right;\n    }\n</style>\n<table border=\"1\" class=\"dataframe\">\n  <thead>\n    <tr style=\"text-align: right;\">\n      <th></th>\n      <th>store_id</th>\n      <th>opened_date</th>\n      <th>product_id</th>\n      <th>line_item_price</th>\n      <th>line_item_cost</th>\n      <th>line_quantity</th>\n      <th>datetime</th>\n      <th>key_id</th>\n      <th>gid_id</th>\n      <th>line_type_id</th>\n    </tr>\n  </thead>\n  <tbody>\n    <tr>\n      <th>0</th>\n      <td>2</td>\n      <td>2022-04-18</td>\n      <td>83591944</td>\n      <td>2990.0</td>\n      <td>2516.10</td>\n      <td>1.0</td>\n      <td>2022-04-18 12:22:18</td>\n      <td>0</td>\n      <td>0</td>\n      <td>0</td>\n    </tr>\n    <tr>\n      <th>1</th>\n      <td>3</td>\n      <td>2022-08-26</td>\n      <td>15058563</td>\n      <td>1413.0</td>\n      <td>1206.73</td>\n      <td>2.0</td>\n      <td>2022-08-26 18:00:29</td>\n      <td>1</td>\n      <td>1</td>\n      <td>1</td>\n    </tr>\n    <tr>\n      <th>2</th>\n      <td>3</td>\n      <td>2022-08-26</td>\n      <td>82148968</td>\n      <td>338.0</td>\n      <td>179.51</td>\n      <td>4.0</td>\n      <td>2022-08-26 18:00:29</td>\n      <td>1</td>\n      <td>1</td>\n      <td>1</td>\n    </tr>\n    <tr>\n      <th>4</th>\n      <td>3</td>\n      <td>2022-08-26</td>\n      <td>16042299</td>\n      <td>1634.0</td>\n      <td>1402.83</td>\n      <td>1.0</td>\n      <td>2022-08-26 18:00:29</td>\n      <td>1</td>\n      <td>1</td>\n      <td>1</td>\n    </tr>\n    <tr>\n      <th>5</th>\n      <td>3</td>\n      <td>2022-08-26</td>\n      <td>82107700</td>\n      <td>78.0</td>\n      <td>61.70</td>\n      <td>40.0</td>\n      <td>2022-08-26 18:00:29</td>\n      <td>1</td>\n      <td>1</td>\n      <td>1</td>\n    </tr>\n    <tr>\n      <th>...</th>\n      <td>...</td>\n      <td>...</td>\n      <td>...</td>\n      <td>...</td>\n      <td>...</td>\n      <td>...</td>\n      <td>...</td>\n      <td>...</td>\n      <td>...</td>\n      <td>...</td>\n    </tr>\n    <tr>\n      <th>4999993</th>\n      <td>3</td>\n      <td>2022-09-10</td>\n      <td>82800679</td>\n      <td>103.0</td>\n      <td>47.79</td>\n      <td>1.0</td>\n      <td>2022-09-10 10:31:18</td>\n      <td>715767</td>\n      <td>385920</td>\n      <td>0</td>\n    </tr>\n    <tr>\n      <th>4999994</th>\n      <td>4</td>\n      <td>2022-10-02</td>\n      <td>84817570</td>\n      <td>138.0</td>\n      <td>86.00</td>\n      <td>1.0</td>\n      <td>2022-10-02 15:20:04</td>\n      <td>715768</td>\n      <td>385921</td>\n      <td>0</td>\n    </tr>\n    <tr>\n      <th>4999995</th>\n      <td>4</td>\n      <td>2022-10-02</td>\n      <td>13426158</td>\n      <td>75.0</td>\n      <td>43.43</td>\n      <td>2.0</td>\n      <td>2022-10-02 15:20:04</td>\n      <td>715768</td>\n      <td>385921</td>\n      <td>0</td>\n    </tr>\n    <tr>\n      <th>4999997</th>\n      <td>4</td>\n      <td>2022-10-02</td>\n      <td>82138914</td>\n      <td>140.0</td>\n      <td>68.59</td>\n      <td>2.0</td>\n      <td>2022-10-02 15:20:04</td>\n      <td>715768</td>\n      <td>385921</td>\n      <td>0</td>\n    </tr>\n    <tr>\n      <th>4999999</th>\n      <td>4</td>\n      <td>2022-10-02</td>\n      <td>85174210</td>\n      <td>200.0</td>\n      <td>87.72</td>\n      <td>1.0</td>\n      <td>2022-10-02 15:20:04</td>\n      <td>715768</td>\n      <td>385921</td>\n      <td>0</td>\n    </tr>\n  </tbody>\n</table>\n<p>3744907 rows × 10 columns</p>\n</div>"
     },
     "execution_count": 53,
     "metadata": {},
     "output_type": "execute_result"
    }
   ],
   "source": [
    "data = transform_line_type(data)\n",
    "data"
   ],
   "metadata": {
    "collapsed": false,
    "ExecuteTime": {
     "start_time": "2023-04-26T22:30:33.626590Z",
     "end_time": "2023-04-26T22:30:33.981735Z"
    }
   }
  },
  {
   "cell_type": "markdown",
   "metadata": {},
   "source": [
    "### Подключение категорий товаров"
   ]
  },
  {
   "cell_type": "code",
   "execution_count": 55,
   "metadata": {
    "ExecuteTime": {
     "start_time": "2023-04-26T22:30:33.987682Z",
     "end_time": "2023-04-26T22:30:34.277235Z"
    }
   },
   "outputs": [
    {
     "data": {
      "text/plain": "        product_id  category_id   \n0         18843508       201658  \\\n1         82406527       201271   \n2         82597131       201274   \n3         84738086       200990   \n4         18816091       200340   \n...            ...          ...   \n540648    82192555       202275   \n540649    82192571       202275   \n540650    82088853       202276   \n540651    81966519       202346   \n540652    82172550       202346   \n\n                                            category_name  \n0       Ручной инструмент для обработки почвы: культив...  \n1                                      Комнатные растения  \n2                 Саженцы плодовых деревьев и кустарников  \n3                               Шторка для ванной комнаты  \n4                                           Кабели для ТВ  \n...                                                   ...  \n540648                             Наконечник для карниза  \n540649                             Наконечник для карниза  \n540650                 Кронштейн для штанги со сверлением  \n540651                              Ткани и тюли на отрез  \n540652                              Ткани и тюли на отрез  \n\n[540653 rows x 3 columns]",
      "text/html": "<div>\n<style scoped>\n    .dataframe tbody tr th:only-of-type {\n        vertical-align: middle;\n    }\n\n    .dataframe tbody tr th {\n        vertical-align: top;\n    }\n\n    .dataframe thead th {\n        text-align: right;\n    }\n</style>\n<table border=\"1\" class=\"dataframe\">\n  <thead>\n    <tr style=\"text-align: right;\">\n      <th></th>\n      <th>product_id</th>\n      <th>category_id</th>\n      <th>category_name</th>\n    </tr>\n  </thead>\n  <tbody>\n    <tr>\n      <th>0</th>\n      <td>18843508</td>\n      <td>201658</td>\n      <td>Ручной инструмент для обработки почвы: культив...</td>\n    </tr>\n    <tr>\n      <th>1</th>\n      <td>82406527</td>\n      <td>201271</td>\n      <td>Комнатные растения</td>\n    </tr>\n    <tr>\n      <th>2</th>\n      <td>82597131</td>\n      <td>201274</td>\n      <td>Саженцы плодовых деревьев и кустарников</td>\n    </tr>\n    <tr>\n      <th>3</th>\n      <td>84738086</td>\n      <td>200990</td>\n      <td>Шторка для ванной комнаты</td>\n    </tr>\n    <tr>\n      <th>4</th>\n      <td>18816091</td>\n      <td>200340</td>\n      <td>Кабели для ТВ</td>\n    </tr>\n    <tr>\n      <th>...</th>\n      <td>...</td>\n      <td>...</td>\n      <td>...</td>\n    </tr>\n    <tr>\n      <th>540648</th>\n      <td>82192555</td>\n      <td>202275</td>\n      <td>Наконечник для карниза</td>\n    </tr>\n    <tr>\n      <th>540649</th>\n      <td>82192571</td>\n      <td>202275</td>\n      <td>Наконечник для карниза</td>\n    </tr>\n    <tr>\n      <th>540650</th>\n      <td>82088853</td>\n      <td>202276</td>\n      <td>Кронштейн для штанги со сверлением</td>\n    </tr>\n    <tr>\n      <th>540651</th>\n      <td>81966519</td>\n      <td>202346</td>\n      <td>Ткани и тюли на отрез</td>\n    </tr>\n    <tr>\n      <th>540652</th>\n      <td>82172550</td>\n      <td>202346</td>\n      <td>Ткани и тюли на отрез</td>\n    </tr>\n  </tbody>\n</table>\n<p>540653 rows × 3 columns</p>\n</div>"
     },
     "execution_count": 55,
     "metadata": {},
     "output_type": "execute_result"
    }
   ],
   "source": [
    "def include_categories(data, cats_path='datasets/ProductsModels.csv'):\n",
    "    cats = pd.read_csv(cats_path)\n",
    "    cats = cats.rename(columns = {'model_id': 'category_id', 'name': 'category_name'})\n",
    "    # cats\n",
    "    categories = cats[['category_id', 'category_name']].drop_duplicates()\n",
    "    # categories\n",
    "    save(categories, 'categories.csv')\n",
    "    cats = cats.drop(columns = ['category_name'])\n",
    "    data = data.join(cats.set_index('product_id'), on='product_id', how='left')\n",
    "    return data"
   ]
  },
  {
   "cell_type": "code",
   "execution_count": 56,
   "metadata": {
    "ExecuteTime": {
     "start_time": "2023-04-26T22:30:34.277017Z",
     "end_time": "2023-04-26T22:30:34.291864Z"
    }
   },
   "outputs": [
    {
     "data": {
      "text/plain": "        category_id                                      category_name\n0            201658  Ручной инструмент для обработки почвы: культив...\n1            201271                                 Комнатные растения\n2            201274            Саженцы плодовых деревьев и кустарников\n3            200990                          Шторка для ванной комнаты\n4            200340                                      Кабели для ТВ\n...             ...                                                ...\n531601       201720                     Моноблочный насос для бассейна\n532491       201008                        Прокладки для душевых кабин\n532663       201015                     Подставка для душевого поддона\n536625       202387                     Кабель с выключателем и вилкой\n540415       200790                                   Фрезер ламельный\n\n[2305 rows x 2 columns]",
      "text/html": "<div>\n<style scoped>\n    .dataframe tbody tr th:only-of-type {\n        vertical-align: middle;\n    }\n\n    .dataframe tbody tr th {\n        vertical-align: top;\n    }\n\n    .dataframe thead th {\n        text-align: right;\n    }\n</style>\n<table border=\"1\" class=\"dataframe\">\n  <thead>\n    <tr style=\"text-align: right;\">\n      <th></th>\n      <th>category_id</th>\n      <th>category_name</th>\n    </tr>\n  </thead>\n  <tbody>\n    <tr>\n      <th>0</th>\n      <td>201658</td>\n      <td>Ручной инструмент для обработки почвы: культив...</td>\n    </tr>\n    <tr>\n      <th>1</th>\n      <td>201271</td>\n      <td>Комнатные растения</td>\n    </tr>\n    <tr>\n      <th>2</th>\n      <td>201274</td>\n      <td>Саженцы плодовых деревьев и кустарников</td>\n    </tr>\n    <tr>\n      <th>3</th>\n      <td>200990</td>\n      <td>Шторка для ванной комнаты</td>\n    </tr>\n    <tr>\n      <th>4</th>\n      <td>200340</td>\n      <td>Кабели для ТВ</td>\n    </tr>\n    <tr>\n      <th>...</th>\n      <td>...</td>\n      <td>...</td>\n    </tr>\n    <tr>\n      <th>531601</th>\n      <td>201720</td>\n      <td>Моноблочный насос для бассейна</td>\n    </tr>\n    <tr>\n      <th>532491</th>\n      <td>201008</td>\n      <td>Прокладки для душевых кабин</td>\n    </tr>\n    <tr>\n      <th>532663</th>\n      <td>201015</td>\n      <td>Подставка для душевого поддона</td>\n    </tr>\n    <tr>\n      <th>536625</th>\n      <td>202387</td>\n      <td>Кабель с выключателем и вилкой</td>\n    </tr>\n    <tr>\n      <th>540415</th>\n      <td>200790</td>\n      <td>Фрезер ламельный</td>\n    </tr>\n  </tbody>\n</table>\n<p>2305 rows × 2 columns</p>\n</div>"
     },
     "execution_count": 56,
     "metadata": {},
     "output_type": "execute_result"
    }
   ],
   "source": [
    "data = include_categories(data, 'datasets/ProductsModels.csv')"
   ]
  },
  {
   "cell_type": "markdown",
   "metadata": {},
   "source": [
    "### Добавление дней недели"
   ]
  },
  {
   "cell_type": "code",
   "execution_count": 60,
   "metadata": {
    "ExecuteTime": {
     "start_time": "2023-04-26T22:30:35.541046Z",
     "end_time": "2023-04-26T22:30:35.542770Z"
    }
   },
   "outputs": [],
   "source": [
    "weekday_dict = {\n",
    "    0: 'Воскресенье',\n",
    "    1: 'Понедельник',\n",
    "    2: 'Вторник',\n",
    "    3: 'Среда',\n",
    "    4: 'Четверг',\n",
    "    5: 'Пятница',\n",
    "    6: 'Суббота',\n",
    "               }\n",
    "\n",
    "weekday_dict.values()\n",
    "weekdays_series = pd.Series(weekday_dict.values())\n",
    "weekdays_series = weekdays_series.to_frame()\n",
    "weekdays_series['weekday_id'] = weekdays_series.index\n",
    "\n",
    "\n",
    "save(weekdays_series, 'weekdays_keys.csv')"
   ]
  },
  {
   "cell_type": "code",
   "execution_count": 61,
   "metadata": {
    "ExecuteTime": {
     "start_time": "2023-04-26T22:30:35.545903Z",
     "end_time": "2023-04-26T22:30:42.098113Z"
    }
   },
   "outputs": [
    {
     "data": {
      "text/plain": "         store_id opened_date  product_id  line_item_price  line_item_cost   \n0               2  2022-04-18    83591944           2990.0         2516.10  \\\n1               3  2022-08-26    15058563           1413.0         1206.73   \n2               3  2022-08-26    82148968            338.0          179.51   \n4               3  2022-08-26    16042299           1634.0         1402.83   \n5               3  2022-08-26    82107700             78.0           61.70   \n...           ...         ...         ...              ...             ...   \n4999993         3  2022-09-10    82800679            103.0           47.79   \n4999994         4  2022-10-02    84817570            138.0           86.00   \n4999995         4  2022-10-02    13426158             75.0           43.43   \n4999997         4  2022-10-02    82138914            140.0           68.59   \n4999999         4  2022-10-02    85174210            200.0           87.72   \n\n         line_quantity            datetime  key_id  gid_id  line_type_id   \n0                  1.0 2022-04-18 12:22:18       0       0             0  \\\n1                  2.0 2022-08-26 18:00:29       1       1             1   \n2                  4.0 2022-08-26 18:00:29       1       1             1   \n4                  1.0 2022-08-26 18:00:29       1       1             1   \n5                 40.0 2022-08-26 18:00:29       1       1             1   \n...                ...                 ...     ...     ...           ...   \n4999993            1.0 2022-09-10 10:31:18  715767  385920             0   \n4999994            1.0 2022-10-02 15:20:04  715768  385921             0   \n4999995            2.0 2022-10-02 15:20:04  715768  385921             0   \n4999997            2.0 2022-10-02 15:20:04  715768  385921             0   \n4999999            1.0 2022-10-02 15:20:04  715768  385921             0   \n\n         category_id  weekday  \n0           201981.0        0  \n1           202253.0        4  \n2           201089.0        4  \n4                NaN        4  \n5           201089.0        4  \n...              ...      ...  \n4999993     202211.0        5  \n4999994     200614.0        6  \n4999995     201286.0        6  \n4999997     200165.0        6  \n4999999     202040.0        6  \n\n[3744907 rows x 12 columns]",
      "text/html": "<div>\n<style scoped>\n    .dataframe tbody tr th:only-of-type {\n        vertical-align: middle;\n    }\n\n    .dataframe tbody tr th {\n        vertical-align: top;\n    }\n\n    .dataframe thead th {\n        text-align: right;\n    }\n</style>\n<table border=\"1\" class=\"dataframe\">\n  <thead>\n    <tr style=\"text-align: right;\">\n      <th></th>\n      <th>store_id</th>\n      <th>opened_date</th>\n      <th>product_id</th>\n      <th>line_item_price</th>\n      <th>line_item_cost</th>\n      <th>line_quantity</th>\n      <th>datetime</th>\n      <th>key_id</th>\n      <th>gid_id</th>\n      <th>line_type_id</th>\n      <th>category_id</th>\n      <th>weekday</th>\n    </tr>\n  </thead>\n  <tbody>\n    <tr>\n      <th>0</th>\n      <td>2</td>\n      <td>2022-04-18</td>\n      <td>83591944</td>\n      <td>2990.0</td>\n      <td>2516.10</td>\n      <td>1.0</td>\n      <td>2022-04-18 12:22:18</td>\n      <td>0</td>\n      <td>0</td>\n      <td>0</td>\n      <td>201981.0</td>\n      <td>0</td>\n    </tr>\n    <tr>\n      <th>1</th>\n      <td>3</td>\n      <td>2022-08-26</td>\n      <td>15058563</td>\n      <td>1413.0</td>\n      <td>1206.73</td>\n      <td>2.0</td>\n      <td>2022-08-26 18:00:29</td>\n      <td>1</td>\n      <td>1</td>\n      <td>1</td>\n      <td>202253.0</td>\n      <td>4</td>\n    </tr>\n    <tr>\n      <th>2</th>\n      <td>3</td>\n      <td>2022-08-26</td>\n      <td>82148968</td>\n      <td>338.0</td>\n      <td>179.51</td>\n      <td>4.0</td>\n      <td>2022-08-26 18:00:29</td>\n      <td>1</td>\n      <td>1</td>\n      <td>1</td>\n      <td>201089.0</td>\n      <td>4</td>\n    </tr>\n    <tr>\n      <th>4</th>\n      <td>3</td>\n      <td>2022-08-26</td>\n      <td>16042299</td>\n      <td>1634.0</td>\n      <td>1402.83</td>\n      <td>1.0</td>\n      <td>2022-08-26 18:00:29</td>\n      <td>1</td>\n      <td>1</td>\n      <td>1</td>\n      <td>NaN</td>\n      <td>4</td>\n    </tr>\n    <tr>\n      <th>5</th>\n      <td>3</td>\n      <td>2022-08-26</td>\n      <td>82107700</td>\n      <td>78.0</td>\n      <td>61.70</td>\n      <td>40.0</td>\n      <td>2022-08-26 18:00:29</td>\n      <td>1</td>\n      <td>1</td>\n      <td>1</td>\n      <td>201089.0</td>\n      <td>4</td>\n    </tr>\n    <tr>\n      <th>...</th>\n      <td>...</td>\n      <td>...</td>\n      <td>...</td>\n      <td>...</td>\n      <td>...</td>\n      <td>...</td>\n      <td>...</td>\n      <td>...</td>\n      <td>...</td>\n      <td>...</td>\n      <td>...</td>\n      <td>...</td>\n    </tr>\n    <tr>\n      <th>4999993</th>\n      <td>3</td>\n      <td>2022-09-10</td>\n      <td>82800679</td>\n      <td>103.0</td>\n      <td>47.79</td>\n      <td>1.0</td>\n      <td>2022-09-10 10:31:18</td>\n      <td>715767</td>\n      <td>385920</td>\n      <td>0</td>\n      <td>202211.0</td>\n      <td>5</td>\n    </tr>\n    <tr>\n      <th>4999994</th>\n      <td>4</td>\n      <td>2022-10-02</td>\n      <td>84817570</td>\n      <td>138.0</td>\n      <td>86.00</td>\n      <td>1.0</td>\n      <td>2022-10-02 15:20:04</td>\n      <td>715768</td>\n      <td>385921</td>\n      <td>0</td>\n      <td>200614.0</td>\n      <td>6</td>\n    </tr>\n    <tr>\n      <th>4999995</th>\n      <td>4</td>\n      <td>2022-10-02</td>\n      <td>13426158</td>\n      <td>75.0</td>\n      <td>43.43</td>\n      <td>2.0</td>\n      <td>2022-10-02 15:20:04</td>\n      <td>715768</td>\n      <td>385921</td>\n      <td>0</td>\n      <td>201286.0</td>\n      <td>6</td>\n    </tr>\n    <tr>\n      <th>4999997</th>\n      <td>4</td>\n      <td>2022-10-02</td>\n      <td>82138914</td>\n      <td>140.0</td>\n      <td>68.59</td>\n      <td>2.0</td>\n      <td>2022-10-02 15:20:04</td>\n      <td>715768</td>\n      <td>385921</td>\n      <td>0</td>\n      <td>200165.0</td>\n      <td>6</td>\n    </tr>\n    <tr>\n      <th>4999999</th>\n      <td>4</td>\n      <td>2022-10-02</td>\n      <td>85174210</td>\n      <td>200.0</td>\n      <td>87.72</td>\n      <td>1.0</td>\n      <td>2022-10-02 15:20:04</td>\n      <td>715768</td>\n      <td>385921</td>\n      <td>0</td>\n      <td>202040.0</td>\n      <td>6</td>\n    </tr>\n  </tbody>\n</table>\n<p>3744907 rows × 12 columns</p>\n</div>"
     },
     "execution_count": 61,
     "metadata": {},
     "output_type": "execute_result"
    }
   ],
   "source": [
    "def include_weekday(data):\n",
    "    def get_weekday(datetime):\n",
    "        return datetime.weekday()\n",
    "\n",
    "    weekdays = data['datetime'].apply(get_weekday)\n",
    "    data['weekday'] = weekdays\n",
    "    return data"
   ]
  },
  {
   "cell_type": "code",
   "execution_count": 62,
   "outputs": [],
   "source": [
    "data = include_weekday(data)\n",
    "data"
   ],
   "metadata": {
    "collapsed": false,
    "ExecuteTime": {
     "start_time": "2023-04-26T22:30:42.100298Z",
     "end_time": "2023-04-26T22:30:42.164149Z"
    }
   }
  },
  {
   "cell_type": "markdown",
   "source": [
    "### Обработка всего набора данных"
   ],
   "metadata": {
    "collapsed": false
   }
  },
  {
   "cell_type": "code",
   "execution_count": null,
   "outputs": [],
   "source": [
    "BATCH_SIZE = 500_000\n",
    "PATH = 'datasets/receipts_new.csv'"
   ],
   "metadata": {
    "collapsed": false
   }
  },
  {
   "cell_type": "code",
   "execution_count": null,
   "outputs": [],
   "source": [
    "def process_data(batch_size=BATCH_SIZE, path=PATH):\n",
    "    data = pd.read_csv(path)\n",
    "\n",
    "    trans_id = {}\n",
    "    gid_id = {}\n",
    "    types_id = {}\n",
    "\n",
    "    for batch in np.array_split(data, batch_size):\n",
    "        batch = batch.rename(columns = {'line_item_id': 'product_id'})\n",
    "        batch = collapse(batch)\n",
    "        batch, trans_id = transform_transaction_key(batch, trans_id)\n",
    "        batch, gid_id = transform_gid(batch, gid_id)\n",
    "        batch, types_id = transform_line_type(batch, types_id)\n"
   ],
   "metadata": {
    "collapsed": false
   }
  },
  {
   "cell_type": "code",
   "execution_count": 70,
   "outputs": [
    {
     "name": "stdout",
     "output_type": "stream",
     "text": [
      "Dataset: DATA_PROCESSED.CSV\n",
      "\n",
      "<class 'pandas.core.frame.DataFrame'>\n",
      "Index: 3744907 entries, 147073 to 659668\n",
      "Data columns (total 12 columns):\n",
      " #   Column           Dtype         \n",
      "---  ------           -----         \n",
      " 0   store_id         int64         \n",
      " 1   opened_date      object        \n",
      " 2   product_id       int64         \n",
      " 3   line_item_price  float64       \n",
      " 4   line_item_cost   float64       \n",
      " 5   line_quantity    float64       \n",
      " 6   datetime         datetime64[ns]\n",
      " 7   key_id           int64         \n",
      " 8   gid_id           int64         \n",
      " 9   line_type_id     int64         \n",
      " 10  category_id      float64       \n",
      " 11  weekday          int64         \n",
      "dtypes: datetime64[ns](1), float64(4), int64(6), object(1)\n",
      "memory usage: 582.1 MB\n"
     ]
    }
   ],
   "source": [
    "save(data, 'data_processed.csv')"
   ],
   "metadata": {
    "collapsed": false,
    "ExecuteTime": {
     "start_time": "2023-04-26T22:52:32.343806Z",
     "end_time": "2023-04-26T22:52:54.315750Z"
    }
   }
  }
 ],
 "metadata": {
  "kernelspec": {
   "display_name": "Python 3 (ipykernel)",
   "language": "python",
   "name": "python3"
  },
  "language_info": {
   "codemirror_mode": {
    "name": "ipython",
    "version": 3
   },
   "file_extension": ".py",
   "mimetype": "text/x-python",
   "name": "python",
   "nbconvert_exporter": "python",
   "pygments_lexer": "ipython3",
   "version": "3.8.10"
  }
 },
 "nbformat": 4,
 "nbformat_minor": 1
}
