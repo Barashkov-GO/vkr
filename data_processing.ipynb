{
 "cells": [
  {
   "cell_type": "code",
   "execution_count": 1,
   "metadata": {
    "ExecuteTime": {
     "end_time": "2023-06-23T13:57:12.092394113Z",
     "start_time": "2023-06-23T13:57:12.084464370Z"
    }
   },
   "outputs": [],
   "source": [
    "# %pip install pandas\n",
    "# %pip install numpy\n",
    "# %pip install matplotlib\n",
    "# %pip install tqdm"
   ]
  },
  {
   "cell_type": "code",
   "execution_count": 2,
   "metadata": {
    "ExecuteTime": {
     "end_time": "2023-06-23T13:57:12.742669778Z",
     "start_time": "2023-06-23T13:57:12.088458261Z"
    }
   },
   "outputs": [],
   "source": [
    "import math\n",
    "import multiprocessing\n",
    "import time\n",
    "\n",
    "import numpy as np\n",
    "import pandas as pd\n",
    "from tqdm.notebook import tqdm\n",
    "\n",
    "tqdm.pandas()\n",
    "\n",
    "from helper import KeyDict, save"
   ]
  },
  {
   "cell_type": "code",
   "execution_count": 3,
   "metadata": {
    "ExecuteTime": {
     "end_time": "2023-06-23T13:57:12.752700565Z",
     "start_time": "2023-06-23T13:57:12.748519709Z"
    }
   },
   "outputs": [],
   "source": [
    "FIGURES_PATH = 'out/figures/'\n",
    "DATASETS_PATH = 'out/datasets/'\n",
    "DICTS_PATH = 'out/dicts/'"
   ]
  },
  {
   "cell_type": "code",
   "execution_count": 4,
   "metadata": {
    "ExecuteTime": {
     "end_time": "2023-06-23T13:57:41.065975706Z",
     "start_time": "2023-06-23T13:57:12.753542156Z"
    }
   },
   "outputs": [
    {
     "data": {
      "text/plain": "                             gid                      transaction_key   \n0         BipqVCA9TxmTukbRjRKJXg  009_002_74_2022-04-18 12:22:18_9058  \\\n1         b0R_ll-dSsSbcMvCgNhqyA  009_003_35_2022-08-26 18:00:29_7374   \n2         b0R_ll-dSsSbcMvCgNhqyA  009_003_35_2022-08-26 18:00:29_7374   \n3         b0R_ll-dSsSbcMvCgNhqyA  009_003_35_2022-08-26 18:00:29_7374   \n4         b0R_ll-dSsSbcMvCgNhqyA  009_003_35_2022-08-26 18:00:29_7374   \n...                          ...                                  ...   \n27601037  DJf64XaDQSWhZgwwXld0nw  009_002_75_2022-09-08 11:14:12_4196   \n27601038  DJf64XaDQSWhZgwwXld0nw  009_002_75_2022-09-08 11:14:12_4196   \n27601039  DJf64XaDQSWhZgwwXld0nw  009_002_75_2022-09-08 11:14:12_4196   \n27601040  DJf64XaDQSWhZgwwXld0nw  009_002_75_2022-09-08 11:14:12_4196   \n27601041  DJf64XaDQSWhZgwwXld0nw  009_002_75_2022-09-08 11:14:12_4196   \n\n          store_id opened_date  product_id  line_quantity  line_item_price   \n0                2  2022-04-18    83591944            1.0           2990.0  \\\n1                3  2022-08-26    15058563            2.0           1413.0   \n2                3  2022-08-26    82148968            1.0            338.0   \n3                3  2022-08-26    82148968            3.0            338.0   \n4                3  2022-08-26    16042299            1.0           1634.0   \n...            ...         ...         ...            ...              ...   \n27601037         2  2022-09-08    12240853           21.0             43.0   \n27601038         2  2022-09-08    12240853            1.0             43.0   \n27601039         2  2022-09-08    82258971            1.0            950.0   \n27601040         2  2022-09-08    49000003            1.0              4.0   \n27601041         2  2022-09-08    12657210            7.0            348.0   \n\n          line_item_cost  line_margin  line_type  \n0                2516.10       -24.43      Sales  \n1                1206.73       412.54  Undefined  \n2                 179.51       158.49  Undefined  \n3                 179.51       475.47  Undefined  \n4                1402.83       231.17  Undefined  \n...                  ...          ...        ...  \n27601037           44.66      -185.36      Sales  \n27601038           44.66        -8.83      Sales  \n27601039          969.86      -178.19      Sales  \n27601040             NaN          NaN      Sales  \n27601041          209.88       560.84      Sales  \n\n[27601042 rows x 10 columns]",
      "text/html": "<div>\n<style scoped>\n    .dataframe tbody tr th:only-of-type {\n        vertical-align: middle;\n    }\n\n    .dataframe tbody tr th {\n        vertical-align: top;\n    }\n\n    .dataframe thead th {\n        text-align: right;\n    }\n</style>\n<table border=\"1\" class=\"dataframe\">\n  <thead>\n    <tr style=\"text-align: right;\">\n      <th></th>\n      <th>gid</th>\n      <th>transaction_key</th>\n      <th>store_id</th>\n      <th>opened_date</th>\n      <th>product_id</th>\n      <th>line_quantity</th>\n      <th>line_item_price</th>\n      <th>line_item_cost</th>\n      <th>line_margin</th>\n      <th>line_type</th>\n    </tr>\n  </thead>\n  <tbody>\n    <tr>\n      <th>0</th>\n      <td>BipqVCA9TxmTukbRjRKJXg</td>\n      <td>009_002_74_2022-04-18 12:22:18_9058</td>\n      <td>2</td>\n      <td>2022-04-18</td>\n      <td>83591944</td>\n      <td>1.0</td>\n      <td>2990.0</td>\n      <td>2516.10</td>\n      <td>-24.43</td>\n      <td>Sales</td>\n    </tr>\n    <tr>\n      <th>1</th>\n      <td>b0R_ll-dSsSbcMvCgNhqyA</td>\n      <td>009_003_35_2022-08-26 18:00:29_7374</td>\n      <td>3</td>\n      <td>2022-08-26</td>\n      <td>15058563</td>\n      <td>2.0</td>\n      <td>1413.0</td>\n      <td>1206.73</td>\n      <td>412.54</td>\n      <td>Undefined</td>\n    </tr>\n    <tr>\n      <th>2</th>\n      <td>b0R_ll-dSsSbcMvCgNhqyA</td>\n      <td>009_003_35_2022-08-26 18:00:29_7374</td>\n      <td>3</td>\n      <td>2022-08-26</td>\n      <td>82148968</td>\n      <td>1.0</td>\n      <td>338.0</td>\n      <td>179.51</td>\n      <td>158.49</td>\n      <td>Undefined</td>\n    </tr>\n    <tr>\n      <th>3</th>\n      <td>b0R_ll-dSsSbcMvCgNhqyA</td>\n      <td>009_003_35_2022-08-26 18:00:29_7374</td>\n      <td>3</td>\n      <td>2022-08-26</td>\n      <td>82148968</td>\n      <td>3.0</td>\n      <td>338.0</td>\n      <td>179.51</td>\n      <td>475.47</td>\n      <td>Undefined</td>\n    </tr>\n    <tr>\n      <th>4</th>\n      <td>b0R_ll-dSsSbcMvCgNhqyA</td>\n      <td>009_003_35_2022-08-26 18:00:29_7374</td>\n      <td>3</td>\n      <td>2022-08-26</td>\n      <td>16042299</td>\n      <td>1.0</td>\n      <td>1634.0</td>\n      <td>1402.83</td>\n      <td>231.17</td>\n      <td>Undefined</td>\n    </tr>\n    <tr>\n      <th>...</th>\n      <td>...</td>\n      <td>...</td>\n      <td>...</td>\n      <td>...</td>\n      <td>...</td>\n      <td>...</td>\n      <td>...</td>\n      <td>...</td>\n      <td>...</td>\n      <td>...</td>\n    </tr>\n    <tr>\n      <th>27601037</th>\n      <td>DJf64XaDQSWhZgwwXld0nw</td>\n      <td>009_002_75_2022-09-08 11:14:12_4196</td>\n      <td>2</td>\n      <td>2022-09-08</td>\n      <td>12240853</td>\n      <td>21.0</td>\n      <td>43.0</td>\n      <td>44.66</td>\n      <td>-185.36</td>\n      <td>Sales</td>\n    </tr>\n    <tr>\n      <th>27601038</th>\n      <td>DJf64XaDQSWhZgwwXld0nw</td>\n      <td>009_002_75_2022-09-08 11:14:12_4196</td>\n      <td>2</td>\n      <td>2022-09-08</td>\n      <td>12240853</td>\n      <td>1.0</td>\n      <td>43.0</td>\n      <td>44.66</td>\n      <td>-8.83</td>\n      <td>Sales</td>\n    </tr>\n    <tr>\n      <th>27601039</th>\n      <td>DJf64XaDQSWhZgwwXld0nw</td>\n      <td>009_002_75_2022-09-08 11:14:12_4196</td>\n      <td>2</td>\n      <td>2022-09-08</td>\n      <td>82258971</td>\n      <td>1.0</td>\n      <td>950.0</td>\n      <td>969.86</td>\n      <td>-178.19</td>\n      <td>Sales</td>\n    </tr>\n    <tr>\n      <th>27601040</th>\n      <td>DJf64XaDQSWhZgwwXld0nw</td>\n      <td>009_002_75_2022-09-08 11:14:12_4196</td>\n      <td>2</td>\n      <td>2022-09-08</td>\n      <td>49000003</td>\n      <td>1.0</td>\n      <td>4.0</td>\n      <td>NaN</td>\n      <td>NaN</td>\n      <td>Sales</td>\n    </tr>\n    <tr>\n      <th>27601041</th>\n      <td>DJf64XaDQSWhZgwwXld0nw</td>\n      <td>009_002_75_2022-09-08 11:14:12_4196</td>\n      <td>2</td>\n      <td>2022-09-08</td>\n      <td>12657210</td>\n      <td>7.0</td>\n      <td>348.0</td>\n      <td>209.88</td>\n      <td>560.84</td>\n      <td>Sales</td>\n    </tr>\n  </tbody>\n</table>\n<p>27601042 rows × 10 columns</p>\n</div>"
     },
     "execution_count": 4,
     "metadata": {},
     "output_type": "execute_result"
    }
   ],
   "source": [
    "data = pd.read_csv('datasets/receipts_new.csv', nrows=None)\n",
    "data = data.rename(columns = {'line_item_id': 'product_id'})\n",
    "data"
   ]
  },
  {
   "cell_type": "code",
   "execution_count": 5,
   "metadata": {
    "ExecuteTime": {
     "end_time": "2023-06-23T13:57:55.666970259Z",
     "start_time": "2023-06-23T13:57:41.064827231Z"
    }
   },
   "outputs": [
    {
     "name": "stdout",
     "output_type": "stream",
     "text": [
      "<class 'pandas.core.frame.DataFrame'>\n",
      "RangeIndex: 27601042 entries, 0 to 27601041\n",
      "Data columns (total 10 columns):\n",
      " #   Column           Dtype  \n",
      "---  ------           -----  \n",
      " 0   gid              object \n",
      " 1   transaction_key  object \n",
      " 2   store_id         int64  \n",
      " 3   opened_date      object \n",
      " 4   product_id       int64  \n",
      " 5   line_quantity    float64\n",
      " 6   line_item_price  float64\n",
      " 7   line_item_cost   float64\n",
      " 8   line_margin      float64\n",
      " 9   line_type        object \n",
      "dtypes: float64(4), int64(2), object(4)\n",
      "memory usage: 9.0 GB\n"
     ]
    }
   ],
   "source": [
    "data.info(memory_usage='deep')"
   ]
  },
  {
   "cell_type": "code",
   "execution_count": 7,
   "metadata": {},
   "outputs": [],
   "source": [
    "data.info()"
   ]
  },
  {
   "cell_type": "code",
   "execution_count": 8,
   "metadata": {},
   "outputs": [],
   "source": [
    "data.describe()"
   ]
  },
  {
   "cell_type": "markdown",
   "metadata": {},
   "source": [
    "Можно заметить, что совпадают некоторые строки по ключевому признаку - transaction_key, необходимо произвести схлопывание данных по одинаковым ключам с суммированием признаков line_quantity."
   ]
  },
  {
   "cell_type": "markdown",
   "metadata": {},
   "source": [
    "### Схлопывание одинаковых позиций в чеках"
   ]
  },
  {
   "cell_type": "code",
   "execution_count": 10,
   "metadata": {
    "ExecuteTime": {
     "end_time": "2023-05-17T11:22:37.398007416Z",
     "start_time": "2023-05-17T11:22:37.275081385Z"
    }
   },
   "outputs": [],
   "source": [
    "def collapse(data):\n",
    "    grouped_series = data[['transaction_key', 'product_id', 'line_quantity']].groupby(\n",
    "        by=['transaction_key', 'product_id'])['line_quantity'].sum()\n",
    "\n",
    "    data = data.join(grouped_series, how='left', on=['transaction_key', 'product_id'], lsuffix='_old')\n",
    "    data = data.drop(columns=['line_quantity_old'])\n",
    "    return data.drop_duplicates()"
   ]
  },
  {
   "cell_type": "markdown",
   "metadata": {},
   "source": [
    "### Преобразование transaction_key"
   ]
  },
  {
   "cell_type": "code",
   "execution_count": 12,
   "metadata": {
    "ExecuteTime": {
     "end_time": "2023-05-17T11:22:37.402102687Z",
     "start_time": "2023-05-17T11:22:37.286133548Z"
    }
   },
   "outputs": [],
   "source": [
    "def get_data(str):\n",
    "    return str.split('_')[3:4][0]\n",
    "\n",
    "\n",
    "def get_key(str):\n",
    "    splitted = str.split('_')\n",
    "    ans = ''\n",
    "    for i in range(3):\n",
    "        ans += splitted[i]\n",
    "    ans += splitted[-1]\n",
    "    return int(ans)\n",
    "\n",
    "\n",
    "def transform_transaction_key(data, trans_id):\n",
    "    dates = data['transaction_key'].apply(get_data)\n",
    "    dates = pd.to_datetime(dates)\n",
    "    data['datetime'] = dates\n",
    "\n",
    "    data['transaction_key'] = data['transaction_key'].apply(lambda x: trans_id.get(x))\n",
    "    return data"
   ]
  },
  {
   "cell_type": "markdown",
   "metadata": {},
   "source": [
    "### Преобразование gid"
   ]
  },
  {
   "cell_type": "code",
   "execution_count": 14,
   "metadata": {
    "ExecuteTime": {
     "end_time": "2023-05-17T11:22:37.403723259Z",
     "start_time": "2023-05-17T11:22:37.333227854Z"
    }
   },
   "outputs": [],
   "source": [
    "def transform_gid(data, gids_id):\n",
    "    data['gid'] = data['gid'].apply(lambda x: gids_id.get(x))\n",
    "    return data"
   ]
  },
  {
   "cell_type": "markdown",
   "metadata": {},
   "source": [
    "### Преобразование product_id"
   ]
  },
  {
   "cell_type": "code",
   "execution_count": 16,
   "metadata": {
    "ExecuteTime": {
     "end_time": "2023-05-17T11:22:37.403835653Z",
     "start_time": "2023-05-17T11:22:37.333436371Z"
    }
   },
   "outputs": [],
   "source": [
    "def transform_product_id(data, products_id):\n",
    "    data['product_id'] = data['product_id'].apply(lambda x: products_id.get(x))\n",
    "    return data"
   ]
  },
  {
   "cell_type": "markdown",
   "metadata": {},
   "source": [
    "### Преобразование line_type"
   ]
  },
  {
   "cell_type": "code",
   "execution_count": 17,
   "metadata": {
    "ExecuteTime": {
     "end_time": "2023-05-17T11:22:37.403928670Z",
     "start_time": "2023-05-17T11:22:37.333638317Z"
    }
   },
   "outputs": [],
   "source": [
    "def transform_line_type(data, lines_id):\n",
    "    data['line_type'] = data['line_type'].apply(lambda x: lines_id.get(x))\n",
    "    return data"
   ]
  },
  {
   "cell_type": "markdown",
   "metadata": {},
   "source": [
    "### Подключение категорий товаров"
   ]
  },
  {
   "cell_type": "code",
   "execution_count": 19,
   "metadata": {
    "ExecuteTime": {
     "end_time": "2023-05-17T11:22:39.069927166Z",
     "start_time": "2023-05-17T11:22:37.333864668Z"
    }
   },
   "outputs": [
    {
     "data": {
      "text/html": [
       "<div>\n",
       "<style scoped>\n",
       "    .dataframe tbody tr th:only-of-type {\n",
       "        vertical-align: middle;\n",
       "    }\n",
       "\n",
       "    .dataframe tbody tr th {\n",
       "        vertical-align: top;\n",
       "    }\n",
       "\n",
       "    .dataframe thead th {\n",
       "        text-align: right;\n",
       "    }\n",
       "</style>\n",
       "<table border=\"1\" class=\"dataframe\">\n",
       "  <thead>\n",
       "    <tr style=\"text-align: right;\">\n",
       "      <th></th>\n",
       "      <th>product_id</th>\n",
       "      <th>category_id</th>\n",
       "      <th>category_name</th>\n",
       "      <th>new_id</th>\n",
       "    </tr>\n",
       "  </thead>\n",
       "  <tbody>\n",
       "    <tr>\n",
       "      <th>0</th>\n",
       "      <td>18843508</td>\n",
       "      <td>201658</td>\n",
       "      <td>Ручной инструмент для обработки почвы: культив...</td>\n",
       "      <td>0</td>\n",
       "    </tr>\n",
       "    <tr>\n",
       "      <th>1</th>\n",
       "      <td>82406527</td>\n",
       "      <td>201271</td>\n",
       "      <td>Комнатные растения</td>\n",
       "      <td>1</td>\n",
       "    </tr>\n",
       "    <tr>\n",
       "      <th>2</th>\n",
       "      <td>82597131</td>\n",
       "      <td>201274</td>\n",
       "      <td>Саженцы плодовых деревьев и кустарников</td>\n",
       "      <td>2</td>\n",
       "    </tr>\n",
       "    <tr>\n",
       "      <th>3</th>\n",
       "      <td>84738086</td>\n",
       "      <td>200990</td>\n",
       "      <td>Шторка для ванной комнаты</td>\n",
       "      <td>3</td>\n",
       "    </tr>\n",
       "    <tr>\n",
       "      <th>4</th>\n",
       "      <td>18816091</td>\n",
       "      <td>200340</td>\n",
       "      <td>Кабели для ТВ</td>\n",
       "      <td>4</td>\n",
       "    </tr>\n",
       "    <tr>\n",
       "      <th>...</th>\n",
       "      <td>...</td>\n",
       "      <td>...</td>\n",
       "      <td>...</td>\n",
       "      <td>...</td>\n",
       "    </tr>\n",
       "    <tr>\n",
       "      <th>540648</th>\n",
       "      <td>82192555</td>\n",
       "      <td>202275</td>\n",
       "      <td>Наконечник для карниза</td>\n",
       "      <td>540648</td>\n",
       "    </tr>\n",
       "    <tr>\n",
       "      <th>540649</th>\n",
       "      <td>82192571</td>\n",
       "      <td>202275</td>\n",
       "      <td>Наконечник для карниза</td>\n",
       "      <td>540649</td>\n",
       "    </tr>\n",
       "    <tr>\n",
       "      <th>540650</th>\n",
       "      <td>82088853</td>\n",
       "      <td>202276</td>\n",
       "      <td>Кронштейн для штанги со сверлением</td>\n",
       "      <td>540650</td>\n",
       "    </tr>\n",
       "    <tr>\n",
       "      <th>540651</th>\n",
       "      <td>81966519</td>\n",
       "      <td>202346</td>\n",
       "      <td>Ткани и тюли на отрез</td>\n",
       "      <td>540651</td>\n",
       "    </tr>\n",
       "    <tr>\n",
       "      <th>540652</th>\n",
       "      <td>82172550</td>\n",
       "      <td>202346</td>\n",
       "      <td>Ткани и тюли на отрез</td>\n",
       "      <td>540652</td>\n",
       "    </tr>\n",
       "  </tbody>\n",
       "</table>\n",
       "<p>540653 rows × 4 columns</p>\n",
       "</div>"
      ],
      "text/plain": [
       "        product_id  category_id   \n",
       "0         18843508       201658  \\\n",
       "1         82406527       201271   \n",
       "2         82597131       201274   \n",
       "3         84738086       200990   \n",
       "4         18816091       200340   \n",
       "...            ...          ...   \n",
       "540648    82192555       202275   \n",
       "540649    82192571       202275   \n",
       "540650    82088853       202276   \n",
       "540651    81966519       202346   \n",
       "540652    82172550       202346   \n",
       "\n",
       "                                            category_name  new_id  \n",
       "0       Ручной инструмент для обработки почвы: культив...       0  \n",
       "1                                      Комнатные растения       1  \n",
       "2                 Саженцы плодовых деревьев и кустарников       2  \n",
       "3                               Шторка для ванной комнаты       3  \n",
       "4                                           Кабели для ТВ       4  \n",
       "...                                                   ...     ...  \n",
       "540648                             Наконечник для карниза  540648  \n",
       "540649                             Наконечник для карниза  540649  \n",
       "540650                 Кронштейн для штанги со сверлением  540650  \n",
       "540651                              Ткани и тюли на отрез  540651  \n",
       "540652                              Ткани и тюли на отрез  540652  \n",
       "\n",
       "[540653 rows x 4 columns]"
      ]
     },
     "execution_count": 19,
     "metadata": {},
     "output_type": "execute_result"
    }
   ],
   "source": [
    "cats = pd.read_csv('datasets/ProductsModels.csv')\n",
    "cats = cats.rename(columns={'model_id': 'category_id', 'name': 'category_name'})\n",
    "cats['new_id'] = cats.index\n",
    "\n",
    "\n",
    "cats.drop_duplicates()"
   ]
  },
  {
   "cell_type": "code",
   "execution_count": 21,
   "metadata": {
    "ExecuteTime": {
     "end_time": "2023-05-17T11:22:39.121265608Z",
     "start_time": "2023-05-17T11:22:39.075713734Z"
    }
   },
   "outputs": [],
   "source": [
    "def include_categories(data):\n",
    "    cats_new = cats.drop(columns=['category_name', 'category_id']).rename(columns={'new_id': 'category_id'})\n",
    "    data = data.join(cats_new.set_index('product_id'), on='product_id', how='left')\n",
    "    return data"
   ]
  },
  {
   "cell_type": "markdown",
   "metadata": {},
   "source": [
    "### Добавление дней недели"
   ]
  },
  {
   "cell_type": "code",
   "execution_count": 23,
   "metadata": {
    "ExecuteTime": {
     "end_time": "2023-05-17T11:22:39.128103241Z",
     "start_time": "2023-05-17T11:22:39.121535743Z"
    }
   },
   "outputs": [],
   "source": [
    "def include_weekday(data):\n",
    "    def get_weekday(datetime):\n",
    "        return datetime.weekday()\n",
    "\n",
    "    weekdays = data['datetime'].apply(get_weekday)\n",
    "    data['weekday'] = weekdays\n",
    "    return data"
   ]
  },
  {
   "cell_type": "markdown",
   "metadata": {},
   "source": [
    "### Обработка всего набора данных"
   ]
  },
  {
   "cell_type": "code",
   "execution_count": 26,
   "metadata": {
    "ExecuteTime": {
     "end_time": "2023-05-17T11:22:39.128243629Z",
     "start_time": "2023-05-17T11:22:39.121792984Z"
    }
   },
   "outputs": [],
   "source": [
    "NROWS = None\n",
    "BATCH_SIZE = 500_000\n",
    "PATH = 'datasets/receipts_new.csv'"
   ]
  },
  {
   "cell_type": "code",
   "execution_count": 27,
   "metadata": {
    "ExecuteTime": {
     "end_time": "2023-05-17T11:22:39.169307642Z",
     "start_time": "2023-05-17T11:22:39.168984856Z"
    }
   },
   "outputs": [],
   "source": [
    "batches = []\n",
    "\n",
    "def process_batch(batch, trans_id, gids_id, lines_id, products_id):\n",
    "    time_batch_0 = time.perf_counter()\n",
    "    batch = collapse(batch)\n",
    "    batch = transform_transaction_key(batch, trans_id)\n",
    "    batch = transform_gid(batch, gids_id)\n",
    "    batch = transform_line_type(batch, lines_id)\n",
    "    batch = include_categories(batch)\n",
    "    batch = transform_product_id(batch, products_id)\n",
    "    batch = include_weekday(batch)\n",
    "    time_batch_delta = time.perf_counter() - time_batch_0\n",
    "    print('Batch time - {:.3f}s'.format(time_batch_delta))\n",
    "    return batch\n",
    "    \n",
    "def concat_batches(batch):\n",
    "    global batches\n",
    "    batches.append(batch)\n",
    "\n",
    "def process_data(batch_size=BATCH_SIZE, path=PATH):\n",
    "    global batches\n",
    "\n",
    "    data = pd.read_csv(path, nrows=NROWS)\n",
    "    print('Data has been read with {} rows'.format(data.shape[0]))\n",
    "\n",
    "    data = data.rename(columns={'line_item_id': 'product_id'}).drop(columns=['opened_date', 'line_margin'])\n",
    "\n",
    "    print('Collecting key-dictionaries...')\n",
    "\n",
    "    def process_dict(data_column):\n",
    "        dict = KeyDict()\n",
    "        for row in data_column.drop_duplicates():\n",
    "            dict.push(row)\n",
    "        return dict\n",
    "\n",
    "    trans_id = process_dict(data['transaction_key'])\n",
    "    gids_id = process_dict(data['gid'])\n",
    "    lines_id = process_dict(data['line_type'])\n",
    "    products_id = process_dict(data['product_id'])\n",
    "\n",
    "    print('Batching with {} batch size, {} batches count'.format(BATCH_SIZE, math.ceil(data.shape[0] / batch_size)))\n",
    "\n",
    "    print('Running multiprocessing with {} cpu units...'.format(multiprocessing.cpu_count()))\n",
    "\n",
    "    pool = multiprocessing.Pool(processes=multiprocessing.cpu_count())\n",
    "    for batch in tqdm(np.array_split(data, data.shape[0] / batch_size)):\n",
    "        batch = process_batch(batch, trans_id, gids_id, lines_id, products_id)\n",
    "        concat_batches(batch)\n",
    "#         pool.apply_async(\n",
    "#             process_batch,\n",
    "#             args=(batch, trans_id, gids_id, lines_id, products_id,),\n",
    "#             callback=concat_batches\n",
    "#         )\n",
    "    pool.close()\n",
    "    pool.join()\n",
    "\n",
    "    data = pd.concat(batches, ignore_index=True, sort=False)\n",
    "    data = data.rename(columns={'key_id': 'transaction_key'})\n",
    "    print('Collapsing all batches...')\n",
    "    data = collapse(data)\n",
    "\n",
    "    return data, trans_id, gids_id, lines_id, products_id"
   ]
  },
  {
   "cell_type": "code",
   "execution_count": 28,
   "metadata": {
    "ExecuteTime": {
     "start_time": "2023-05-17T11:22:39.169451686Z"
    }
   },
   "outputs": [
    {
     "name": "stdout",
     "output_type": "stream",
     "text": [
      "Data has been read with 27601042 rows\n",
      "Collecting key-dictionaries...\n",
      "Batching with 500000 batch size, 56 batches count\n",
      "Running multiprocessing with 16 cpu units...\n"
     ]
    },
    {
     "data": {
      "application/vnd.jupyter.widget-view+json": {
       "model_id": "dfae759ec5664f2fba73869889ec4bec",
       "version_major": 2,
       "version_minor": 0
      },
      "text/plain": [
       "  0%|          | 0/55 [00:00<?, ?it/s]"
      ]
     },
     "metadata": {},
     "output_type": "display_data"
    },
    {
     "name": "stdout",
     "output_type": "stream",
     "text": [
      "Batch time - 1.422s\n",
      "Batch time - 1.379s\n",
      "Batch time - 1.424s\n",
      "Batch time - 1.360s\n",
      "Batch time - 1.402s\n",
      "Batch time - 1.427s\n",
      "Batch time - 1.374s\n",
      "Batch time - 1.411s\n",
      "Batch time - 1.431s\n",
      "Batch time - 1.437s\n",
      "Batch time - 1.392s\n",
      "Batch time - 1.407s\n",
      "Batch time - 1.475s\n",
      "Batch time - 1.379s\n",
      "Batch time - 1.424s\n",
      "Batch time - 1.448s\n",
      "Batch time - 1.383s\n",
      "Batch time - 1.438s\n",
      "Batch time - 1.436s\n",
      "Batch time - 1.393s\n",
      "Batch time - 1.416s\n",
      "Batch time - 1.439s\n",
      "Batch time - 1.388s\n",
      "Batch time - 1.435s\n",
      "Batch time - 1.429s\n",
      "Batch time - 1.385s\n",
      "Batch time - 1.442s\n",
      "Batch time - 1.421s\n",
      "Batch time - 1.443s\n",
      "Batch time - 1.385s\n",
      "Batch time - 1.435s\n",
      "Batch time - 1.424s\n",
      "Batch time - 1.432s\n",
      "Batch time - 1.387s\n",
      "Batch time - 1.411s\n",
      "Batch time - 1.420s\n",
      "Batch time - 1.441s\n",
      "Batch time - 1.435s\n",
      "Batch time - 1.389s\n",
      "Batch time - 1.439s\n",
      "Batch time - 1.441s\n",
      "Batch time - 1.397s\n",
      "Batch time - 1.428s\n",
      "Batch time - 1.452s\n",
      "Batch time - 1.437s\n",
      "Batch time - 1.446s\n",
      "Batch time - 1.381s\n",
      "Batch time - 1.437s\n",
      "Batch time - 1.430s\n",
      "Batch time - 1.449s\n",
      "Batch time - 1.451s\n",
      "Batch time - 1.394s\n",
      "Batch time - 1.447s\n",
      "Batch time - 1.444s\n",
      "Batch time - 1.400s\n",
      "Collapsing all batches...\n",
      "Overall time - 135.496s\n"
     ]
    }
   ],
   "source": [
    "time_0 = time.perf_counter()\n",
    "\n",
    "data_processed, trans_id, gids_id, lines_id, products_id = process_data()\n",
    "time_delta = time.perf_counter() - time_0\n",
    "print('Overall time - {:.3f}s'.format(time_delta))"
   ]
  },
  {
   "cell_type": "code",
   "execution_count": 29,
   "metadata": {},
   "outputs": [
    {
     "data": {
      "text/html": [
       "<div>\n",
       "<style scoped>\n",
       "    .dataframe tbody tr th:only-of-type {\n",
       "        vertical-align: middle;\n",
       "    }\n",
       "\n",
       "    .dataframe tbody tr th {\n",
       "        vertical-align: top;\n",
       "    }\n",
       "\n",
       "    .dataframe thead th {\n",
       "        text-align: right;\n",
       "    }\n",
       "</style>\n",
       "<table border=\"1\" class=\"dataframe\">\n",
       "  <thead>\n",
       "    <tr style=\"text-align: right;\">\n",
       "      <th></th>\n",
       "      <th>gid</th>\n",
       "      <th>transaction_key</th>\n",
       "      <th>store_id</th>\n",
       "      <th>product_id</th>\n",
       "      <th>line_item_price</th>\n",
       "      <th>line_item_cost</th>\n",
       "      <th>line_type</th>\n",
       "      <th>datetime</th>\n",
       "      <th>category_id</th>\n",
       "      <th>weekday</th>\n",
       "      <th>line_quantity</th>\n",
       "    </tr>\n",
       "  </thead>\n",
       "  <tbody>\n",
       "    <tr>\n",
       "      <th>0</th>\n",
       "      <td>0</td>\n",
       "      <td>0</td>\n",
       "      <td>2</td>\n",
       "      <td>0</td>\n",
       "      <td>2990.0</td>\n",
       "      <td>2516.10</td>\n",
       "      <td>0</td>\n",
       "      <td>2022-04-18 12:22:18</td>\n",
       "      <td>49788.0</td>\n",
       "      <td>0</td>\n",
       "      <td>1.0</td>\n",
       "    </tr>\n",
       "    <tr>\n",
       "      <th>1</th>\n",
       "      <td>1</td>\n",
       "      <td>1</td>\n",
       "      <td>3</td>\n",
       "      <td>1</td>\n",
       "      <td>1413.0</td>\n",
       "      <td>1206.73</td>\n",
       "      <td>1</td>\n",
       "      <td>2022-08-26 18:00:29</td>\n",
       "      <td>140669.0</td>\n",
       "      <td>4</td>\n",
       "      <td>2.0</td>\n",
       "    </tr>\n",
       "    <tr>\n",
       "      <th>2</th>\n",
       "      <td>1</td>\n",
       "      <td>1</td>\n",
       "      <td>3</td>\n",
       "      <td>2</td>\n",
       "      <td>338.0</td>\n",
       "      <td>179.51</td>\n",
       "      <td>1</td>\n",
       "      <td>2022-08-26 18:00:29</td>\n",
       "      <td>157827.0</td>\n",
       "      <td>4</td>\n",
       "      <td>4.0</td>\n",
       "    </tr>\n",
       "    <tr>\n",
       "      <th>3</th>\n",
       "      <td>1</td>\n",
       "      <td>1</td>\n",
       "      <td>3</td>\n",
       "      <td>3</td>\n",
       "      <td>1634.0</td>\n",
       "      <td>1402.83</td>\n",
       "      <td>1</td>\n",
       "      <td>2022-08-26 18:00:29</td>\n",
       "      <td>NaN</td>\n",
       "      <td>4</td>\n",
       "      <td>1.0</td>\n",
       "    </tr>\n",
       "    <tr>\n",
       "      <th>4</th>\n",
       "      <td>1</td>\n",
       "      <td>1</td>\n",
       "      <td>3</td>\n",
       "      <td>4</td>\n",
       "      <td>78.0</td>\n",
       "      <td>61.70</td>\n",
       "      <td>1</td>\n",
       "      <td>2022-08-26 18:00:29</td>\n",
       "      <td>484922.0</td>\n",
       "      <td>4</td>\n",
       "      <td>40.0</td>\n",
       "    </tr>\n",
       "    <tr>\n",
       "      <th>...</th>\n",
       "      <td>...</td>\n",
       "      <td>...</td>\n",
       "      <td>...</td>\n",
       "      <td>...</td>\n",
       "      <td>...</td>\n",
       "      <td>...</td>\n",
       "      <td>...</td>\n",
       "      <td>...</td>\n",
       "      <td>...</td>\n",
       "      <td>...</td>\n",
       "      <td>...</td>\n",
       "    </tr>\n",
       "    <tr>\n",
       "      <th>20672577</th>\n",
       "      <td>861563</td>\n",
       "      <td>3945281</td>\n",
       "      <td>2</td>\n",
       "      <td>70820</td>\n",
       "      <td>1925.0</td>\n",
       "      <td>1469.14</td>\n",
       "      <td>0</td>\n",
       "      <td>2022-09-08 11:14:12</td>\n",
       "      <td>381032.0</td>\n",
       "      <td>3</td>\n",
       "      <td>1.0</td>\n",
       "    </tr>\n",
       "    <tr>\n",
       "      <th>20672578</th>\n",
       "      <td>861563</td>\n",
       "      <td>3945281</td>\n",
       "      <td>2</td>\n",
       "      <td>3161</td>\n",
       "      <td>43.0</td>\n",
       "      <td>44.66</td>\n",
       "      <td>0</td>\n",
       "      <td>2022-09-08 11:14:12</td>\n",
       "      <td>33888.0</td>\n",
       "      <td>3</td>\n",
       "      <td>22.0</td>\n",
       "    </tr>\n",
       "    <tr>\n",
       "      <th>20672579</th>\n",
       "      <td>861563</td>\n",
       "      <td>3945281</td>\n",
       "      <td>2</td>\n",
       "      <td>2612</td>\n",
       "      <td>950.0</td>\n",
       "      <td>969.86</td>\n",
       "      <td>0</td>\n",
       "      <td>2022-09-08 11:14:12</td>\n",
       "      <td>13517.0</td>\n",
       "      <td>3</td>\n",
       "      <td>1.0</td>\n",
       "    </tr>\n",
       "    <tr>\n",
       "      <th>20672580</th>\n",
       "      <td>861563</td>\n",
       "      <td>3945281</td>\n",
       "      <td>2</td>\n",
       "      <td>51</td>\n",
       "      <td>4.0</td>\n",
       "      <td>NaN</td>\n",
       "      <td>0</td>\n",
       "      <td>2022-09-08 11:14:12</td>\n",
       "      <td>NaN</td>\n",
       "      <td>3</td>\n",
       "      <td>1.0</td>\n",
       "    </tr>\n",
       "    <tr>\n",
       "      <th>20672581</th>\n",
       "      <td>861563</td>\n",
       "      <td>3945281</td>\n",
       "      <td>2</td>\n",
       "      <td>1166</td>\n",
       "      <td>348.0</td>\n",
       "      <td>209.88</td>\n",
       "      <td>0</td>\n",
       "      <td>2022-09-08 11:14:12</td>\n",
       "      <td>47396.0</td>\n",
       "      <td>3</td>\n",
       "      <td>7.0</td>\n",
       "    </tr>\n",
       "  </tbody>\n",
       "</table>\n",
       "<p>20662675 rows × 11 columns</p>\n",
       "</div>"
      ],
      "text/plain": [
       "             gid  transaction_key  store_id  product_id  line_item_price   \n",
       "0              0                0         2           0           2990.0  \\\n",
       "1              1                1         3           1           1413.0   \n",
       "2              1                1         3           2            338.0   \n",
       "3              1                1         3           3           1634.0   \n",
       "4              1                1         3           4             78.0   \n",
       "...          ...              ...       ...         ...              ...   \n",
       "20672577  861563          3945281         2       70820           1925.0   \n",
       "20672578  861563          3945281         2        3161             43.0   \n",
       "20672579  861563          3945281         2        2612            950.0   \n",
       "20672580  861563          3945281         2          51              4.0   \n",
       "20672581  861563          3945281         2        1166            348.0   \n",
       "\n",
       "          line_item_cost  line_type            datetime  category_id  weekday   \n",
       "0                2516.10          0 2022-04-18 12:22:18      49788.0        0  \\\n",
       "1                1206.73          1 2022-08-26 18:00:29     140669.0        4   \n",
       "2                 179.51          1 2022-08-26 18:00:29     157827.0        4   \n",
       "3                1402.83          1 2022-08-26 18:00:29          NaN        4   \n",
       "4                  61.70          1 2022-08-26 18:00:29     484922.0        4   \n",
       "...                  ...        ...                 ...          ...      ...   \n",
       "20672577         1469.14          0 2022-09-08 11:14:12     381032.0        3   \n",
       "20672578           44.66          0 2022-09-08 11:14:12      33888.0        3   \n",
       "20672579          969.86          0 2022-09-08 11:14:12      13517.0        3   \n",
       "20672580             NaN          0 2022-09-08 11:14:12          NaN        3   \n",
       "20672581          209.88          0 2022-09-08 11:14:12      47396.0        3   \n",
       "\n",
       "          line_quantity  \n",
       "0                   1.0  \n",
       "1                   2.0  \n",
       "2                   4.0  \n",
       "3                   1.0  \n",
       "4                  40.0  \n",
       "...                 ...  \n",
       "20672577            1.0  \n",
       "20672578           22.0  \n",
       "20672579            1.0  \n",
       "20672580            1.0  \n",
       "20672581            7.0  \n",
       "\n",
       "[20662675 rows x 11 columns]"
      ]
     },
     "execution_count": 29,
     "metadata": {},
     "output_type": "execute_result"
    }
   ],
   "source": [
    "data_processed"
   ]
  },
  {
   "cell_type": "code",
   "execution_count": 30,
   "metadata": {},
   "outputs": [
    {
     "name": "stdout",
     "output_type": "stream",
     "text": [
      "3945282\n",
      "999188\n",
      "5\n",
      "103406\n",
      "SAVING dataset: DATA_PROCESSED.CSV\n",
      "\n",
      "<class 'pandas.core.frame.DataFrame'>\n",
      "Index: 20662675 entries, 0 to 20672581\n",
      "Data columns (total 11 columns):\n",
      " #   Column           Dtype         \n",
      "---  ------           -----         \n",
      " 0   gid              int64         \n",
      " 1   transaction_key  int64         \n",
      " 2   store_id         int64         \n",
      " 3   product_id       int64         \n",
      " 4   line_item_price  float64       \n",
      " 5   line_item_cost   float64       \n",
      " 6   line_type        int64         \n",
      " 7   datetime         datetime64[ns]\n",
      " 8   category_id      float64       \n",
      " 9   weekday          int64         \n",
      " 10  line_quantity    float64       \n",
      "dtypes: datetime64[ns](1), float64(4), int64(6)\n",
      "memory usage: 1.8 GB\n"
     ]
    }
   ],
   "source": [
    "trans_id.save(DICTS_PATH + 'transaction_keys.json')\n",
    "gids_id.save(DICTS_PATH + 'gids.json')\n",
    "lines_id.save(DICTS_PATH + 'type_lines.json')\n",
    "products_id.save(DICTS_PATH + 'products.json')\n",
    "\n",
    "save(data_processed, 'data_processed.csv', DATASETS_PATH)"
   ]
  },
  {
   "cell_type": "code",
   "execution_count": null,
   "metadata": {},
   "outputs": [],
   "source": []
  }
 ],
 "metadata": {
  "kernelspec": {
   "name": "python3",
   "language": "python",
   "display_name": "Python 3 (ipykernel)"
  },
  "language_info": {
   "codemirror_mode": {
    "name": "ipython",
    "version": 3
   },
   "file_extension": ".py",
   "mimetype": "text/x-python",
   "name": "python",
   "nbconvert_exporter": "python",
   "pygments_lexer": "ipython3",
   "version": "3.8.10"
  }
 },
 "nbformat": 4,
 "nbformat_minor": 1
}
