{
 "cells": [
  {
   "cell_type": "code",
   "execution_count": 1,
   "metadata": {
    "ExecuteTime": {
     "end_time": "2023-06-04T12:17:44.996364197Z",
     "start_time": "2023-06-04T12:17:44.995185903Z"
    }
   },
   "outputs": [],
   "source": [
    "import math\n",
    "\n",
    "FIGURES_PATH = 'out/figures/'\n",
    "DATASETS_PATH = 'out/datasets/'\n",
    "DICTS_PATH = 'out/dicts/'\n",
    "CLUSTERS_PATH = 'out/clusters/'"
   ]
  },
  {
   "cell_type": "code",
   "execution_count": 2,
   "metadata": {
    "ExecuteTime": {
     "end_time": "2023-06-04T12:17:46.284215092Z",
     "start_time": "2023-06-04T12:17:44.995631561Z"
    }
   },
   "outputs": [],
   "source": [
    "import pandas as pd\n",
    "from datetime import datetime, timedelta\n",
    "import os\n",
    "import multiprocessing\n",
    "import numpy as np\n",
    "import matplotlib.pyplot as plt\n",
    "import matplotlib.colors as mcolors\n",
    "import random\n",
    "from tqdm.notebook import tqdm\n",
    "from sortedcontainers import SortedDict, SortedSet, SortedList\n",
    "from multiprocesspandas import applyparallel\n",
    "from pandarallel import pandarallel\n",
    "import psutil\n",
    "from sys import getsizeof\n",
    "import networkx as nx\n",
    "from scipy.cluster.hierarchy import linkage, fcluster\n",
    "\n",
    "\n",
    "from netgraph import Graph, InteractiveGraph, EditableGraph\n",
    "\n",
    "import pickle\n",
    "import gc \n",
    "\n",
    "\n",
    "tqdm.pandas()\n",
    "from helper import *"
   ]
  },
  {
   "cell_type": "code",
   "execution_count": 3,
   "metadata": {
    "ExecuteTime": {
     "end_time": "2023-06-04T12:17:46.293094301Z",
     "start_time": "2023-06-04T12:17:46.289859110Z"
    }
   },
   "outputs": [],
   "source": [
    "def default(mean, count, scatter):\n",
    "    return (mean + abs(scatter)) / (count ** 2)\n",
    "\n",
    "def normalize(d, target=1.0, type1=np.uint32, type2=np.float16):\n",
    "   raw = sum(d.values())\n",
    "   factor = target / raw\n",
    "   return {(type1(key[0]), type1(key[1])): type2(value * factor) for key, value in d.items()}\n",
    "\n",
    "def get_dists(dists, count_lower=10, dist_func=default):\n",
    "    ans = dict()\n",
    "    for i in dists.items():\n",
    "        dist = dist_func(i[1][0], i[1][1], i[1][2])\n",
    "        if (i[1][1] >= count_lower or dist != 0) and (dist >= 0):\n",
    "            ans[i[0]] = dist\n",
    "    return normalize(ans)"
   ]
  },
  {
   "cell_type": "code",
   "execution_count": 4,
   "metadata": {
    "ExecuteTime": {
     "end_time": "2023-06-04T12:17:46.356678139Z",
     "start_time": "2023-06-04T12:17:46.302354495Z"
    }
   },
   "outputs": [],
   "source": [
    "class Metric:\n",
    "    def __init__(self, method='euclidean', max=100):\n",
    "        self.method = method\n",
    "        self.max = max\n",
    "\n",
    "    def run(self, cluster1, cluster2, dists):\n",
    "        if self.method == 'euclidean':\n",
    "            return self.euclidean(cluster1, cluster2, dists)\n",
    "        if self.method == 'min_dist':\n",
    "            return self.min_dist(cluster1, cluster2, dists)\n",
    "        if self.method == 'max_dist':\n",
    "            return self.max_dist(cluster1, cluster2, dists)\n",
    "        if self.method == 'average':\n",
    "            return self.average(cluster1, cluster2, dists)\n",
    "        if self.method == 'ward':\n",
    "            return self.ward(cluster1, cluster2, dists)\n",
    "\n",
    "    def _get(self, i, j, dists):\n",
    "        if i == j:\n",
    "            return 0.0\n",
    "        if (i, j) in dists:\n",
    "            return dists[(i, j)]\n",
    "        if (j, i) in dists:\n",
    "            return dists[(j, i)]\n",
    "        return self.max\n",
    "\n",
    "\n",
    "    def euclidean(self, cluster1, cluster2, dists):\n",
    "        n1, n2 = len(cluster1), len(cluster2)\n",
    "        s = 0.0\n",
    "        for i in cluster1:\n",
    "            for j in cluster2:\n",
    "                s += self._get(i, j, dists) ** 2\n",
    "        return np.sqrt(s)\n",
    "\n",
    "\n",
    "    def min_dist(self, cluster1, cluster2, dists):\n",
    "        s, mini = 0.0, self.max + 1\n",
    "        for i in cluster1:\n",
    "            for j in cluster2:\n",
    "                s = self._get(i, j, dists)\n",
    "\n",
    "                if s < mini:\n",
    "                    mini = s\n",
    "        return mini\n",
    "\n",
    "\n",
    "    def max_dist(self, cluster1, cluster2, dists):\n",
    "        s, maxi = 0.0, -1.0\n",
    "        for i in cluster1:\n",
    "            for j in cluster2:\n",
    "                s = self._get(i, j, dists)\n",
    "\n",
    "                if s > maxi:\n",
    "                    maxi = s\n",
    "        return maxi\n",
    "\n",
    "\n",
    "    def average(self, cluster1, cluster2, dists):\n",
    "        n1, n2 = len(cluster1), len(cluster2)\n",
    "        s = 0.0\n",
    "        for i in cluster1:\n",
    "            for j in cluster2:\n",
    "                s += self._get(i, j, dists)\n",
    "        return s / (n1 * n2)"
   ]
  },
  {
   "cell_type": "code",
   "execution_count": 5,
   "outputs": [],
   "source": [
    "class Elem:\n",
    "    def __init__(self, i, j, val):\n",
    "        self.i = i\n",
    "        self.j = j\n",
    "        self.val = val\n",
    "\n",
    "    def get_key(self):\n",
    "        return self.i, self.j\n",
    "\n",
    "    def get_all(self):\n",
    "        return self.i, self.j, self.val\n",
    "\n",
    "    def __lt__(self, other):\n",
    "        return self.val < other.val\n",
    "\n",
    "    def __str__(self):\n",
    "        return f\"({self.i}, {self.j}): {self.val}\"\n",
    "\n",
    "    def __repr__(self):\n",
    "        return self.__str__()\n",
    "\n",
    "    def __eq__(self, other):\n",
    "        return self.i == other.i and self.j == other.j\n",
    "\n",
    "class ClustersList:\n",
    "    def __init__(self, fill=np.inf):\n",
    "        self.dists = SortedList()\n",
    "        self.fill = fill\n",
    "\n",
    "    def insert(self, i, j, val):\n",
    "        el = Elem(i, j, np.float16(val))\n",
    "        self.dists.add(el)\n",
    "\n",
    "    # def remove(self, i):\n",
    "    #     for_del = []\n",
    "    #     for el in self.dists:\n",
    "    #         if i in el.get_key():\n",
    "    #             for_del.append(el)\n",
    "    #     for el in for_del:\n",
    "    #         self.dists.discard(el)\n",
    "\n",
    "    def remove(self, i, j):\n",
    "        # for_del = []\n",
    "        check = Elem(i, j, 0)\n",
    "        for ind, el in enumerate(self.dists):\n",
    "            if check == el:\n",
    "                del self.dists[ind]\n",
    "                # for_del.append(el)\n",
    "        # for el in for_del:\n",
    "        #     self.dists.discard(el)\n",
    "\n",
    "    def __getitem__(self, i, j):\n",
    "        for el in self.dists:\n",
    "            i1, j1 = el.get_key()\n",
    "            if i1 == i and j1 == j:\n",
    "                return el.val\n",
    "\n",
    "    def min(self):\n",
    "        return self.dists.pop().get_all()\n"
   ],
   "metadata": {
    "collapsed": false,
    "ExecuteTime": {
     "end_time": "2023-06-04T12:17:46.356929638Z",
     "start_time": "2023-06-04T12:17:46.315004229Z"
    }
   }
  },
  {
   "cell_type": "code",
   "execution_count": 6,
   "outputs": [],
   "source": [
    "import sys\n",
    "def sizeof_fmt(num, suffix='B'):\n",
    "    ''' by Fred Cirera,  https://stackoverflow.com/a/1094933/1870254, modified'''\n",
    "    for unit in ['','Ki','Mi','Gi','Ti','Pi','Ei','Zi']:\n",
    "        if abs(num) < 1024.0:\n",
    "            return \"%3.1f %s%s\" % (num, unit, suffix)\n",
    "        num /= 1024.0\n",
    "    return \"%.1f %s%s\" % (num, 'Yi', suffix)\n",
    "\n"
   ],
   "metadata": {
    "collapsed": false,
    "ExecuteTime": {
     "end_time": "2023-06-04T12:17:46.397109572Z",
     "start_time": "2023-06-04T12:17:46.320314266Z"
    }
   }
  },
  {
   "cell_type": "code",
   "execution_count": 7,
   "metadata": {
    "ExecuteTime": {
     "end_time": "2023-06-04T12:17:46.398420075Z",
     "start_time": "2023-06-04T12:17:46.363206977Z"
    }
   },
   "outputs": [],
   "source": [
    "class Clustering:\n",
    "    def __init__(self, get_dists=get_dists):\n",
    "        self.get_dists = get_dists\n",
    "        self.statistics = {\n",
    "            'min_distances': [],\n",
    "            'time_of_iter': [],\n",
    "            'time_of_all': 0.0,\n",
    "            'count_of_iters': 0.0,\n",
    "            }\n",
    "\n",
    "    def get_stats(self):\n",
    "        self.statistics['time_of_iter'] = np.array(self.statistics['time_of_iter']).mean()\n",
    "        for k in self.statistics.keys():\n",
    "            print(f\"{k} --- {self.statistics[k]}\")\n",
    "        return self.statistics\n",
    "\n",
    "    @staticmethod\n",
    "    def _merge_clusters(cluster1, cluster2):\n",
    "        merged_cluster = cluster1 + cluster2\n",
    "        return merged_cluster\n",
    "\n",
    "    def _dist_between_clusters(self,\n",
    "                               clusters: list[list[int]],\n",
    "                               v: int,\n",
    "                               u: int,\n",
    "                               dists: dict[tuple[int, int], float],\n",
    "                               s: int = None,\n",
    "                               t: int = None,\n",
    "                               clusters_dists: ClustersList = None,\n",
    "                               method: str = 'min_dist') -> float:\n",
    "        \"\"\"\n",
    "        Counting distance between two clusters by specified method\n",
    "\n",
    "        :param clusters: current list of clusters\n",
    "        :param v: cluster to count distance with\n",
    "        :param u: new merged cluster\n",
    "        :param dists: distances between elements\n",
    "        :param s: subcluster of u\n",
    "        :param t: subcluster of u\n",
    "        :param clusters_dists: current distances between clusters\n",
    "        :param method: method to operate (min_dist, max_dist, average, weighted, ward)\n",
    "        :return: distance between clusters u and v\n",
    "        \"\"\"\n",
    "        if method == 'min_dist':\n",
    "            metric = Metric(method='min_dist')\n",
    "            return metric.run(clusters[u], clusters[v], dists)\n",
    "\n",
    "        if method == 'max_dist':\n",
    "            metric = Metric(method='max_dist')\n",
    "            return metric.run(clusters[u], clusters[v], dists)\n",
    "\n",
    "        if method == 'average':\n",
    "            metric = Metric(method='average')\n",
    "            return metric.run(clusters[u], clusters[v], dists)\n",
    "\n",
    "        if method == 'weighted':\n",
    "            d1, d2 = clusters_dists[s, v], clusters_dists[t, v]\n",
    "            return (d1 + d2) / 2\n",
    "\n",
    "        if method == 'ward':\n",
    "            whole_length = len(clusters[v]) + len(clusters[s]) + len(clusters[t])\n",
    "            s = 0.0\n",
    "            s += (len(clusters[v]) + len(clusters[s])) / whole_length * (clusters_dists[v, s] ** 2)\n",
    "            s += (len(clusters[v]) + len(clusters[t])) / whole_length * (clusters_dists[v, t] ** 2)\n",
    "            s -= len(clusters[v]) / whole_length * (clusters_dists[s, t] ** 2)\n",
    "\n",
    "            return np.sqrt(s)\n",
    "\n",
    "        return self.metric.run(clusters[u], clusters[v], dists)\n",
    "\n",
    "\n",
    "    def run_agglomerative(self, dists, method, k, top_lim):\n",
    "        start0 = datetime.now()\n",
    "\n",
    "        elements = np.unique(list(dists.keys()))[:top_lim]\n",
    "        clusters = [[i] for i in elements]\n",
    "        iters = len(elements) - k\n",
    "\n",
    "        clusters_dists = ClustersList()\n",
    "\n",
    "        print('Starting counting distances between clusters...')\n",
    "\n",
    "        for v in tqdm(range(len(clusters))):\n",
    "            for j in range(v + 1, len(clusters)):\n",
    "\n",
    "                clusters_dists.insert(v, j, self._dist_between_clusters(clusters, v, j, dists))\n",
    "\n",
    "        for name, size in sorted(((name, sys.getsizeof(value)) for name, value in list(\n",
    "                          locals().items())), key= lambda x: -x[1])[:10]:\n",
    "            print(\"{:>30}: {:>8}\".format(name, sizeof_fmt(size)))\n",
    "\n",
    "        print('Starting collapsing closest clusters...')\n",
    "        for _ in tqdm(range(iters)):\n",
    "            start = datetime.now()\n",
    "\n",
    "            s, t, min_distance = clusters_dists.min()\n",
    "            merged_cluster = self._merge_clusters(clusters[s], clusters[t])\n",
    "\n",
    "            clusters[s], clusters[t] = [], []\n",
    "            clusters.append(merged_cluster)\n",
    "\n",
    "            u = len(clusters) - 1\n",
    "            for v in range(len(clusters)):\n",
    "                if len(clusters[v]) != 0:\n",
    "                    d = self._dist_between_clusters(clusters, v, u, dists, s, t, clusters_dists, method)\n",
    "                    clusters_dists.insert(u, v, d)\n",
    "\n",
    "            clusters_dists.remove(s, t)\n",
    "\n",
    "            self.statistics['min_distances'].append(min_distance)\n",
    "            self.statistics['time_of_iter'].append(datetime.now() - start)\n",
    "        self.statistics['count_of_iters'] = iters\n",
    "        self.statistics['time_of_all'] = datetime.now() - start0\n",
    "\n",
    "        clusters = [c for c in clusters if c != []]\n",
    "\n",
    "        return clusters\n",
    "\n",
    "    def run_k_means(self, dists, k, max_iter=10_000):\n",
    "        # Можно наканпливать minimal_dist, как внутрикластерное расстояние (в агломеративных тоже)\n",
    "        # Можно сохранять среднее расстояние между кластерами и внутри кластеров, чтобы показывать на графике\n",
    "\n",
    "        start0 = datetime.now()\n",
    "        elements = np.unique(sorted(list(dists.keys()))[:25_000])\n",
    "\n",
    "        clusters = np.random.choice(elements, k, replace=False)\n",
    "        elements = elements[~np.isin(elements, clusters)]\n",
    "        clusters = [[c] for c in clusters]\n",
    "\n",
    "\n",
    "        print('Starting elements splitting by clusters...')\n",
    "        for e in tqdm(elements):\n",
    "            minimal_dist = self.metric.max * 5.0\n",
    "            cluster_index = 0\n",
    "            for i, c in enumerate(clusters):\n",
    "                dist = self.metric.run([e], c, dists)\n",
    "                if dist < minimal_dist:\n",
    "                    minimal_dist = dist\n",
    "                    cluster_index = i\n",
    "\n",
    "            clusters[cluster_index].append(e)\n",
    "\n",
    "\n",
    "        print('Starting operating over clusters...')\n",
    "        for _ in tqdm(range(max_iter)):\n",
    "            self.statistics['count_of_iters'] += 1\n",
    "            start = datetime.now()\n",
    "            prev_clusters = clusters.copy()\n",
    "            for c1 in clusters:\n",
    "                for pos_el, el in enumerate(c1):\n",
    "                    minimal_dist = self.metric.max * 5.0\n",
    "                    cluster_index = 0\n",
    "                    for i, c in enumerate(clusters):\n",
    "                        dist = self.metric.run([el], c, dists)\n",
    "                        if dist < minimal_dist:\n",
    "                            minimal_dist = dist\n",
    "                            cluster_index = i\n",
    "\n",
    "                    self.statistics['min_distances'].append(minimal_dist)\n",
    "\n",
    "                    del c1[pos_el]\n",
    "                    clusters[cluster_index].append(el)\n",
    "\n",
    "            if prev_clusters == clusters:\n",
    "                print('Clusters stabilizied!')\n",
    "                self.statistics['time_of_all'] = datetime.now() - start0\n",
    "                return clusters\n",
    "\n",
    "            self.statistics['time_of_iter'].append(datetime.now() - start)\n",
    "\n",
    "        print('Stopped for maximum iterations: {}'.format(max_iter))\n",
    "        self.statistics['time_of_all'] = datetime.now() - start0\n",
    "        return clusters\n",
    "\n",
    "\n",
    "    def fit(self,\n",
    "            metric: str,\n",
    "            method: str,\n",
    "            type='agglomerative',\n",
    "            dists_path='date_distances',\n",
    "            k=10,\n",
    "            top_lim=10_000,\n",
    "            max_iter=10_000\n",
    "        ):\n",
    "        \"\"\"\n",
    "\n",
    "        :param metric: euclidean, min_dist, max_dist, average\n",
    "        :param method: min_dist, max_dist, average, weighted, ward. If specified min_dist, max_dist, average, then overwrites metric\n",
    "        :param type: agglomerative, centroid. If centroid, then operates over matrix of distances, like in observation\n",
    "        :param dists_path: from where to take the distances\n",
    "        :param k: if agglomerative, then while to stop\n",
    "        :param top_lim: cutting elements to optimize time and memory\n",
    "        :param max_iter: if centroid, then while to stop\n",
    "        :return:\n",
    "        \"\"\"\n",
    "        with open(DATASETS_PATH + dists_path + '.pkl', 'rb') as f:\n",
    "            dists = pickle.load(f)\n",
    "        dists = self.get_dists(dists)\n",
    "        self.metric = Metric(method=metric)\n",
    "\n",
    "        if type == 'agglomerative':\n",
    "            return self.run_agglomerative(dists, method, k, top_lim)\n",
    "        else:\n",
    "            return self.run_k_means(dists, k, max_iter)"
   ]
  },
  {
   "cell_type": "code",
   "execution_count": 8,
   "metadata": {
    "ExecuteTime": {
     "end_time": "2023-06-04T12:17:46.398599567Z",
     "start_time": "2023-06-04T12:17:46.363361047Z"
    }
   },
   "outputs": [],
   "source": [
    "c = Clustering()\n",
    "# clusters_euc = c.fit(metric=Metric('max_dist'), type='k_means', k=10_000, max_iter=10_000)\n",
    "#\n",
    "# with open(CLUSTERS_PATH + 'k_means_max_dist.pkl','wb') as f:\n",
    "#      pickle.dump(clusters_euc, f)"
   ]
  },
  {
   "cell_type": "code",
   "execution_count": 8,
   "outputs": [],
   "source": [],
   "metadata": {
    "collapsed": false,
    "ExecuteTime": {
     "end_time": "2023-06-04T12:17:46.398872437Z",
     "start_time": "2023-06-04T12:17:46.363426698Z"
    }
   }
  },
  {
   "cell_type": "code",
   "execution_count": 9,
   "outputs": [
    {
     "name": "stdout",
     "output_type": "stream",
     "text": [
      "Starting counting distances between clusters...\n"
     ]
    },
    {
     "data": {
      "text/plain": "  0%|          | 0/1000 [00:00<?, ?it/s]",
      "application/vnd.jupyter.widget-view+json": {
       "version_major": 2,
       "version_minor": 0,
       "model_id": "ace81d401c094c94a3b7e2c83352124f"
      }
     },
     "metadata": {},
     "output_type": "display_data"
    },
    {
     "name": "stdout",
     "output_type": "stream",
     "text": [
      "                         dists: 20.0 MiB\n",
      "                      clusters:  8.6 KiB\n",
      "                      elements:  112.0 B\n",
      "                        method:   57.0 B\n",
      "                          self:   48.0 B\n",
      "                        start0:   48.0 B\n",
      "                clusters_dists:   48.0 B\n",
      "                             k:   28.0 B\n",
      "                       top_lim:   28.0 B\n",
      "                         iters:   28.0 B\n",
      "Starting collapsing closest clusters...\n"
     ]
    },
    {
     "data": {
      "text/plain": "  0%|          | 0/900 [00:00<?, ?it/s]",
      "application/vnd.jupyter.widget-view+json": {
       "version_major": 2,
       "version_minor": 0,
       "model_id": "1598cf8ae9b348b98f5c933e1a891406"
      }
     },
     "metadata": {},
     "output_type": "display_data"
    }
   ],
   "source": [
    "clusters_euc = c.fit(metric='euclidean', method='min_dist', type='agglomerative', k=1_000, top_lim=10_000)\n",
    "\n",
    "\n",
    "with open(CLUSTERS_PATH + 'ward_min_dist.pkl','wb') as f:\n",
    "     pickle.dump(clusters_euc, f)\n"
   ],
   "metadata": {
    "collapsed": false,
    "ExecuteTime": {
     "end_time": "2023-06-04T12:24:30.845028984Z",
     "start_time": "2023-06-04T12:17:46.407237125Z"
    }
   }
  },
  {
   "cell_type": "code",
   "execution_count": 10,
   "metadata": {
    "ExecuteTime": {
     "end_time": "2023-06-04T12:24:30.908569374Z",
     "start_time": "2023-06-04T12:24:30.862589490Z"
    }
   },
   "outputs": [
    {
     "name": "stdout",
     "output_type": "stream",
     "text": [
      "min_distances --- [100.0, 100.0, 100.0, 100.0, 100.0, 100.0, 100.0, 100.0, 100.0, 100.0, 100.0, 100.0, 100.0, 100.0, 100.0, 100.0, 100.0, 100.0, 100.0, 100.0, 100.0, 100.0, 100.0, 100.0, 100.0, 100.0, 100.0, 100.0, 100.0, 100.0, 100.0, 100.0, 100.0, 100.0, 100.0, 100.0, 100.0, 100.0, 100.0, 100.0, 100.0, 100.0, 100.0, 100.0, 100.0, 100.0, 100.0, 100.0, 100.0, 100.0, 100.0, 100.0, 100.0, 100.0, 100.0, 100.0, 100.0, 100.0, 100.0, 100.0, 100.0, 100.0, 100.0, 100.0, 100.0, 100.0, 100.0, 100.0, 100.0, 100.0, 100.0, 100.0, 100.0, 100.0, 100.0, 100.0, 100.0, 100.0, 100.0, 100.0, 100.0, 100.0, 100.0, 100.0, 100.0, 100.0, 100.0, 100.0, 100.0, 100.0, 100.0, 100.0, 100.0, 100.0, 100.0, 100.0, 100.0, 100.0, 100.0, 100.0, 100.0, 100.0, 100.0, 100.0, 100.0, 100.0, 100.0, 100.0, 100.0, 100.0, 100.0, 100.0, 100.0, 100.0, 100.0, 100.0, 100.0, 100.0, 100.0, 100.0, 100.0, 100.0, 100.0, 100.0, 100.0, 100.0, 100.0, 100.0, 100.0, 100.0, 100.0, 100.0, 100.0, 100.0, 100.0, 100.0, 100.0, 100.0, 100.0, 100.0, 100.0, 100.0, 100.0, 100.0, 100.0, 100.0, 100.0, 100.0, 100.0, 100.0, 100.0, 100.0, 100.0, 100.0, 100.0, 100.0, 100.0, 100.0, 100.0, 100.0, 100.0, 100.0, 100.0, 100.0, 100.0, 100.0, 100.0, 100.0, 100.0, 100.0, 100.0, 100.0, 100.0, 100.0, 100.0, 100.0, 100.0, 100.0, 100.0, 100.0, 100.0, 100.0, 100.0, 100.0, 100.0, 100.0, 100.0, 100.0, 100.0, 100.0, 100.0, 100.0, 100.0, 100.0, 100.0, 100.0, 100.0, 100.0, 100.0, 100.0, 100.0, 100.0, 100.0, 100.0, 100.0, 100.0, 100.0, 100.0, 100.0, 100.0, 100.0, 100.0, 100.0, 100.0, 100.0, 100.0, 100.0, 100.0, 100.0, 100.0, 100.0, 100.0, 100.0, 100.0, 100.0, 100.0, 100.0, 100.0, 100.0, 100.0, 100.0, 100.0, 100.0, 100.0, 100.0, 100.0, 100.0, 100.0, 100.0, 100.0, 100.0, 100.0, 100.0, 100.0, 100.0, 100.0, 100.0, 100.0, 100.0, 100.0, 100.0, 100.0, 100.0, 100.0, 100.0, 100.0, 100.0, 100.0, 100.0, 100.0, 100.0, 100.0, 100.0, 100.0, 100.0, 100.0, 100.0, 100.0, 100.0, 100.0, 100.0, 100.0, 100.0, 100.0, 100.0, 100.0, 100.0, 100.0, 100.0, 100.0, 100.0, 100.0, 100.0, 100.0, 100.0, 100.0, 100.0, 100.0, 100.0, 100.0, 100.0, 100.0, 100.0, 100.0, 100.0, 100.0, 100.0, 100.0, 100.0, 100.0, 100.0, 100.0, 100.0, 100.0, 100.0, 100.0, 100.0, 100.0, 100.0, 100.0, 100.0, 100.0, 100.0, 100.0, 100.0, 100.0, 100.0, 100.0, 100.0, 100.0, 100.0, 100.0, 100.0, 100.0, 100.0, 100.0, 100.0, 100.0, 100.0, 100.0, 100.0, 100.0, 100.0, 100.0, 100.0, 100.0, 100.0, 100.0, 100.0, 100.0, 100.0, 100.0, 100.0, 100.0, 100.0, 100.0, 100.0, 100.0, 100.0, 100.0, 100.0, 100.0, 100.0, 100.0, 100.0, 100.0, 100.0, 100.0, 100.0, 100.0, 100.0, 100.0, 100.0, 100.0, 100.0, 100.0, 100.0, 100.0, 100.0, 100.0, 100.0, 100.0, 100.0, 100.0, 100.0, 100.0, 100.0, 100.0, 100.0, 100.0, 100.0, 100.0, 100.0, 100.0, 100.0, 100.0, 100.0, 100.0, 100.0, 100.0, 100.0, 100.0, 100.0, 100.0, 100.0, 100.0, 100.0, 100.0, 100.0, 100.0, 100.0, 100.0, 100.0, 100.0, 100.0, 100.0, 100.0, 100.0, 100.0, 100.0, 100.0, 100.0, 100.0, 100.0, 100.0, 100.0, 100.0, 100.0, 100.0, 100.0, 100.0, 100.0, 100.0, 100.0, 100.0, 100.0, 100.0, 100.0, 100.0, 100.0, 100.0, 100.0, 100.0, 100.0, 100.0, 100.0, 100.0, 100.0, 100.0, 100.0, 100.0, 100.0, 100.0, 100.0, 100.0, 100.0, 100.0, 100.0, 100.0, 100.0, 100.0, 100.0, 100.0, 100.0, 100.0, 100.0, 100.0, 100.0, 100.0, 100.0, 100.0, 100.0, 100.0, 100.0, 100.0, 100.0, 100.0, 100.0, 100.0, 100.0, 100.0, 100.0, 100.0, 100.0, 100.0, 100.0, 100.0, 100.0, 100.0, 100.0, 100.0, 100.0, 100.0, 100.0, 100.0, 100.0, 100.0, 100.0, 100.0, 100.0, 100.0, 100.0, 100.0, 100.0, 100.0, 100.0, 100.0, 100.0, 100.0, 100.0, 100.0, 100.0, 100.0, 100.0, 100.0, 100.0, 100.0, 100.0, 100.0, 100.0, 100.0, 100.0, 100.0, 100.0, 100.0, 100.0, 100.0, 100.0, 100.0, 100.0, 100.0, 100.0, 100.0, 100.0, 100.0, 100.0, 100.0, 100.0, 100.0, 100.0, 100.0, 100.0, 101.0, 101.0, 101.0, 101.0, 101.0, 101.0, 101.0, 101.0, 101.0, 101.0, 101.0, 101.0, 101.0, 101.0, 101.0, 101.0, 101.0, 101.0, 101.0, 101.0, 101.0, 101.0, 101.0, 101.0, 101.0, 101.0, 101.0, 101.0, 101.0, 101.0, 101.0, 101.0, 101.0, 101.0, 101.0, 101.0, 101.0, 101.0, 101.0, 101.0, 101.0, 101.0, 101.0, 101.0, 101.0, 101.0, 101.0, 101.0, 101.0, 101.0, 101.0, 101.0, 101.0, 101.0, 101.0, 101.0, 101.0, 101.0, 101.0, 101.0, 101.0, 101.0, 101.0, 101.0, 101.0, 101.0, 101.0, 101.0, 101.0, 101.0, 101.0, 101.0, 101.0, 101.0, 101.0, 101.0, 101.0, 101.0, 101.0, 101.0, 101.0, 101.0, 101.0, 101.0, 101.0, 101.0, 101.0, 101.0, 101.0, 101.0, 101.0, 101.0, 101.0, 101.0, 101.0, 101.0, 101.0, 101.0, 101.0, 101.0, 101.0, 101.0, 101.0, 101.0, 101.0, 101.0, 101.0, 101.0, 101.0, 101.0, 101.0, 101.0, 101.0, 101.0, 101.0, 101.0, 101.0, 101.0, 101.0, 101.0, 101.0, 101.0, 101.0, 101.0, 101.0, 101.0, 101.0, 101.0, 101.0, 101.0, 101.0, 101.0, 101.0, 101.0, 101.0, 101.0, 101.0, 101.0, 101.0, 101.0, 101.0, 101.0, 101.0, 101.0, 101.0, 101.0, 101.0, 101.0, 101.0, 101.0, 101.0, 101.0, 101.0, 101.0, 101.0, 101.0, 101.0, 101.0, 101.0, 101.0, 101.0, 101.0, 101.0, 101.0, 101.0, 101.0, 101.0, 101.0, 101.0, 101.0, 101.0, 101.0, 101.0, 101.0, 101.0, 101.0, 101.0, 101.0, 101.0, 101.0, 101.0, 101.0, 101.0, 101.0, 101.0, 101.0, 101.0, 101.0, 101.0, 101.0, 101.0, 101.0, 101.0, 101.0, 101.0, 101.0, 101.0, 101.0, 101.0, 101.0, 101.0, 101.0, 101.0, 101.0, 101.0, 101.0, 101.0, 101.0, 101.0, 101.0, 101.0, 101.0, 101.0, 101.0, 101.0, 101.0, 101.0, 101.0, 101.0, 101.0, 101.0, 101.0, 101.0, 101.0, 101.0, 101.0, 101.0, 101.0, 101.0, 101.0, 101.0, 101.0, 101.0, 101.0, 101.0, 101.0, 101.0, 101.0, 101.0, 101.0, 101.0, 101.0, 101.0, 101.0, 101.0, 101.0, 101.0, 101.0, 101.0, 101.0, 101.0, 101.0, 101.0, 101.0, 101.0, 101.0, 101.0, 101.0, 101.0, 101.0, 101.0, 101.0, 101.0, 101.0, 101.0, 101.0, 101.0, 101.0, 101.0, 101.0, 101.0, 101.0, 101.0, 101.0, 101.0, 101.0, 101.0, 101.0, 101.0, 101.0, 101.0, 101.0, 101.0, 101.0, 101.0, 101.0, 101.0, 101.0, 101.0, 101.0, 101.0, 101.0, 101.0, 101.0, 101.0, 101.0, 101.0, 101.0, 101.0, 101.0, 101.0, 101.0, 101.0, 101.0, 101.0, 101.0, 101.0, 101.0, 101.0, 101.0, 101.0, 101.0, 101.0, 101.0, 101.0, 101.0, 101.0, 101.0, 101.0, 101.0, 101.0, 101.0, 101.0, 101.0, 101.0, 101.0, 101.0, 101.0, 101.0, 101.0, 101.0, 101.0, 101.0, 101.0, 101.0, 101.0, 101.0, 101.0, 101.0, 101.0, 101.0, 101.0, 101.0, 101.0, 101.0, 101.0, 101.0, 101.0, 101.0, 101.0, 101.0, 101.0, 101.0, 101.0, 101.0, 101.0, 101.0, 101.0, 101.0, 101.0, 101.0, 101.0, 101.0, 101.0, 101.0, 101.0, 101.0, 101.0]\n",
      "time_of_iter --- 0:00:00.414311\n",
      "time_of_all --- 0:06:17.516942\n",
      "count_of_iters --- 900\n"
     ]
    },
    {
     "data": {
      "text/plain": "{'min_distances': [100.0,\n  100.0,\n  100.0,\n  100.0,\n  100.0,\n  100.0,\n  100.0,\n  100.0,\n  100.0,\n  100.0,\n  100.0,\n  100.0,\n  100.0,\n  100.0,\n  100.0,\n  100.0,\n  100.0,\n  100.0,\n  100.0,\n  100.0,\n  100.0,\n  100.0,\n  100.0,\n  100.0,\n  100.0,\n  100.0,\n  100.0,\n  100.0,\n  100.0,\n  100.0,\n  100.0,\n  100.0,\n  100.0,\n  100.0,\n  100.0,\n  100.0,\n  100.0,\n  100.0,\n  100.0,\n  100.0,\n  100.0,\n  100.0,\n  100.0,\n  100.0,\n  100.0,\n  100.0,\n  100.0,\n  100.0,\n  100.0,\n  100.0,\n  100.0,\n  100.0,\n  100.0,\n  100.0,\n  100.0,\n  100.0,\n  100.0,\n  100.0,\n  100.0,\n  100.0,\n  100.0,\n  100.0,\n  100.0,\n  100.0,\n  100.0,\n  100.0,\n  100.0,\n  100.0,\n  100.0,\n  100.0,\n  100.0,\n  100.0,\n  100.0,\n  100.0,\n  100.0,\n  100.0,\n  100.0,\n  100.0,\n  100.0,\n  100.0,\n  100.0,\n  100.0,\n  100.0,\n  100.0,\n  100.0,\n  100.0,\n  100.0,\n  100.0,\n  100.0,\n  100.0,\n  100.0,\n  100.0,\n  100.0,\n  100.0,\n  100.0,\n  100.0,\n  100.0,\n  100.0,\n  100.0,\n  100.0,\n  100.0,\n  100.0,\n  100.0,\n  100.0,\n  100.0,\n  100.0,\n  100.0,\n  100.0,\n  100.0,\n  100.0,\n  100.0,\n  100.0,\n  100.0,\n  100.0,\n  100.0,\n  100.0,\n  100.0,\n  100.0,\n  100.0,\n  100.0,\n  100.0,\n  100.0,\n  100.0,\n  100.0,\n  100.0,\n  100.0,\n  100.0,\n  100.0,\n  100.0,\n  100.0,\n  100.0,\n  100.0,\n  100.0,\n  100.0,\n  100.0,\n  100.0,\n  100.0,\n  100.0,\n  100.0,\n  100.0,\n  100.0,\n  100.0,\n  100.0,\n  100.0,\n  100.0,\n  100.0,\n  100.0,\n  100.0,\n  100.0,\n  100.0,\n  100.0,\n  100.0,\n  100.0,\n  100.0,\n  100.0,\n  100.0,\n  100.0,\n  100.0,\n  100.0,\n  100.0,\n  100.0,\n  100.0,\n  100.0,\n  100.0,\n  100.0,\n  100.0,\n  100.0,\n  100.0,\n  100.0,\n  100.0,\n  100.0,\n  100.0,\n  100.0,\n  100.0,\n  100.0,\n  100.0,\n  100.0,\n  100.0,\n  100.0,\n  100.0,\n  100.0,\n  100.0,\n  100.0,\n  100.0,\n  100.0,\n  100.0,\n  100.0,\n  100.0,\n  100.0,\n  100.0,\n  100.0,\n  100.0,\n  100.0,\n  100.0,\n  100.0,\n  100.0,\n  100.0,\n  100.0,\n  100.0,\n  100.0,\n  100.0,\n  100.0,\n  100.0,\n  100.0,\n  100.0,\n  100.0,\n  100.0,\n  100.0,\n  100.0,\n  100.0,\n  100.0,\n  100.0,\n  100.0,\n  100.0,\n  100.0,\n  100.0,\n  100.0,\n  100.0,\n  100.0,\n  100.0,\n  100.0,\n  100.0,\n  100.0,\n  100.0,\n  100.0,\n  100.0,\n  100.0,\n  100.0,\n  100.0,\n  100.0,\n  100.0,\n  100.0,\n  100.0,\n  100.0,\n  100.0,\n  100.0,\n  100.0,\n  100.0,\n  100.0,\n  100.0,\n  100.0,\n  100.0,\n  100.0,\n  100.0,\n  100.0,\n  100.0,\n  100.0,\n  100.0,\n  100.0,\n  100.0,\n  100.0,\n  100.0,\n  100.0,\n  100.0,\n  100.0,\n  100.0,\n  100.0,\n  100.0,\n  100.0,\n  100.0,\n  100.0,\n  100.0,\n  100.0,\n  100.0,\n  100.0,\n  100.0,\n  100.0,\n  100.0,\n  100.0,\n  100.0,\n  100.0,\n  100.0,\n  100.0,\n  100.0,\n  100.0,\n  100.0,\n  100.0,\n  100.0,\n  100.0,\n  100.0,\n  100.0,\n  100.0,\n  100.0,\n  100.0,\n  100.0,\n  100.0,\n  100.0,\n  100.0,\n  100.0,\n  100.0,\n  100.0,\n  100.0,\n  100.0,\n  100.0,\n  100.0,\n  100.0,\n  100.0,\n  100.0,\n  100.0,\n  100.0,\n  100.0,\n  100.0,\n  100.0,\n  100.0,\n  100.0,\n  100.0,\n  100.0,\n  100.0,\n  100.0,\n  100.0,\n  100.0,\n  100.0,\n  100.0,\n  100.0,\n  100.0,\n  100.0,\n  100.0,\n  100.0,\n  100.0,\n  100.0,\n  100.0,\n  100.0,\n  100.0,\n  100.0,\n  100.0,\n  100.0,\n  100.0,\n  100.0,\n  100.0,\n  100.0,\n  100.0,\n  100.0,\n  100.0,\n  100.0,\n  100.0,\n  100.0,\n  100.0,\n  100.0,\n  100.0,\n  100.0,\n  100.0,\n  100.0,\n  100.0,\n  100.0,\n  100.0,\n  100.0,\n  100.0,\n  100.0,\n  100.0,\n  100.0,\n  100.0,\n  100.0,\n  100.0,\n  100.0,\n  100.0,\n  100.0,\n  100.0,\n  100.0,\n  100.0,\n  100.0,\n  100.0,\n  100.0,\n  100.0,\n  100.0,\n  100.0,\n  100.0,\n  100.0,\n  100.0,\n  100.0,\n  100.0,\n  100.0,\n  100.0,\n  100.0,\n  100.0,\n  100.0,\n  100.0,\n  100.0,\n  100.0,\n  100.0,\n  100.0,\n  100.0,\n  100.0,\n  100.0,\n  100.0,\n  100.0,\n  100.0,\n  100.0,\n  100.0,\n  100.0,\n  100.0,\n  100.0,\n  100.0,\n  100.0,\n  100.0,\n  100.0,\n  100.0,\n  100.0,\n  100.0,\n  100.0,\n  100.0,\n  100.0,\n  100.0,\n  100.0,\n  100.0,\n  100.0,\n  100.0,\n  100.0,\n  100.0,\n  100.0,\n  100.0,\n  100.0,\n  100.0,\n  100.0,\n  100.0,\n  100.0,\n  100.0,\n  100.0,\n  100.0,\n  100.0,\n  100.0,\n  100.0,\n  100.0,\n  100.0,\n  100.0,\n  100.0,\n  100.0,\n  100.0,\n  100.0,\n  100.0,\n  100.0,\n  100.0,\n  100.0,\n  100.0,\n  100.0,\n  100.0,\n  100.0,\n  100.0,\n  100.0,\n  100.0,\n  100.0,\n  100.0,\n  100.0,\n  100.0,\n  100.0,\n  100.0,\n  100.0,\n  100.0,\n  100.0,\n  100.0,\n  100.0,\n  100.0,\n  100.0,\n  100.0,\n  100.0,\n  100.0,\n  100.0,\n  100.0,\n  100.0,\n  100.0,\n  100.0,\n  100.0,\n  100.0,\n  100.0,\n  100.0,\n  100.0,\n  100.0,\n  100.0,\n  100.0,\n  100.0,\n  100.0,\n  100.0,\n  100.0,\n  100.0,\n  100.0,\n  100.0,\n  100.0,\n  100.0,\n  100.0,\n  100.0,\n  100.0,\n  100.0,\n  100.0,\n  100.0,\n  100.0,\n  100.0,\n  100.0,\n  100.0,\n  100.0,\n  100.0,\n  100.0,\n  100.0,\n  100.0,\n  100.0,\n  100.0,\n  100.0,\n  100.0,\n  100.0,\n  100.0,\n  100.0,\n  100.0,\n  100.0,\n  100.0,\n  100.0,\n  100.0,\n  100.0,\n  100.0,\n  100.0,\n  100.0,\n  100.0,\n  100.0,\n  100.0,\n  100.0,\n  100.0,\n  100.0,\n  100.0,\n  100.0,\n  100.0,\n  100.0,\n  100.0,\n  100.0,\n  100.0,\n  100.0,\n  100.0,\n  100.0,\n  100.0,\n  100.0,\n  100.0,\n  100.0,\n  100.0,\n  100.0,\n  100.0,\n  100.0,\n  101.0,\n  101.0,\n  101.0,\n  101.0,\n  101.0,\n  101.0,\n  101.0,\n  101.0,\n  101.0,\n  101.0,\n  101.0,\n  101.0,\n  101.0,\n  101.0,\n  101.0,\n  101.0,\n  101.0,\n  101.0,\n  101.0,\n  101.0,\n  101.0,\n  101.0,\n  101.0,\n  101.0,\n  101.0,\n  101.0,\n  101.0,\n  101.0,\n  101.0,\n  101.0,\n  101.0,\n  101.0,\n  101.0,\n  101.0,\n  101.0,\n  101.0,\n  101.0,\n  101.0,\n  101.0,\n  101.0,\n  101.0,\n  101.0,\n  101.0,\n  101.0,\n  101.0,\n  101.0,\n  101.0,\n  101.0,\n  101.0,\n  101.0,\n  101.0,\n  101.0,\n  101.0,\n  101.0,\n  101.0,\n  101.0,\n  101.0,\n  101.0,\n  101.0,\n  101.0,\n  101.0,\n  101.0,\n  101.0,\n  101.0,\n  101.0,\n  101.0,\n  101.0,\n  101.0,\n  101.0,\n  101.0,\n  101.0,\n  101.0,\n  101.0,\n  101.0,\n  101.0,\n  101.0,\n  101.0,\n  101.0,\n  101.0,\n  101.0,\n  101.0,\n  101.0,\n  101.0,\n  101.0,\n  101.0,\n  101.0,\n  101.0,\n  101.0,\n  101.0,\n  101.0,\n  101.0,\n  101.0,\n  101.0,\n  101.0,\n  101.0,\n  101.0,\n  101.0,\n  101.0,\n  101.0,\n  101.0,\n  101.0,\n  101.0,\n  101.0,\n  101.0,\n  101.0,\n  101.0,\n  101.0,\n  101.0,\n  101.0,\n  101.0,\n  101.0,\n  101.0,\n  101.0,\n  101.0,\n  101.0,\n  101.0,\n  101.0,\n  101.0,\n  101.0,\n  101.0,\n  101.0,\n  101.0,\n  101.0,\n  101.0,\n  101.0,\n  101.0,\n  101.0,\n  101.0,\n  101.0,\n  101.0,\n  101.0,\n  101.0,\n  101.0,\n  101.0,\n  101.0,\n  101.0,\n  101.0,\n  101.0,\n  101.0,\n  101.0,\n  101.0,\n  101.0,\n  101.0,\n  101.0,\n  101.0,\n  101.0,\n  101.0,\n  101.0,\n  101.0,\n  101.0,\n  101.0,\n  101.0,\n  101.0,\n  101.0,\n  101.0,\n  101.0,\n  101.0,\n  101.0,\n  101.0,\n  101.0,\n  101.0,\n  101.0,\n  101.0,\n  101.0,\n  101.0,\n  101.0,\n  101.0,\n  101.0,\n  101.0,\n  101.0,\n  101.0,\n  101.0,\n  101.0,\n  101.0,\n  101.0,\n  101.0,\n  101.0,\n  101.0,\n  101.0,\n  101.0,\n  101.0,\n  101.0,\n  101.0,\n  101.0,\n  101.0,\n  101.0,\n  101.0,\n  101.0,\n  101.0,\n  101.0,\n  101.0,\n  101.0,\n  101.0,\n  101.0,\n  101.0,\n  101.0,\n  101.0,\n  101.0,\n  101.0,\n  101.0,\n  101.0,\n  101.0,\n  101.0,\n  101.0,\n  101.0,\n  101.0,\n  101.0,\n  101.0,\n  101.0,\n  101.0,\n  101.0,\n  101.0,\n  101.0,\n  101.0,\n  101.0,\n  101.0,\n  101.0,\n  101.0,\n  101.0,\n  101.0,\n  101.0,\n  101.0,\n  101.0,\n  101.0,\n  101.0,\n  101.0,\n  101.0,\n  101.0,\n  101.0,\n  101.0,\n  101.0,\n  101.0,\n  101.0,\n  101.0,\n  101.0,\n  101.0,\n  101.0,\n  101.0,\n  101.0,\n  101.0,\n  101.0,\n  101.0,\n  101.0,\n  101.0,\n  101.0,\n  101.0,\n  101.0,\n  101.0,\n  101.0,\n  101.0,\n  101.0,\n  101.0,\n  101.0,\n  101.0,\n  101.0,\n  101.0,\n  101.0,\n  101.0,\n  101.0,\n  101.0,\n  101.0,\n  101.0,\n  101.0,\n  101.0,\n  101.0,\n  101.0,\n  101.0,\n  101.0,\n  101.0,\n  101.0,\n  101.0,\n  101.0,\n  101.0,\n  101.0,\n  101.0,\n  101.0,\n  101.0,\n  101.0,\n  101.0,\n  101.0,\n  101.0,\n  101.0,\n  101.0,\n  101.0,\n  101.0,\n  101.0,\n  101.0,\n  101.0,\n  101.0,\n  101.0,\n  101.0,\n  101.0,\n  101.0,\n  101.0,\n  101.0,\n  101.0,\n  101.0,\n  101.0,\n  101.0,\n  101.0,\n  101.0,\n  101.0,\n  101.0,\n  101.0,\n  101.0,\n  101.0,\n  101.0,\n  101.0,\n  101.0,\n  101.0,\n  101.0,\n  101.0,\n  101.0,\n  101.0,\n  101.0,\n  101.0,\n  101.0,\n  101.0,\n  101.0,\n  101.0,\n  101.0,\n  101.0,\n  101.0,\n  101.0,\n  101.0,\n  101.0,\n  101.0,\n  101.0,\n  101.0,\n  101.0,\n  101.0,\n  101.0,\n  101.0,\n  101.0,\n  101.0,\n  101.0,\n  101.0,\n  101.0,\n  101.0,\n  101.0,\n  101.0,\n  101.0,\n  101.0,\n  101.0,\n  101.0,\n  101.0,\n  101.0,\n  101.0,\n  101.0,\n  101.0,\n  101.0,\n  101.0,\n  101.0,\n  101.0,\n  101.0,\n  101.0,\n  101.0,\n  101.0,\n  101.0,\n  101.0,\n  101.0,\n  101.0,\n  101.0,\n  101.0,\n  101.0,\n  101.0,\n  101.0,\n  101.0],\n 'time_of_iter': datetime.timedelta(microseconds=414311),\n 'time_of_all': datetime.timedelta(seconds=377, microseconds=516942),\n 'count_of_iters': 900}"
     },
     "execution_count": 10,
     "metadata": {},
     "output_type": "execute_result"
    }
   ],
   "source": [
    "c.get_stats()"
   ]
  },
  {
   "cell_type": "code",
   "execution_count": 11,
   "metadata": {
    "ExecuteTime": {
     "end_time": "2023-06-04T12:24:30.908693972Z",
     "start_time": "2023-06-04T12:24:30.908041583Z"
    }
   },
   "outputs": [],
   "source": [
    "# with open(CLUSTERS_PATH + 'k_means_euclidean.pkl','wb') as f:\n",
    "#      pickle.dump(clusters_euc, f)"
   ]
  },
  {
   "cell_type": "code",
   "execution_count": 11,
   "outputs": [],
   "source": [],
   "metadata": {
    "collapsed": false,
    "ExecuteTime": {
     "end_time": "2023-06-04T12:24:30.908793146Z",
     "start_time": "2023-06-04T12:24:30.908201659Z"
    }
   }
  }
 ],
 "metadata": {
  "kernelspec": {
   "name": "python3",
   "language": "python",
   "display_name": "Python 3 (ipykernel)"
  },
  "language_info": {
   "codemirror_mode": {
    "name": "ipython",
    "version": 3
   },
   "file_extension": ".py",
   "mimetype": "text/x-python",
   "name": "python",
   "nbconvert_exporter": "python",
   "pygments_lexer": "ipython3",
   "version": "3.8.10"
  }
 },
 "nbformat": 4,
 "nbformat_minor": 1
}
