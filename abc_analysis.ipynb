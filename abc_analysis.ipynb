{
 "cells": [
  {
   "cell_type": "code",
   "execution_count": null,
   "id": "478bd20f",
   "metadata": {},
   "outputs": [],
   "source": [
    "import pandas as pd\n",
    "import os\n",
    "import numpy as np\n",
    "import matplotlib.pyplot as plt\n",
    "import matplotlib.colors as mcolors\n",
    "import random"
   ]
  },
  {
   "cell_type": "code",
   "execution_count": null,
   "id": "e02c00a4",
   "metadata": {},
   "outputs": [],
   "source": [
    "data = pd.read_csv('datasets/receipts_categorized.csv')\n",
    "data = data.drop(columns=['Unnamed: 0'])\n",
    "data"
   ]
  },
  {
   "cell_type": "code",
   "execution_count": null,
   "id": "f776d364",
   "metadata": {},
   "outputs": [],
   "source": [
    "data_new = pd.read_csv('datasets/receipts_new.csv')\n",
    "data_new"
   ]
  },
  {
   "cell_type": "code",
   "execution_count": null,
   "id": "df1b9429",
   "metadata": {},
   "outputs": [],
   "source": [
    "grouped_by_receipts = data.groupby(['transaction_key'])\n",
    "grouped_by_receipts.describe()"
   ]
  },
  {
   "cell_type": "code",
   "execution_count": null,
   "id": "4459284e",
   "metadata": {},
   "outputs": [],
   "source": [
    "\n",
    "    \n"
   ]
  },
  {
   "cell_type": "code",
   "execution_count": null,
   "id": "c23e6315",
   "metadata": {
    "scrolled": true
   },
   "outputs": [],
   "source": [
    "data_new = pd.read_csv('receipts_new.csv')\n"
   ]
  },
  {
   "cell_type": "code",
   "execution_count": null,
   "id": "080d0d86",
   "metadata": {},
   "outputs": [],
   "source": [
    "# dupl = data_new.duplicated()\n",
    "np.where(dupl == True)[0]"
   ]
  },
  {
   "cell_type": "code",
   "execution_count": null,
   "id": "c6b7d877",
   "metadata": {},
   "outputs": [],
   "source": [
    "def mul(x):\n",
    "    m = 1.0\n",
    "    for i in x:\n",
    "        m *= i\n",
    "    return m\n",
    "\n",
    "dict_product_pos = {}\n",
    "# Товар: [позиция товара в чеках]\n",
    "\n",
    "dict_product_freq = {}\n",
    "# Товар: счетчик появления товара в чеках\n",
    "\n",
    "def set_pos(x, array_of_prices):\n",
    "    item = x['line_item_id']\n",
    "    price = x['product_price']\n",
    "    if  item not in dict_product_pos:\n",
    "        dict_product_pos[item] = []\n",
    "    dict_product_pos[item].append(np.where(array_of_prices == price)[0][0])\n",
    "    \n",
    "        \n",
    "def analyze_receipt(receipt):\n",
    "    receipt[['line_item_price', 'line_quantity']]\n",
    "    product_prices = receipt[['line_item_price', 'line_quantity']].apply(lambda x: mul(x), axis=1)\n",
    "    receipt['product_prices'] = product_prices\n",
    "#     print(receipt['product_price'])\n",
    "    sorted_receipt = receipt.sort_values(['product_price'], ascending=False)\n",
    "    array_of_prices = sorted_receipt['product_price']\n",
    "    sorted_receipt.apply(lambda x: set_pos(x, array_of_prices), axis=1)\n",
    "    \n",
    "#     print(np.where(array_of_prices == ))\n",
    "\n",
    "keys = data_new['transaction_key'].unique()\n",
    "for key in keys[:5]:\n",
    "    receipt = data_new.loc[data_new['transaction_key'] == key]\n",
    "    analyze_receipt(receipt)"
   ]
  },
  {
   "cell_type": "code",
   "execution_count": null,
   "id": "2ee111b3",
   "metadata": {},
   "outputs": [],
   "source": [
    "# dict_product_pos\n",
    "# np.where(data_new['transaction_key'] in keys[:5])\n",
    "# keys_group = data_new.groupby(['transaction_key'])\n",
    "# data_new.loc[data_new['line_item_id'] == 82148960]\n",
    "\n",
    "data_new.info()"
   ]
  },
  {
   "cell_type": "code",
   "execution_count": null,
   "id": "e1b844e6",
   "metadata": {},
   "outputs": [],
   "source": [
    "# cnt = 10\n",
    "for key in keys_group.groups:\n",
    "    cnt -= 1\n",
    "    lines = keys_group.groups[key].array\n",
    "    receipt = data_new.iloc[lines]\n",
    "    dupl_receipt = receipt.duplicated(subset=['line_item_id'], keep=False)\n",
    "#     print(receipt)\n",
    "    duplicates_indices = dupl_receipt.loc[dupl_receipt == True].index.to_numpy()\n",
    "    if len(duplicates_indices) != 0:\n",
    "        data_new.at[duplicates_indices[0], 'line_quantity'] += data_new.loc[duplicates_indices[1:], 'line_quantity'].sum()\n",
    "        data_new = data_new.drop(duplicates_indices[1:])\n",
    "        \n",
    "\n",
    "data_new.info()\n",
    "    \n",
    "#     dupl_indices = np.where(dupl_receipt == True)[0]\n",
    "    \n",
    "#     if cnt == 0:\n",
    "#         break\n",
    "    "
   ]
  }
 ],
 "metadata": {
  "kernelspec": {
   "display_name": "Python 3 (ipykernel)",
   "language": "python",
   "name": "python3"
  },
  "language_info": {
   "codemirror_mode": {
    "name": "ipython",
    "version": 3
   },
   "file_extension": ".py",
   "mimetype": "text/x-python",
   "name": "python",
   "nbconvert_exporter": "python",
   "pygments_lexer": "ipython3",
   "version": "3.8.10"
  }
 },
 "nbformat": 4,
 "nbformat_minor": 5
}
