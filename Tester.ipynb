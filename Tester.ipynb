{
 "cells": [
  {
   "cell_type": "code",
   "execution_count": 1,
   "outputs": [],
   "source": [
    "import datetime\n",
    "\n",
    "import numpy as np\n",
    "import pandas as pd\n",
    "\n",
    "FIGURES_PATH = 'out/figures/'\n",
    "DATASETS_PATH = 'out/datasets/'\n",
    "CLUSTERS_PATH = 'out/clusters/'\n",
    "DICTS_PATH = 'out/dicts/'"
   ],
   "metadata": {
    "collapsed": false,
    "ExecuteTime": {
     "end_time": "2023-06-17T17:51:35.662348431Z",
     "start_time": "2023-06-17T17:51:35.223646501Z"
    }
   }
  },
  {
   "cell_type": "code",
   "execution_count": 12,
   "outputs": [],
   "source": [
    "from sklearn.model_selection import train_test_split\n",
    "from tqdm.notebook import tqdm\n",
    "from distances import Distances\n",
    "from clustering import Clustering, get_dists\n",
    "import matplotlib.pyplot as plt\n",
    "\n",
    "tqdm.pandas()\n",
    "from helper import *"
   ],
   "metadata": {
    "collapsed": false
   }
  },
  {
   "cell_type": "code",
   "execution_count": 14,
   "outputs": [],
   "source": [],
   "metadata": {
    "collapsed": false
   }
  },
  {
   "cell_type": "code",
   "execution_count": 20,
   "metadata": {
    "collapsed": true
   },
   "outputs": [],
   "source": [
    "class Tester:\n",
    "    def __init__(self):\n",
    "        return\n",
    "\n",
    "\n",
    "    def dist_between(self, cluster1, cluster2, dists):\n",
    "        s = 0.0\n",
    "        cnt = 0\n",
    "        for i in cluster1:\n",
    "            for j in cluster2:\n",
    "                s += self.get_dist(i, j, dists) ** 2\n",
    "                cnt += 1\n",
    "\n",
    "        if s == 0:\n",
    "            return 0.01\n",
    "        return np.sqrt(s) / cnt\n",
    "\n",
    "\n",
    "    @staticmethod\n",
    "    def tp_tn_fp_fn(clusters1, clusters2):\n",
    "        elements = list(set(np.concatenate(clusters1)))\n",
    "        cnt = 0\n",
    "        tp, tn = 0, 0\n",
    "        fn, fp = 0, 0\n",
    "        for i in range(len(elements)):\n",
    "            for j in range(i + 1, len(elements)):\n",
    "\n",
    "                in_one1 = False\n",
    "                in_one2 = False\n",
    "\n",
    "                for c1 in clusters1:\n",
    "                    if elements[i] in c1 and elements[j] in c1:\n",
    "                        in_one1 = True\n",
    "                        break\n",
    "\n",
    "                for c2 in clusters2:\n",
    "                    if elements[i] in c2 and elements[j] in c2:\n",
    "                        in_one2 = True\n",
    "                        break\n",
    "\n",
    "                if in_one1 and in_one2:\n",
    "                    tp += 1\n",
    "\n",
    "                elif (not in_one1) and (not in_one2):\n",
    "                    tn += 1\n",
    "\n",
    "                elif in_one1 and (not in_one2):\n",
    "                    fn += 1\n",
    "\n",
    "                elif (not in_one1) and in_one2:\n",
    "                    fp += 1\n",
    "\n",
    "                cnt += 1\n",
    "\n",
    "        return tp, tn, fp, fn\n",
    "\n",
    "    @staticmethod\n",
    "    def get_dist(i, j, dists):\n",
    "        if (i, j) in dists:\n",
    "            return dists[i, j]\n",
    "\n",
    "        if (j, i) in dists:\n",
    "            return dists[j, i]\n",
    "\n",
    "        return 100\n",
    "\n",
    "    @staticmethod\n",
    "    def rand(tp, tn, fp, fn):\n",
    "        cnt = tp + tn + fp + fn\n",
    "        return (tp + tn) / cnt\n",
    "\n",
    "    @staticmethod\n",
    "    def adjusted_rand(tp, tn, fp, fn):\n",
    "        n = tp + tn + fp + fn\n",
    "        return (tp + tn) / n - ((tp + fp) * (tp + fn) + (fn + tn) * (fp + tn)) / (n ** 2)\n",
    "\n",
    "    @staticmethod\n",
    "    def fm(tp, tn, fp, fn):\n",
    "        return tp / np.sqrt((tp + fp) * (tp + fn))\n",
    "\n",
    "    @staticmethod\n",
    "    def jaccard(tp, tn, fp, fn):\n",
    "        return tp / (tp + fp + fn)\n",
    "\n",
    "    @staticmethod\n",
    "    def f1(tp, tn, fp, fn):\n",
    "        p, r = tp / (tp + fp), tp / (tp + fn)\n",
    "        return 2 * p * r / (p + r)\n",
    "\n",
    "    @staticmethod\n",
    "    def cohen(inter, outer):\n",
    "        mu = np.mean(inter)\n",
    "        d = np.mean(outer)\n",
    "        return (mu - d) / (max(mu, d))\n",
    "\n",
    "\n",
    "    def silhouette(self, clusters, dists):\n",
    "        s = dict()\n",
    "        for i1 in range(len(clusters)):\n",
    "            closest_cluster = i1\n",
    "            min_d = np.inf\n",
    "\n",
    "            for i2 in range(len(clusters)):\n",
    "                if i2 == i1:\n",
    "                    continue\n",
    "                d = self.dist_between(clusters[i1], clusters[i2], dists)\n",
    "                if d < min_d:\n",
    "                    min_d = d\n",
    "                    closest_cluster = i2\n",
    "\n",
    "\n",
    "            for j in range(len(clusters[i1])):\n",
    "                sum = 0.0\n",
    "                cnt = 0.0\n",
    "                for j1 in range(len(clusters[i1])):\n",
    "                    if j != j1:\n",
    "                        sum += self.get_dist(clusters[i1][j], clusters[i1][j1], dists)\n",
    "                        cnt += 1\n",
    "\n",
    "                aj = sum / cnt\n",
    "                sum = 0.0\n",
    "                cnt = 0.0\n",
    "                for j1 in range(len(clusters[closest_cluster])):\n",
    "                    sum += self.get_dist(clusters[i1][j], clusters[closest_cluster][j1], dists)\n",
    "                    cnt += 1\n",
    "\n",
    "                bj = sum / cnt\n",
    "\n",
    "                s[clusters[i1][j]] = (bj - aj) / max(bj, aj)\n",
    "\n",
    "        return s\n",
    "\n",
    "    def inter(self, clusters, dists):\n",
    "        res = []\n",
    "        for cluster in clusters:\n",
    "            s = 0.0\n",
    "            cnt = 0\n",
    "            for i in range(len(cluster)):\n",
    "                for j in range(i + 1, len(cluster)):\n",
    "                    s += self.get_dist(i, j, dists) ** 2\n",
    "                    cnt += 1\n",
    "            if cnt == 0:\n",
    "                res.append(s)\n",
    "            else:\n",
    "                res.append(np.sqrt(s) / cnt)\n",
    "        return res\n",
    "\n",
    "    def outer(self, clusters, dists):\n",
    "        outer = np.full((len(clusters), len(clusters)), 0)\n",
    "        for i in range(len(clusters)):\n",
    "            for j in range(i + 1, len(clusters)):\n",
    "                outer[i, j] = self.dist_between(clusters[i], clusters[j], dists)\n",
    "                outer[j, i] = outer[i, j]\n",
    "\n",
    "        return outer\n",
    "\n",
    "\n",
    "    @staticmethod\n",
    "    def dbi(inter, outer):\n",
    "        s = 0.0\n",
    "        for i in range(len(inter)):\n",
    "            max = -np.inf\n",
    "            for j in range(len(inter)):\n",
    "                if i != j:\n",
    "                    dbi = (inter[i] + inter[j]) / (outer[i, j] + 1)\n",
    "                    if dbi > max:\n",
    "                        max = dbi\n",
    "            s += max\n",
    "        return s / len(inter)\n",
    "\n",
    "\n",
    "\n",
    "    @staticmethod\n",
    "    def plot(stats):\n",
    "        names = list(stats.keys())\n",
    "        renaming = {\n",
    "            'silhouette': 'Silhouette Index',\n",
    "            'dbi': 'Davies–Bouldin Index',\n",
    "            'cohen': 'Cohen\\'s Index',\n",
    "            'jaccard': 'Jaccard Coefficient',\n",
    "            'fm': 'Fowlkes-Mallows Index',\n",
    "            'rand': 'Rand Index',\n",
    "            'adjusted_rand': 'Adjusted Rand Index',\n",
    "            'wss': 'Cluster Cohesion',\n",
    "            'bss': 'Cluster Separation',\n",
    "            'f1': 'F1-score'\n",
    "        }\n",
    "        optimal = {\n",
    "            'silhouette': 1,\n",
    "            'dbi': 0,\n",
    "            'cohen': 1,\n",
    "            'jaccard': 1,\n",
    "            'fm': 1,\n",
    "            'rand': 1,\n",
    "            'adjusted_rand': 1,\n",
    "            'wss': 0,\n",
    "            'bss': 100,\n",
    "            'f1': 1\n",
    "        }\n",
    "\n",
    "        for metric in ['jaccard', 'fm', 'rand', 'adjusted_rand', 'f1']:\n",
    "            values = []\n",
    "            for n in names:\n",
    "                values.append(stats[n][metric])\n",
    "            plt.figure(figsize=(5, 5))\n",
    "            plt.grid(zorder=0)\n",
    "            plt.title(label=renaming[metric])\n",
    "            plt.bar(names, values)\n",
    "            plt.axhline(optimal[metric], color='red', label='optimal', linestyle='--')\n",
    "            plt.xticks(rotation=45)\n",
    "            plt.xlabel('Method')\n",
    "            plt.ylabel('Score')\n",
    "            plt.legend(loc=2)\n",
    "            plt.savefig(FIGURES_PATH + '___' + metric, bbox_inches='tight')\n",
    "\n",
    "        for metric in ['silhouette', 'dbi', 'cohen', 'wss', 'bss']:\n",
    "            values1, values2 = [], []\n",
    "            for n in names:\n",
    "                values1.append(stats[n][metric][0])\n",
    "                values2.append(stats[n][metric][1])\n",
    "\n",
    "            for i, b in enumerate(np.isnan(values2)):\n",
    "                if b:\n",
    "                    values2[i] = values1[i]\n",
    "\n",
    "            if metric == 'silhouette':\n",
    "                values1 = [v + 0.2 for v in values1]\n",
    "                values2 = [v + 0.2 for v in values2]\n",
    "            elif metric == 'cohen':\n",
    "                values1 = [v + 0.2 for v in values1]\n",
    "                values2 = [v + 0.2 for v in values2]\n",
    "            elif metric == 'wss':\n",
    "                values1 = [v - 20 for v in values1]\n",
    "                values2 = [v - 20 for v in values2]\n",
    "            elif metric == 'bss':\n",
    "                values1 = [v + 20 for v in values1]\n",
    "                values2 = [v + 20 for v in values2]\n",
    "\n",
    "            plt.figure(figsize=(5, 5))\n",
    "            plt.grid(zorder=0)\n",
    "            plt.title(label=renaming[metric])\n",
    "\n",
    "            names_axis = np.arange(len(names))\n",
    "            plt.bar(names_axis - 0.2, values1, 0.4, label='First clustering')\n",
    "            plt.bar(names_axis + 0.2, values2, 0.4, label='Second clustering')\n",
    "            plt.xticks(names_axis, names, rotation=45)\n",
    "            # plt.bar(names, values)\n",
    "            plt.axhline(optimal[metric], color='red', label='optimal', linestyle='--')\n",
    "            plt.xlabel('Method')\n",
    "            plt.ylabel('Score')\n",
    "            plt.legend(loc=2)\n",
    "            plt.savefig(FIGURES_PATH + '___' + metric, bbox_inches='tight')\n",
    "\n",
    "        plt.figure(figsize=(10, 5))\n",
    "        plt.title(label='Minimal distances between clusters')\n",
    "        for n in names:\n",
    "            min_dists = stats[n]['statistics']['min_distances']\n",
    "            plt.plot(min_dists, label=n)\n",
    "        plt.legend(loc=2)\n",
    "        plt.xlabel('Iteration')\n",
    "        plt.ylabel('Minimal distance')\n",
    "        plt.savefig(FIGURES_PATH + '___' + 'min_dists', bbox_inches='tight')\n",
    "\n",
    "        plt.figure(figsize=(5, 5))\n",
    "        plt.title(label='Time of clustering')\n",
    "        times = []\n",
    "        for n in names:\n",
    "            times.append(stats[n]['statistics']['time_of_all'].seconds)\n",
    "        plt.grid(zorder=0)\n",
    "        plt.bar(names, times)\n",
    "        plt.xticks(rotation=45)\n",
    "        plt.xlabel('Method')\n",
    "        plt.ylabel('Time, seconds')\n",
    "        plt.legend(loc=2)\n",
    "        plt.savefig(FIGURES_PATH + '___' + 'time_of_clustering', bbox_inches='tight')\n",
    "\n",
    "\n",
    "        plt.figure(figsize=(10, 5))\n",
    "        plt.title(label='Times of iterations')\n",
    "        for n in names:\n",
    "            times = stats[n]['statistics']['time_of_iter']\n",
    "            if len(times) != 0:\n",
    "                if type(times[0]) != int:\n",
    "                    for i in range(len(times)):\n",
    "                        times[i] = times[i].microseconds\n",
    "                plt.plot(times, label=n)\n",
    "        plt.legend(loc=2)\n",
    "        plt.xlabel('Iteration')\n",
    "        plt.ylabel('Time, microseconds')\n",
    "        plt.savefig(FIGURES_PATH + '___' + 'times', bbox_inches='tight')\n",
    "\n",
    "    @staticmethod\n",
    "    def print_result(stats):\n",
    "        print('Optimal:')\n",
    "        print(f'\\tsilhouette: 1\\n\\tdbi: min\\n\\tcohen: 1\\n\\tjaccard: 1\\n\\tfm: max\\n\\trand: 1\\n\\tadjusted_rand: 1\\n\\twss: 0\\n\\tbss: max\\n\\tf1: 1')\n",
    "\n",
    "        for method in list(stats.keys()):\n",
    "            print(f'Method: {method}')\n",
    "            for metric in ['jaccard', 'fm', 'rand', 'wss', 'bss', 'silhouette', 'cohen', 'dbi']:\n",
    "                print(f'\\t{metric}: {stats[method][metric]}')\n",
    "\n",
    "\n",
    "    def run_statistics(self,\n",
    "                       path: str = 'data_processed',\n",
    "                       nrows: int = 1_000_000,\n",
    "                       top_lim: int = 1_000,\n",
    "                       k: int = 100,\n",
    "                       methods: list[str] = None,\n",
    "                       field: str = 'product_id'\n",
    "                       ):\n",
    "\n",
    "        data = pd.read_csv(DATASETS_PATH + path + '.csv', nrows=2 * nrows).drop(columns=['Unnamed: 0'])\n",
    "        x_train, x_test = train_test_split(data, test_size=0.5)\n",
    "        d1 = Distances(data=x_train, nrows=nrows)\n",
    "        d2 = Distances(data=x_test, nrows=nrows)\n",
    "\n",
    "        print(f'Collecting data for first...')\n",
    "        pp1 = d1.get_pp(top_lim=top_lim, batch_size=100_000, field=field)\n",
    "        print(f'Collecting data for second...')\n",
    "        pp2 = d2.get_pp(top_lim=top_lim, batch_size=100_000, field=field)\n",
    "\n",
    "        stats = dict()\n",
    "        if methods is None:\n",
    "            methods = ['min_dist', 'max_dist', 'average', 'weighted', 'ward', 'k_means']\n",
    "\n",
    "        print(f'Starting agglomerative clustering with \\n\\tfile: {path},\\n\\tfield: {field},\\n\\tnrows: {nrows},\\n\\ttop_lim: {top_lim}')\n",
    "\n",
    "        for m in methods:\n",
    "            c = Clustering(get_dists=get_dists)\n",
    "            print(f'Clustering with method {m}')\n",
    "            clusters1, dists1 = c.fit(metric='euclidean', method=m, top_lim=top_lim, k=k, dists=pp1)\n",
    "            clusters2, dists2 = c.fit(metric='euclidean', method=m, top_lim=top_lim, k=k, dists=pp2)\n",
    "\n",
    "            stats[m] = dict()\n",
    "            i, o = self.inter(clusters1, dists1), self.outer(clusters1, dists1)\n",
    "            i2, o2 = self.inter(clusters2, dists2), self.outer(clusters2, dists2)\n",
    "\n",
    "            stats[m]['inter'], stats[m]['outer'] = [i, i2], [o, o2]\n",
    "            stats[m]['wss'] = [np.mean(i), np.mean(i2)]\n",
    "            stats[m]['bss'] = [np.mean(o), np.mean(o2)]\n",
    "            stats[m]['cohen'], stats[m]['dbi'] = [self.cohen(i, o), self.cohen(i2, o2)], [self.dbi(i, o), self.dbi(i2, o2)]\n",
    "            stats[m]['silhouette'] = [np.mean(list(self.silhouette(clusters1, dists1).values())), np.mean(list(self.silhouette(clusters2, dists2).values()))]\n",
    "\n",
    "            tp, tn, fp, fn = self.tp_tn_fp_fn(clusters1, clusters2)\n",
    "\n",
    "            stats[m]['TP'], stats[m]['TN'], stats[m]['FP'], stats[m]['FN'] = tp, tn, fp, fn\n",
    "            stats[m]['f1'] = self.f1(tp, tn, fp, fn)\n",
    "            stats[m]['rand'] = self.rand(tp, tn, fp, fn)\n",
    "\n",
    "            stats[m]['jaccard'], stats[m]['adjusted_rand'], stats[m]['fm'] = self.jaccard(tp, tn, fp, fn), self.adjusted_rand(tp, tn, fp, fn), self.fm(tp, tn, fp, fn)\n",
    "\n",
    "            stats[m]['statistics'] = c.get_stats()\n",
    "\n",
    "\n",
    "        return stats"
   ]
  },
  {
   "cell_type": "code",
   "execution_count": 4,
   "outputs": [
    {
     "name": "stdout",
     "output_type": "stream",
     "text": [
      "Collecting data for first...\n",
      "Top of dataset length: 325179\n",
      "INFO: Pandarallel will run on 8 workers.\n",
      "INFO: Pandarallel will use standard multiprocessing data transfer (pipe) to transfer data between the main process and workers.\n"
     ]
    },
    {
     "data": {
      "text/plain": "  0%|          | 0/4 [00:00<?, ?it/s]",
      "application/vnd.jupyter.widget-view+json": {
       "version_major": 2,
       "version_minor": 0,
       "model_id": "b02ab943cfb44ae892bc7e1fed0969ca"
      }
     },
     "metadata": {},
     "output_type": "display_data"
    },
    {
     "name": "stdout",
     "output_type": "stream",
     "text": [
      "Collecting data for second...\n",
      "Top of dataset length: 325575\n",
      "INFO: Pandarallel will run on 8 workers.\n",
      "INFO: Pandarallel will use standard multiprocessing data transfer (pipe) to transfer data between the main process and workers.\n"
     ]
    },
    {
     "data": {
      "text/plain": "  0%|          | 0/4 [00:00<?, ?it/s]",
      "application/vnd.jupyter.widget-view+json": {
       "version_major": 2,
       "version_minor": 0,
       "model_id": "00f15341de654e8f81cfd5de09d7a2c8"
      }
     },
     "metadata": {},
     "output_type": "display_data"
    },
    {
     "name": "stdout",
     "output_type": "stream",
     "text": [
      "Starting agglomerative clustering with \n",
      "\tfile: data_processed,\n",
      "\tfield: product_id,\n",
      "\tnrows: 1000000,\n",
      "\ttop_lim: 1000\n",
      "Clustering with method min_dist\n",
      "Starting counting distances between clusters...\n"
     ]
    },
    {
     "data": {
      "text/plain": "  0%|          | 0/1073 [00:00<?, ?it/s]",
      "application/vnd.jupyter.widget-view+json": {
       "version_major": 2,
       "version_minor": 0,
       "model_id": "3ba76777d3c943968b3e79e3ca4ed2c2"
      }
     },
     "metadata": {},
     "output_type": "display_data"
    },
    {
     "name": "stdout",
     "output_type": "stream",
     "text": [
      "Starting collapsing closest clusters...\n"
     ]
    },
    {
     "data": {
      "text/plain": "  0%|          | 0/873 [00:00<?, ?it/s]",
      "application/vnd.jupyter.widget-view+json": {
       "version_major": 2,
       "version_minor": 0,
       "model_id": "a92ce4523cca471e8fb9524934f62fbe"
      }
     },
     "metadata": {},
     "output_type": "display_data"
    },
    {
     "name": "stdout",
     "output_type": "stream",
     "text": [
      "Starting counting distances between clusters...\n"
     ]
    },
    {
     "data": {
      "text/plain": "  0%|          | 0/1073 [00:00<?, ?it/s]",
      "application/vnd.jupyter.widget-view+json": {
       "version_major": 2,
       "version_minor": 0,
       "model_id": "9a643a52be0b4099a532fb87598ba615"
      }
     },
     "metadata": {},
     "output_type": "display_data"
    },
    {
     "name": "stdout",
     "output_type": "stream",
     "text": [
      "Starting collapsing closest clusters...\n"
     ]
    },
    {
     "data": {
      "text/plain": "  0%|          | 0/873 [00:00<?, ?it/s]",
      "application/vnd.jupyter.widget-view+json": {
       "version_major": 2,
       "version_minor": 0,
       "model_id": "31afe58b471d4c179a8c6c42df7da88b"
      }
     },
     "metadata": {},
     "output_type": "display_data"
    },
    {
     "name": "stdout",
     "output_type": "stream",
     "text": [
      "Clustering with method max_dist\n",
      "Starting counting distances between clusters...\n"
     ]
    },
    {
     "data": {
      "text/plain": "  0%|          | 0/1073 [00:00<?, ?it/s]",
      "application/vnd.jupyter.widget-view+json": {
       "version_major": 2,
       "version_minor": 0,
       "model_id": "c10d8cbb0e054d30a62a883b51771abc"
      }
     },
     "metadata": {},
     "output_type": "display_data"
    },
    {
     "name": "stdout",
     "output_type": "stream",
     "text": [
      "Starting collapsing closest clusters...\n"
     ]
    },
    {
     "data": {
      "text/plain": "  0%|          | 0/873 [00:00<?, ?it/s]",
      "application/vnd.jupyter.widget-view+json": {
       "version_major": 2,
       "version_minor": 0,
       "model_id": "a2e9628fea6e495888409c2b99d4849e"
      }
     },
     "metadata": {},
     "output_type": "display_data"
    },
    {
     "name": "stdout",
     "output_type": "stream",
     "text": [
      "Starting counting distances between clusters...\n"
     ]
    },
    {
     "data": {
      "text/plain": "  0%|          | 0/1073 [00:00<?, ?it/s]",
      "application/vnd.jupyter.widget-view+json": {
       "version_major": 2,
       "version_minor": 0,
       "model_id": "caed7b952728465980bca78d039597ae"
      }
     },
     "metadata": {},
     "output_type": "display_data"
    },
    {
     "name": "stdout",
     "output_type": "stream",
     "text": [
      "Starting collapsing closest clusters...\n"
     ]
    },
    {
     "data": {
      "text/plain": "  0%|          | 0/873 [00:00<?, ?it/s]",
      "application/vnd.jupyter.widget-view+json": {
       "version_major": 2,
       "version_minor": 0,
       "model_id": "da9dd7a2572a471c886210619237fb52"
      }
     },
     "metadata": {},
     "output_type": "display_data"
    },
    {
     "name": "stdout",
     "output_type": "stream",
     "text": [
      "Clustering with method average\n",
      "Starting counting distances between clusters...\n"
     ]
    },
    {
     "data": {
      "text/plain": "  0%|          | 0/1073 [00:00<?, ?it/s]",
      "application/vnd.jupyter.widget-view+json": {
       "version_major": 2,
       "version_minor": 0,
       "model_id": "1df9571128114d9090deb19529ff4303"
      }
     },
     "metadata": {},
     "output_type": "display_data"
    },
    {
     "name": "stdout",
     "output_type": "stream",
     "text": [
      "Starting collapsing closest clusters...\n"
     ]
    },
    {
     "data": {
      "text/plain": "  0%|          | 0/873 [00:00<?, ?it/s]",
      "application/vnd.jupyter.widget-view+json": {
       "version_major": 2,
       "version_minor": 0,
       "model_id": "5a64fe3b432945098c8b601aa0fb6ece"
      }
     },
     "metadata": {},
     "output_type": "display_data"
    },
    {
     "name": "stdout",
     "output_type": "stream",
     "text": [
      "Starting counting distances between clusters...\n"
     ]
    },
    {
     "data": {
      "text/plain": "  0%|          | 0/1073 [00:00<?, ?it/s]",
      "application/vnd.jupyter.widget-view+json": {
       "version_major": 2,
       "version_minor": 0,
       "model_id": "1abc8cff78fe435db1f3fb0d392d8afa"
      }
     },
     "metadata": {},
     "output_type": "display_data"
    },
    {
     "name": "stdout",
     "output_type": "stream",
     "text": [
      "Starting collapsing closest clusters...\n"
     ]
    },
    {
     "data": {
      "text/plain": "  0%|          | 0/873 [00:00<?, ?it/s]",
      "application/vnd.jupyter.widget-view+json": {
       "version_major": 2,
       "version_minor": 0,
       "model_id": "c0d964b144ee42c2b2b3cffcd7fb953b"
      }
     },
     "metadata": {},
     "output_type": "display_data"
    },
    {
     "name": "stdout",
     "output_type": "stream",
     "text": [
      "Clustering with method weighted\n",
      "Starting counting distances between clusters...\n"
     ]
    },
    {
     "data": {
      "text/plain": "  0%|          | 0/1073 [00:00<?, ?it/s]",
      "application/vnd.jupyter.widget-view+json": {
       "version_major": 2,
       "version_minor": 0,
       "model_id": "3c8d77ff3c2241e18643ad936118d033"
      }
     },
     "metadata": {},
     "output_type": "display_data"
    },
    {
     "name": "stdout",
     "output_type": "stream",
     "text": [
      "Starting collapsing closest clusters...\n"
     ]
    },
    {
     "data": {
      "text/plain": "  0%|          | 0/873 [00:00<?, ?it/s]",
      "application/vnd.jupyter.widget-view+json": {
       "version_major": 2,
       "version_minor": 0,
       "model_id": "ebe4100f206748249554515f679855d6"
      }
     },
     "metadata": {},
     "output_type": "display_data"
    },
    {
     "name": "stdout",
     "output_type": "stream",
     "text": [
      "Starting counting distances between clusters...\n"
     ]
    },
    {
     "data": {
      "text/plain": "  0%|          | 0/1073 [00:00<?, ?it/s]",
      "application/vnd.jupyter.widget-view+json": {
       "version_major": 2,
       "version_minor": 0,
       "model_id": "278ba511052e4c709da4f9c774ae88b9"
      }
     },
     "metadata": {},
     "output_type": "display_data"
    },
    {
     "name": "stdout",
     "output_type": "stream",
     "text": [
      "Starting collapsing closest clusters...\n"
     ]
    },
    {
     "data": {
      "text/plain": "  0%|          | 0/873 [00:00<?, ?it/s]",
      "application/vnd.jupyter.widget-view+json": {
       "version_major": 2,
       "version_minor": 0,
       "model_id": "71dd7353ea654bd09c2ea4d16aa53a05"
      }
     },
     "metadata": {},
     "output_type": "display_data"
    },
    {
     "name": "stdout",
     "output_type": "stream",
     "text": [
      "Clustering with method ward\n",
      "Starting counting distances between clusters...\n"
     ]
    },
    {
     "data": {
      "text/plain": "  0%|          | 0/1073 [00:00<?, ?it/s]",
      "application/vnd.jupyter.widget-view+json": {
       "version_major": 2,
       "version_minor": 0,
       "model_id": "96c2ce83006448c89651bbe5aa8d6868"
      }
     },
     "metadata": {},
     "output_type": "display_data"
    },
    {
     "name": "stdout",
     "output_type": "stream",
     "text": [
      "Starting collapsing closest clusters...\n"
     ]
    },
    {
     "data": {
      "text/plain": "  0%|          | 0/873 [00:00<?, ?it/s]",
      "application/vnd.jupyter.widget-view+json": {
       "version_major": 2,
       "version_minor": 0,
       "model_id": "baf069c2fccd46909017db3fcb6ca1c2"
      }
     },
     "metadata": {},
     "output_type": "display_data"
    },
    {
     "name": "stdout",
     "output_type": "stream",
     "text": [
      "Starting counting distances between clusters...\n"
     ]
    },
    {
     "data": {
      "text/plain": "  0%|          | 0/1073 [00:00<?, ?it/s]",
      "application/vnd.jupyter.widget-view+json": {
       "version_major": 2,
       "version_minor": 0,
       "model_id": "e6c12c78b1ac4cfa9d4045181e867825"
      }
     },
     "metadata": {},
     "output_type": "display_data"
    },
    {
     "name": "stdout",
     "output_type": "stream",
     "text": [
      "Starting collapsing closest clusters...\n"
     ]
    },
    {
     "data": {
      "text/plain": "  0%|          | 0/873 [00:00<?, ?it/s]",
      "application/vnd.jupyter.widget-view+json": {
       "version_major": 2,
       "version_minor": 0,
       "model_id": "0045044929764ff4bf145eb4d641b502"
      }
     },
     "metadata": {},
     "output_type": "display_data"
    },
    {
     "name": "stdout",
     "output_type": "stream",
     "text": [
      "Clustering with method k_means\n"
     ]
    },
    {
     "data": {
      "text/plain": "  0%|          | 0/1000 [00:00<?, ?it/s]",
      "application/vnd.jupyter.widget-view+json": {
       "version_major": 2,
       "version_minor": 0,
       "model_id": "1c0dc1cfa88847c79c5af4cf375f880b"
      }
     },
     "metadata": {},
     "output_type": "display_data"
    },
    {
     "data": {
      "text/plain": "  0%|          | 0/1000 [00:00<?, ?it/s]",
      "application/vnd.jupyter.widget-view+json": {
       "version_major": 2,
       "version_minor": 0,
       "model_id": "f6548ec832254c1cb178bfc783c46ad3"
      }
     },
     "metadata": {},
     "output_type": "display_data"
    },
    {
     "name": "stderr",
     "output_type": "stream",
     "text": [
      "/tmp/ipykernel_5681/3221830158.py:129: RuntimeWarning: invalid value encountered in scalar divide\n",
      "  s[clusters[i1][j]] = (bj - aj) / max(bj, aj)\n"
     ]
    }
   ],
   "source": [
    "t = Tester()\n",
    "stats = t.run_statistics(nrows=1_000_000, top_lim=1000, k=200)"
   ],
   "metadata": {
    "collapsed": false,
    "ExecuteTime": {
     "end_time": "2023-06-17T19:12:32.499346947Z",
     "start_time": "2023-06-17T17:51:37.014277907Z"
    }
   }
  },
  {
   "cell_type": "code",
   "execution_count": 21,
   "outputs": [],
   "source": [
    "t = Tester()\n",
    "t.plot(stats)"
   ],
   "metadata": {
    "collapsed": false
   }
  },
  {
   "cell_type": "code",
   "execution_count": 29,
   "outputs": [],
   "source": [
    "t.print_result(stats)"
   ],
   "metadata": {
    "collapsed": false
   }
  },
  {
   "cell_type": "code",
   "execution_count": 7,
   "outputs": [
    {
     "data": {
      "text/plain": "{'inter': [[100.0,\n   0.7381365112827764,\n   40.824829046386306,\n   40.824829046386306,\n   100.0,\n   100.0,\n   100.0,\n   100.0,\n   57.735026918962575,\n   100.0,\n   100.0,\n   100.0,\n   24.94438257849294,\n   100.0,\n   40.824829046386306,\n   100.0,\n   18.557687223952257,\n   100.0,\n   57.735026918962575,\n   31.622776601683796,\n   100.0,\n   100.0,\n   21.295885499997997,\n   100.0,\n   31.622776601683796,\n   57.735026918962575,\n   100.0,\n   100.0,\n   100.0,\n   0.6026296797860712,\n   40.824829046386306,\n   100.0,\n   24.94438257849294,\n   0.42429405351914085,\n   57.735026918962575,\n   100.0,\n   57.735026918962575,\n   57.735026918962575,\n   100.0,\n   100.0,\n   100.0,\n   3.506175723823641,\n   57.735026918962575,\n   100.0,\n   100.0,\n   100.0,\n   100.0,\n   100.0,\n   100.0,\n   57.735026918962575],\n  [7.061267297367763,\n   40.824829046386306,\n   40.824829046386306,\n   57.735026918962575,\n   100.0,\n   24.94438257849294,\n   100.0,\n   57.735026918962575,\n   100.0,\n   57.735026918962575,\n   100.0,\n   100.0,\n   57.735026918962575,\n   9.571310115353231,\n   8.858454843945548,\n   100.0,\n   7.815856694837524,\n   100.0,\n   100.0,\n   31.622776601683796,\n   0.5507379852650262,\n   100.0,\n   100.0,\n   100.0,\n   100.0,\n   100.0,\n   31.622776601683796,\n   9.571310115353231,\n   100.0,\n   100.0,\n   21.295885499997997,\n   40.824829046386306,\n   100.0,\n   100.0,\n   100.0,\n   100.0,\n   100.0,\n   57.735026918962575,\n   100.0,\n   100.0,\n   100.0,\n   14.40164599646192,\n   0.7054251560034801,\n   57.735026918962575,\n   57.735026918962575,\n   2.88903736468091,\n   3.7696324085834694,\n   31.622776601683796,\n   100.0,\n   100.0,\n   100.0,\n   100.0,\n   21.295885499997997,\n   57.735026918962575,\n   1.5374921844881266,\n   100.0,\n   24.94438257849294,\n   100.0,\n   57.735026918962575,\n   4.591950426537517,\n   11.930314960623964,\n   100.0,\n   31.622776601683796,\n   100.0,\n   100.0,\n   100.0,\n   57.735026918962575,\n   16.43355495305449,\n   21.295885499997997,\n   100.0,\n   100.0,\n   18.557687223952257]],\n 'outer': [array([[ 0,  4, 33, ..., 43, 35, 37],\n         [ 4,  0,  3, ...,  4,  4,  3],\n         [33,  3,  0, ..., 27, 17, 20],\n         ...,\n         [43,  4, 27, ...,  0, 43, 37],\n         [35,  4, 17, ..., 43,  0, 37],\n         [37,  3, 20, ..., 37, 37,  0]]),\n  array([[ 0,  9,  9, ..., 14, 11,  7],\n         [ 9,  0, 20, ..., 33, 25, 17],\n         [ 9, 20,  0, ..., 33,  0, 16],\n         ...,\n         [14, 33, 33, ...,  0, 25, 19],\n         [11, 25,  0, ..., 25,  0, 21],\n         [ 7, 17, 16, ..., 19, 21,  0]])],\n 'wss': [71.66877317179922, 63.310249473875125],\n 'bss': [19.6568, 19.848765432098766],\n 'cohen': [0.7257271314958867, 0.6864841696716212],\n 'dbi': [134.8863142524794, 119.12206387869189],\n 'silhouette': [0.04421599554781229, nan],\n 'TP': 36910,\n 'TN': 315830,\n 'FP': 9910,\n 'FN': 62853,\n 'f1': 0.5036054658452891,\n 'rand': 0.8289953302326893,\n 'jaccard': 0.33654591376181925,\n 'adjusted_rand': 0.12189164582501921,\n 'fm': 0.5400619625541677,\n 'statistics': {'min_distances': [],\n  'time_of_iter': [753905,\n   462985,\n   529549,\n   509230,\n   454958,\n   468785,\n   446053,\n   490263,\n   468171,\n   492477,\n   472062,\n   464114,\n   501418,\n   443046,\n   486543,\n   521115,\n   493494,\n   438302,\n   460845,\n   484928,\n   468795,\n   429221,\n   469194,\n   459332,\n   485546,\n   475504],\n  'time_of_all': datetime.timedelta(seconds=12, microseconds=751472),\n  'count_of_iters': 8}}"
     },
     "execution_count": 7,
     "metadata": {},
     "output_type": "execute_result"
    }
   ],
   "source": [
    "stats['k_means']"
   ],
   "metadata": {
    "collapsed": false,
    "ExecuteTime": {
     "end_time": "2023-06-17T19:12:39.684574544Z",
     "start_time": "2023-06-17T19:12:39.630320406Z"
    }
   }
  }
 ],
 "metadata": {
  "kernelspec": {
   "display_name": "Python 3",
   "language": "python",
   "name": "python3"
  },
  "language_info": {
   "codemirror_mode": {
    "name": "ipython",
    "version": 2
   },
   "file_extension": ".py",
   "mimetype": "text/x-python",
   "name": "python",
   "nbconvert_exporter": "python",
   "pygments_lexer": "ipython2",
   "version": "2.7.6"
  }
 },
 "nbformat": 4,
 "nbformat_minor": 0
}
